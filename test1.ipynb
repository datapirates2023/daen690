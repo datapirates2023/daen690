{
 "cells": [
  {
   "cell_type": "code",
   "execution_count": 33,
   "id": "9d371a43",
   "metadata": {},
   "outputs": [],
   "source": [
    "## import library"
   ]
  },
  {
   "cell_type": "code",
   "execution_count": 34,
   "id": "0673d531",
   "metadata": {},
   "outputs": [],
   "source": [
    "import pandas as pd\n",
    "import numpy as np"
   ]
  },
  {
   "cell_type": "code",
   "execution_count": 35,
   "id": "31946010",
   "metadata": {},
   "outputs": [],
   "source": [
    "## import dataset"
   ]
  },
  {
   "cell_type": "code",
   "execution_count": 36,
   "id": "613bad74",
   "metadata": {},
   "outputs": [
    {
     "name": "stderr",
     "output_type": "stream",
     "text": [
      "C:\\Users\\ohwon\\anaconda3\\lib\\site-packages\\IPython\\core\\interactiveshell.py:3165: DtypeWarning: Columns (96) have mixed types.Specify dtype option on import or set low_memory=False.\n",
      "  has_raised = await self.run_ast_nodes(code_ast.body, cell_name,\n"
     ]
    }
   ],
   "source": [
    "## datasets are too big to upload on github.\n",
    "## access on onedrive, daen690/dataset/csv data\n",
    "df1 = pd.read_csv(\"SimData1.csv\")\n",
    "df2 = pd.read_csv(\"SimData2.csv\")\n",
    "df3 = pd.read_csv(\"SimData3.csv\")"
   ]
  },
  {
   "cell_type": "code",
   "execution_count": 37,
   "id": "5c61b682",
   "metadata": {},
   "outputs": [
    {
     "name": "stdout",
     "output_type": "stream",
     "text": [
      "(228004, 108) (77043, 108) (123794, 108)\n"
     ]
    }
   ],
   "source": [
    "print(df1.shape, df2.shape, df3.shape)"
   ]
  },
  {
   "cell_type": "code",
   "execution_count": 38,
   "id": "61cf479c",
   "metadata": {},
   "outputs": [],
   "source": [
    "## combine dataset"
   ]
  },
  {
   "cell_type": "code",
   "execution_count": 39,
   "id": "060cb120",
   "metadata": {},
   "outputs": [
    {
     "data": {
      "text/plain": [
       "(428841, 108)"
      ]
     },
     "execution_count": 39,
     "metadata": {},
     "output_type": "execute_result"
    }
   ],
   "source": [
    "df = pd.concat([df1, df2], axis=0)\n",
    "df = pd.concat([df, df3], axis=0)\n",
    "\n",
    "df.shape"
   ]
  },
  {
   "cell_type": "code",
   "execution_count": 40,
   "id": "e7c11a12",
   "metadata": {},
   "outputs": [],
   "source": [
    "## reduce dimension"
   ]
  },
  {
   "cell_type": "code",
   "execution_count": 41,
   "id": "762b5285",
   "metadata": {},
   "outputs": [
    {
     "data": {
      "text/plain": [
       "(428841, 38)"
      ]
     },
     "execution_count": 41,
     "metadata": {},
     "output_type": "execute_result"
    }
   ],
   "source": [
    "phy_param = ['_id', 'timestamp', 'seconds', 'latitude', 'longitude', 'gpsAltitude', 'absoluteAltitude', 'trueHeading', 'pitch', 'roll', 'yaw', 'groundSpeed', 'trueAirspeed', 'climbOrDescentRate', 'pilotRadioAltitude', 'copilotRadioAltitude', 'groundTrack', 'rollRate', 'pitchRate', 'yawRate', 'turnRate to degPerSec', 'angleOfAttack', 'rollAcceleration', 'pitchAcceleration', 'yawAcceleration', 'normalAcceleration', 'lateralAcceleration', 'longitudinalAcceleration', 'collectivePosition','antiTorquePedalPosition', 'throttlePosition', 'hasParkingBrakeEngaged', 'hasLandingGearDown', 'hasRotorBrakeEngaged', 'mainRotorRpm', 'tailRotorRpm', 'mainRotorTorque', 'surfaceWindDirection']\n",
    "df = df[phy_param]\n",
    "df.shape"
   ]
  },
  {
   "cell_type": "code",
   "execution_count": 42,
   "id": "85690852",
   "metadata": {},
   "outputs": [],
   "source": [
    "## take care of missing data"
   ]
  },
  {
   "cell_type": "code",
   "execution_count": 43,
   "id": "64270e7c",
   "metadata": {},
   "outputs": [
    {
     "data": {
      "text/plain": [
       "_id                         0\n",
       "timestamp                   0\n",
       "seconds                     0\n",
       "latitude                    0\n",
       "longitude                   0\n",
       "gpsAltitude                 0\n",
       "absoluteAltitude            0\n",
       "trueHeading                 0\n",
       "pitch                       0\n",
       "roll                        0\n",
       "yaw                         0\n",
       "groundSpeed                 0\n",
       "trueAirspeed                0\n",
       "climbOrDescentRate          0\n",
       "pilotRadioAltitude          0\n",
       "copilotRadioAltitude        0\n",
       "groundTrack                 0\n",
       "rollRate                    0\n",
       "pitchRate                   0\n",
       "yawRate                     0\n",
       "turnRate to degPerSec       0\n",
       "angleOfAttack               0\n",
       "rollAcceleration            0\n",
       "pitchAcceleration           0\n",
       "yawAcceleration             0\n",
       "normalAcceleration          0\n",
       "lateralAcceleration         0\n",
       "longitudinalAcceleration    0\n",
       "collectivePosition          0\n",
       "antiTorquePedalPosition     0\n",
       "throttlePosition            0\n",
       "hasParkingBrakeEngaged      0\n",
       "hasLandingGearDown          0\n",
       "hasRotorBrakeEngaged        0\n",
       "mainRotorRpm                0\n",
       "tailRotorRpm                0\n",
       "mainRotorTorque             0\n",
       "surfaceWindDirection        0\n",
       "dtype: int64"
      ]
     },
     "execution_count": 43,
     "metadata": {},
     "output_type": "execute_result"
    }
   ],
   "source": [
    "df.isnull().sum()"
   ]
  },
  {
   "cell_type": "code",
   "execution_count": 44,
   "id": "11e55d29",
   "metadata": {},
   "outputs": [],
   "source": [
    "df.to_csv(\"SimData.csv\", index=False)"
   ]
  },
  {
   "cell_type": "code",
   "execution_count": null,
   "id": "0daa5380",
   "metadata": {},
   "outputs": [],
   "source": []
  }
 ],
 "metadata": {
  "kernelspec": {
   "display_name": "Python 3",
   "language": "python",
   "name": "python3"
  },
  "language_info": {
   "codemirror_mode": {
    "name": "ipython",
    "version": 3
   },
   "file_extension": ".py",
   "mimetype": "text/x-python",
   "name": "python",
   "nbconvert_exporter": "python",
   "pygments_lexer": "ipython3",
   "version": "3.8.8"
  }
 },
 "nbformat": 4,
 "nbformat_minor": 5
}
