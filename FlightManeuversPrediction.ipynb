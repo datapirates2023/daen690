{
  "cells": [
    {
      "cell_type": "markdown",
      "id": "2a8457a8",
      "metadata": {
        "id": "2a8457a8"
      },
      "source": [
        "# Data preparation"
      ]
    },
    {
      "cell_type": "markdown",
      "id": "31de9e92",
      "metadata": {
        "id": "31de9e92"
      },
      "source": [
        "## Importing libraries\n"
      ]
    },
    {
      "cell_type": "code",
      "execution_count": null,
      "id": "dkl5Ayy7WeUd",
      "metadata": {
        "colab": {
          "base_uri": "https://localhost:8080/"
        },
        "id": "dkl5Ayy7WeUd",
        "outputId": "3ea180e1-c47b-4427-adee-ebeaa07b6e92"
      },
      "outputs": [
        {
          "output_type": "stream",
          "name": "stdout",
          "text": [
            "Mounted at /content/drive\n"
          ]
        }
      ],
      "source": [
        " from google.colab import drive\n",
        " drive.mount('/content/drive')"
      ]
    },
    {
      "cell_type": "code",
      "execution_count": null,
      "id": "7865518f",
      "metadata": {
        "id": "7865518f"
      },
      "outputs": [],
      "source": [
        "#import data manipulation and analysis packages\n",
        "import pandas as pd\n",
        "import numpy as np\n",
        "import seaborn as sns\n",
        "import matplotlib.pyplot as plt\n",
        "from datetime import datetime as dt\n",
        "\n",
        "#import tensorflow/keras packages (for autoencoder)\n",
        "from keras.layers import Dense, Input, Conv2D, LSTM, MaxPool2D, UpSampling2D\n",
        "from sklearn.model_selection import train_test_split\n",
        "from keras.callbacks import EarlyStopping\n",
        "from keras.utils import to_categorical\n",
        "from numpy import argmax, array_equal\n",
        "import matplotlib.pyplot as plt\n",
        "from keras.models import Model\n",
        "from imgaug import augmenters\n",
        "from random import randint\n",
        "from keras import Sequential\n",
        "from keras import regularizers\n",
        "from sklearn.manifold import TSNE\n",
        "from sklearn.linear_model import LogisticRegression\n",
        "from sklearn.metrics import classification_report\n",
        "from sklearn.metrics import accuracy_score\n",
        "from sklearn import preprocessing"
      ]
    },
    {
      "cell_type": "markdown",
      "id": "e53f0c9d",
      "metadata": {
        "id": "e53f0c9d"
      },
      "source": [
        "## Importing Dataset"
      ]
    },
    {
      "cell_type": "code",
      "execution_count": null,
      "id": "c5dcf454",
      "metadata": {
        "colab": {
          "base_uri": "https://localhost:8080/",
          "height": 382
        },
        "id": "c5dcf454",
        "outputId": "16fcc976-558b-4775-c2e2-664384f39382"
      },
      "outputs": [
        {
          "output_type": "error",
          "ename": "FileNotFoundError",
          "evalue": "ignored",
          "traceback": [
            "\u001b[0;31m---------------------------------------------------------------------------\u001b[0m",
            "\u001b[0;31mFileNotFoundError\u001b[0m                         Traceback (most recent call last)",
            "\u001b[0;32m<ipython-input-3-008d29c1b3a5>\u001b[0m in \u001b[0;36m<cell line: 2>\u001b[0;34m()\u001b[0m\n\u001b[1;32m      1\u001b[0m \u001b[0;31m# import data on 10/06/2022\u001b[0m\u001b[0;34m\u001b[0m\u001b[0;34m\u001b[0m\u001b[0m\n\u001b[0;32m----> 2\u001b[0;31m \u001b[0mdf1\u001b[0m \u001b[0;34m=\u001b[0m \u001b[0mpd\u001b[0m\u001b[0;34m.\u001b[0m\u001b[0mread_csv\u001b[0m\u001b[0;34m(\u001b[0m\u001b[0;34m\"SimData_221006_1.csv\"\u001b[0m\u001b[0;34m)\u001b[0m\u001b[0;34m\u001b[0m\u001b[0;34m\u001b[0m\u001b[0m\n\u001b[0m\u001b[1;32m      3\u001b[0m \u001b[0mdf2\u001b[0m \u001b[0;34m=\u001b[0m \u001b[0mpd\u001b[0m\u001b[0;34m.\u001b[0m\u001b[0mread_csv\u001b[0m\u001b[0;34m(\u001b[0m\u001b[0;34m\"SimData_221006_2.csv\"\u001b[0m\u001b[0;34m)\u001b[0m\u001b[0;34m\u001b[0m\u001b[0;34m\u001b[0m\u001b[0m\n\u001b[1;32m      4\u001b[0m \u001b[0mdf3\u001b[0m \u001b[0;34m=\u001b[0m \u001b[0mpd\u001b[0m\u001b[0;34m.\u001b[0m\u001b[0mread_csv\u001b[0m\u001b[0;34m(\u001b[0m\u001b[0;34m\"SimData_221006_3.csv\"\u001b[0m\u001b[0;34m)\u001b[0m\u001b[0;34m\u001b[0m\u001b[0;34m\u001b[0m\u001b[0m\n\u001b[1;32m      5\u001b[0m \u001b[0mdf4\u001b[0m \u001b[0;34m=\u001b[0m \u001b[0mpd\u001b[0m\u001b[0;34m.\u001b[0m\u001b[0mread_csv\u001b[0m\u001b[0;34m(\u001b[0m\u001b[0;34m\"SimData_221006_4.csv\"\u001b[0m\u001b[0;34m)\u001b[0m\u001b[0;34m\u001b[0m\u001b[0;34m\u001b[0m\u001b[0m\n",
            "\u001b[0;32m/usr/local/lib/python3.9/dist-packages/pandas/util/_decorators.py\u001b[0m in \u001b[0;36mwrapper\u001b[0;34m(*args, **kwargs)\u001b[0m\n\u001b[1;32m    209\u001b[0m                 \u001b[0;32melse\u001b[0m\u001b[0;34m:\u001b[0m\u001b[0;34m\u001b[0m\u001b[0;34m\u001b[0m\u001b[0m\n\u001b[1;32m    210\u001b[0m                     \u001b[0mkwargs\u001b[0m\u001b[0;34m[\u001b[0m\u001b[0mnew_arg_name\u001b[0m\u001b[0;34m]\u001b[0m \u001b[0;34m=\u001b[0m \u001b[0mnew_arg_value\u001b[0m\u001b[0;34m\u001b[0m\u001b[0;34m\u001b[0m\u001b[0m\n\u001b[0;32m--> 211\u001b[0;31m             \u001b[0;32mreturn\u001b[0m \u001b[0mfunc\u001b[0m\u001b[0;34m(\u001b[0m\u001b[0;34m*\u001b[0m\u001b[0margs\u001b[0m\u001b[0;34m,\u001b[0m \u001b[0;34m**\u001b[0m\u001b[0mkwargs\u001b[0m\u001b[0;34m)\u001b[0m\u001b[0;34m\u001b[0m\u001b[0;34m\u001b[0m\u001b[0m\n\u001b[0m\u001b[1;32m    212\u001b[0m \u001b[0;34m\u001b[0m\u001b[0m\n\u001b[1;32m    213\u001b[0m         \u001b[0;32mreturn\u001b[0m \u001b[0mcast\u001b[0m\u001b[0;34m(\u001b[0m\u001b[0mF\u001b[0m\u001b[0;34m,\u001b[0m \u001b[0mwrapper\u001b[0m\u001b[0;34m)\u001b[0m\u001b[0;34m\u001b[0m\u001b[0;34m\u001b[0m\u001b[0m\n",
            "\u001b[0;32m/usr/local/lib/python3.9/dist-packages/pandas/util/_decorators.py\u001b[0m in \u001b[0;36mwrapper\u001b[0;34m(*args, **kwargs)\u001b[0m\n\u001b[1;32m    329\u001b[0m                     \u001b[0mstacklevel\u001b[0m\u001b[0;34m=\u001b[0m\u001b[0mfind_stack_level\u001b[0m\u001b[0;34m(\u001b[0m\u001b[0;34m)\u001b[0m\u001b[0;34m,\u001b[0m\u001b[0;34m\u001b[0m\u001b[0;34m\u001b[0m\u001b[0m\n\u001b[1;32m    330\u001b[0m                 )\n\u001b[0;32m--> 331\u001b[0;31m             \u001b[0;32mreturn\u001b[0m \u001b[0mfunc\u001b[0m\u001b[0;34m(\u001b[0m\u001b[0;34m*\u001b[0m\u001b[0margs\u001b[0m\u001b[0;34m,\u001b[0m \u001b[0;34m**\u001b[0m\u001b[0mkwargs\u001b[0m\u001b[0;34m)\u001b[0m\u001b[0;34m\u001b[0m\u001b[0;34m\u001b[0m\u001b[0m\n\u001b[0m\u001b[1;32m    332\u001b[0m \u001b[0;34m\u001b[0m\u001b[0m\n\u001b[1;32m    333\u001b[0m         \u001b[0;31m# error: \"Callable[[VarArg(Any), KwArg(Any)], Any]\" has no\u001b[0m\u001b[0;34m\u001b[0m\u001b[0;34m\u001b[0m\u001b[0m\n",
            "\u001b[0;32m/usr/local/lib/python3.9/dist-packages/pandas/io/parsers/readers.py\u001b[0m in \u001b[0;36mread_csv\u001b[0;34m(filepath_or_buffer, sep, delimiter, header, names, index_col, usecols, squeeze, prefix, mangle_dupe_cols, dtype, engine, converters, true_values, false_values, skipinitialspace, skiprows, skipfooter, nrows, na_values, keep_default_na, na_filter, verbose, skip_blank_lines, parse_dates, infer_datetime_format, keep_date_col, date_parser, dayfirst, cache_dates, iterator, chunksize, compression, thousands, decimal, lineterminator, quotechar, quoting, doublequote, escapechar, comment, encoding, encoding_errors, dialect, error_bad_lines, warn_bad_lines, on_bad_lines, delim_whitespace, low_memory, memory_map, float_precision, storage_options)\u001b[0m\n\u001b[1;32m    948\u001b[0m     \u001b[0mkwds\u001b[0m\u001b[0;34m.\u001b[0m\u001b[0mupdate\u001b[0m\u001b[0;34m(\u001b[0m\u001b[0mkwds_defaults\u001b[0m\u001b[0;34m)\u001b[0m\u001b[0;34m\u001b[0m\u001b[0;34m\u001b[0m\u001b[0m\n\u001b[1;32m    949\u001b[0m \u001b[0;34m\u001b[0m\u001b[0m\n\u001b[0;32m--> 950\u001b[0;31m     \u001b[0;32mreturn\u001b[0m \u001b[0m_read\u001b[0m\u001b[0;34m(\u001b[0m\u001b[0mfilepath_or_buffer\u001b[0m\u001b[0;34m,\u001b[0m \u001b[0mkwds\u001b[0m\u001b[0;34m)\u001b[0m\u001b[0;34m\u001b[0m\u001b[0;34m\u001b[0m\u001b[0m\n\u001b[0m\u001b[1;32m    951\u001b[0m \u001b[0;34m\u001b[0m\u001b[0m\n\u001b[1;32m    952\u001b[0m \u001b[0;34m\u001b[0m\u001b[0m\n",
            "\u001b[0;32m/usr/local/lib/python3.9/dist-packages/pandas/io/parsers/readers.py\u001b[0m in \u001b[0;36m_read\u001b[0;34m(filepath_or_buffer, kwds)\u001b[0m\n\u001b[1;32m    603\u001b[0m \u001b[0;34m\u001b[0m\u001b[0m\n\u001b[1;32m    604\u001b[0m     \u001b[0;31m# Create the parser.\u001b[0m\u001b[0;34m\u001b[0m\u001b[0;34m\u001b[0m\u001b[0m\n\u001b[0;32m--> 605\u001b[0;31m     \u001b[0mparser\u001b[0m \u001b[0;34m=\u001b[0m \u001b[0mTextFileReader\u001b[0m\u001b[0;34m(\u001b[0m\u001b[0mfilepath_or_buffer\u001b[0m\u001b[0;34m,\u001b[0m \u001b[0;34m**\u001b[0m\u001b[0mkwds\u001b[0m\u001b[0;34m)\u001b[0m\u001b[0;34m\u001b[0m\u001b[0;34m\u001b[0m\u001b[0m\n\u001b[0m\u001b[1;32m    606\u001b[0m \u001b[0;34m\u001b[0m\u001b[0m\n\u001b[1;32m    607\u001b[0m     \u001b[0;32mif\u001b[0m \u001b[0mchunksize\u001b[0m \u001b[0;32mor\u001b[0m \u001b[0miterator\u001b[0m\u001b[0;34m:\u001b[0m\u001b[0;34m\u001b[0m\u001b[0;34m\u001b[0m\u001b[0m\n",
            "\u001b[0;32m/usr/local/lib/python3.9/dist-packages/pandas/io/parsers/readers.py\u001b[0m in \u001b[0;36m__init__\u001b[0;34m(self, f, engine, **kwds)\u001b[0m\n\u001b[1;32m   1440\u001b[0m \u001b[0;34m\u001b[0m\u001b[0m\n\u001b[1;32m   1441\u001b[0m         \u001b[0mself\u001b[0m\u001b[0;34m.\u001b[0m\u001b[0mhandles\u001b[0m\u001b[0;34m:\u001b[0m \u001b[0mIOHandles\u001b[0m \u001b[0;34m|\u001b[0m \u001b[0;32mNone\u001b[0m \u001b[0;34m=\u001b[0m \u001b[0;32mNone\u001b[0m\u001b[0;34m\u001b[0m\u001b[0;34m\u001b[0m\u001b[0m\n\u001b[0;32m-> 1442\u001b[0;31m         \u001b[0mself\u001b[0m\u001b[0;34m.\u001b[0m\u001b[0m_engine\u001b[0m \u001b[0;34m=\u001b[0m \u001b[0mself\u001b[0m\u001b[0;34m.\u001b[0m\u001b[0m_make_engine\u001b[0m\u001b[0;34m(\u001b[0m\u001b[0mf\u001b[0m\u001b[0;34m,\u001b[0m \u001b[0mself\u001b[0m\u001b[0;34m.\u001b[0m\u001b[0mengine\u001b[0m\u001b[0;34m)\u001b[0m\u001b[0;34m\u001b[0m\u001b[0;34m\u001b[0m\u001b[0m\n\u001b[0m\u001b[1;32m   1443\u001b[0m \u001b[0;34m\u001b[0m\u001b[0m\n\u001b[1;32m   1444\u001b[0m     \u001b[0;32mdef\u001b[0m \u001b[0mclose\u001b[0m\u001b[0;34m(\u001b[0m\u001b[0mself\u001b[0m\u001b[0;34m)\u001b[0m \u001b[0;34m->\u001b[0m \u001b[0;32mNone\u001b[0m\u001b[0;34m:\u001b[0m\u001b[0;34m\u001b[0m\u001b[0;34m\u001b[0m\u001b[0m\n",
            "\u001b[0;32m/usr/local/lib/python3.9/dist-packages/pandas/io/parsers/readers.py\u001b[0m in \u001b[0;36m_make_engine\u001b[0;34m(self, f, engine)\u001b[0m\n\u001b[1;32m   1733\u001b[0m                 \u001b[0;32mif\u001b[0m \u001b[0;34m\"b\"\u001b[0m \u001b[0;32mnot\u001b[0m \u001b[0;32min\u001b[0m \u001b[0mmode\u001b[0m\u001b[0;34m:\u001b[0m\u001b[0;34m\u001b[0m\u001b[0;34m\u001b[0m\u001b[0m\n\u001b[1;32m   1734\u001b[0m                     \u001b[0mmode\u001b[0m \u001b[0;34m+=\u001b[0m \u001b[0;34m\"b\"\u001b[0m\u001b[0;34m\u001b[0m\u001b[0;34m\u001b[0m\u001b[0m\n\u001b[0;32m-> 1735\u001b[0;31m             self.handles = get_handle(\n\u001b[0m\u001b[1;32m   1736\u001b[0m                 \u001b[0mf\u001b[0m\u001b[0;34m,\u001b[0m\u001b[0;34m\u001b[0m\u001b[0;34m\u001b[0m\u001b[0m\n\u001b[1;32m   1737\u001b[0m                 \u001b[0mmode\u001b[0m\u001b[0;34m,\u001b[0m\u001b[0;34m\u001b[0m\u001b[0;34m\u001b[0m\u001b[0m\n",
            "\u001b[0;32m/usr/local/lib/python3.9/dist-packages/pandas/io/common.py\u001b[0m in \u001b[0;36mget_handle\u001b[0;34m(path_or_buf, mode, encoding, compression, memory_map, is_text, errors, storage_options)\u001b[0m\n\u001b[1;32m    854\u001b[0m         \u001b[0;32mif\u001b[0m \u001b[0mioargs\u001b[0m\u001b[0;34m.\u001b[0m\u001b[0mencoding\u001b[0m \u001b[0;32mand\u001b[0m \u001b[0;34m\"b\"\u001b[0m \u001b[0;32mnot\u001b[0m \u001b[0;32min\u001b[0m \u001b[0mioargs\u001b[0m\u001b[0;34m.\u001b[0m\u001b[0mmode\u001b[0m\u001b[0;34m:\u001b[0m\u001b[0;34m\u001b[0m\u001b[0;34m\u001b[0m\u001b[0m\n\u001b[1;32m    855\u001b[0m             \u001b[0;31m# Encoding\u001b[0m\u001b[0;34m\u001b[0m\u001b[0;34m\u001b[0m\u001b[0m\n\u001b[0;32m--> 856\u001b[0;31m             handle = open(\n\u001b[0m\u001b[1;32m    857\u001b[0m                 \u001b[0mhandle\u001b[0m\u001b[0;34m,\u001b[0m\u001b[0;34m\u001b[0m\u001b[0;34m\u001b[0m\u001b[0m\n\u001b[1;32m    858\u001b[0m                 \u001b[0mioargs\u001b[0m\u001b[0;34m.\u001b[0m\u001b[0mmode\u001b[0m\u001b[0;34m,\u001b[0m\u001b[0;34m\u001b[0m\u001b[0;34m\u001b[0m\u001b[0m\n",
            "\u001b[0;31mFileNotFoundError\u001b[0m: [Errno 2] No such file or directory: 'SimData_221006_1.csv'"
          ]
        }
      ],
      "source": [
        "# import data on 10/06/2022\n",
        "df1 = pd.read_csv(\"SimData_221006_1.csv\")\n",
        "df2 = pd.read_csv(\"SimData_221006_2.csv\")\n",
        "df3 = pd.read_csv(\"SimData_221006_3.csv\")\n",
        "df4 = pd.read_csv(\"SimData_221006_4.csv\")\n",
        "df5 = pd.read_csv(\"SimData_221006_5.csv\")\n",
        "df6 = pd.read_csv(\"SimData_221006_6.csv\")\n",
        "df7 = pd.read_csv(\"SimData_221006_7.csv\")\n",
        "df8 = pd.read_csv(\"SimData_221006_8.csv\")\n",
        "\n",
        "# combine data on 10/06/2022\n",
        "df_221006 = pd.concat([df1, df2], axis=0)\n",
        "df_221006 = pd.concat([df_221006, df3], axis=0)\n",
        "df_221006 = pd.concat([df_221006, df4], axis=0)\n",
        "df_221006 = pd.concat([df_221006, df5], axis=0)\n",
        "df_221006 = pd.concat([df_221006, df6], axis=0)\n",
        "df_221006 = pd.concat([df_221006, df7], axis=0)\n",
        "df_221006 = pd.concat([df_221006, df8], axis=0)\n",
        "\n",
        "df_221006.shape"
      ]
    },
    {
      "cell_type": "code",
      "execution_count": null,
      "id": "D7vj6w2EceOx",
      "metadata": {
        "id": "D7vj6w2EceOx"
      },
      "outputs": [],
      "source": [
        "# import data on 10/20/2022\n",
        "df1 = pd.read_csv(\"SimData_221020_1.csv\")\n",
        "df2 = pd.read_csv(\"SimData_221020_2.csv\")\n",
        "df3 = pd.read_csv(\"SimData_221020_3.csv\")\n",
        "df4 = pd.read_csv(\"SimData_221020_4.csv\")\n",
        "df5 = pd.read_csv(\"SimData_221020_5.csv\")\n",
        "df6 = pd.read_csv(\"SimData_221020_6.csv\")\n",
        "\n",
        "# combine data on 10/20/2022\n",
        "df_221020 = pd.concat([df1, df2], axis=0)\n",
        "df_221020 = pd.concat([df_221020, df3], axis=0)\n",
        "df_221020 = pd.concat([df_221020, df4], axis=0)\n",
        "df_221020 = pd.concat([df_221020, df5], axis=0)\n",
        "df_221020 = pd.concat([df_221020, df6], axis=0)\n",
        "\n",
        "df_221020.shape"
      ]
    },
    {
      "cell_type": "code",
      "execution_count": null,
      "id": "a1EImBticeSH",
      "metadata": {
        "id": "a1EImBticeSH",
        "colab": {
          "base_uri": "https://localhost:8080/",
          "height": 382
        },
        "outputId": "a38fd8f2-d84f-497e-bbb3-6dfd0ae45f80"
      },
      "outputs": [
        {
          "output_type": "error",
          "ename": "FileNotFoundError",
          "evalue": "ignored",
          "traceback": [
            "\u001b[0;31m---------------------------------------------------------------------------\u001b[0m",
            "\u001b[0;31mFileNotFoundError\u001b[0m                         Traceback (most recent call last)",
            "\u001b[0;32m<ipython-input-4-5ac95cb1d539>\u001b[0m in \u001b[0;36m<cell line: 2>\u001b[0;34m()\u001b[0m\n\u001b[1;32m      1\u001b[0m \u001b[0;31m# import data on 12/15/2022\u001b[0m\u001b[0;34m\u001b[0m\u001b[0;34m\u001b[0m\u001b[0m\n\u001b[0;32m----> 2\u001b[0;31m \u001b[0mdf1\u001b[0m \u001b[0;34m=\u001b[0m \u001b[0mpd\u001b[0m\u001b[0;34m.\u001b[0m\u001b[0mread_csv\u001b[0m\u001b[0;34m(\u001b[0m\u001b[0;34m\"SimData_221215_1.csv\"\u001b[0m\u001b[0;34m)\u001b[0m\u001b[0;34m\u001b[0m\u001b[0;34m\u001b[0m\u001b[0m\n\u001b[0m\u001b[1;32m      3\u001b[0m \u001b[0mdf2\u001b[0m \u001b[0;34m=\u001b[0m \u001b[0mpd\u001b[0m\u001b[0;34m.\u001b[0m\u001b[0mread_csv\u001b[0m\u001b[0;34m(\u001b[0m\u001b[0;34m\"SimData_221215_2.csv\"\u001b[0m\u001b[0;34m)\u001b[0m\u001b[0;34m\u001b[0m\u001b[0;34m\u001b[0m\u001b[0m\n\u001b[1;32m      4\u001b[0m \u001b[0mdf3\u001b[0m \u001b[0;34m=\u001b[0m \u001b[0mpd\u001b[0m\u001b[0;34m.\u001b[0m\u001b[0mread_csv\u001b[0m\u001b[0;34m(\u001b[0m\u001b[0;34m\"SimData_221215_3.csv\"\u001b[0m\u001b[0;34m)\u001b[0m\u001b[0;34m\u001b[0m\u001b[0;34m\u001b[0m\u001b[0m\n\u001b[1;32m      5\u001b[0m \u001b[0;34m\u001b[0m\u001b[0m\n",
            "\u001b[0;32m/usr/local/lib/python3.9/dist-packages/pandas/util/_decorators.py\u001b[0m in \u001b[0;36mwrapper\u001b[0;34m(*args, **kwargs)\u001b[0m\n\u001b[1;32m    209\u001b[0m                 \u001b[0;32melse\u001b[0m\u001b[0;34m:\u001b[0m\u001b[0;34m\u001b[0m\u001b[0;34m\u001b[0m\u001b[0m\n\u001b[1;32m    210\u001b[0m                     \u001b[0mkwargs\u001b[0m\u001b[0;34m[\u001b[0m\u001b[0mnew_arg_name\u001b[0m\u001b[0;34m]\u001b[0m \u001b[0;34m=\u001b[0m \u001b[0mnew_arg_value\u001b[0m\u001b[0;34m\u001b[0m\u001b[0;34m\u001b[0m\u001b[0m\n\u001b[0;32m--> 211\u001b[0;31m             \u001b[0;32mreturn\u001b[0m \u001b[0mfunc\u001b[0m\u001b[0;34m(\u001b[0m\u001b[0;34m*\u001b[0m\u001b[0margs\u001b[0m\u001b[0;34m,\u001b[0m \u001b[0;34m**\u001b[0m\u001b[0mkwargs\u001b[0m\u001b[0;34m)\u001b[0m\u001b[0;34m\u001b[0m\u001b[0;34m\u001b[0m\u001b[0m\n\u001b[0m\u001b[1;32m    212\u001b[0m \u001b[0;34m\u001b[0m\u001b[0m\n\u001b[1;32m    213\u001b[0m         \u001b[0;32mreturn\u001b[0m \u001b[0mcast\u001b[0m\u001b[0;34m(\u001b[0m\u001b[0mF\u001b[0m\u001b[0;34m,\u001b[0m \u001b[0mwrapper\u001b[0m\u001b[0;34m)\u001b[0m\u001b[0;34m\u001b[0m\u001b[0;34m\u001b[0m\u001b[0m\n",
            "\u001b[0;32m/usr/local/lib/python3.9/dist-packages/pandas/util/_decorators.py\u001b[0m in \u001b[0;36mwrapper\u001b[0;34m(*args, **kwargs)\u001b[0m\n\u001b[1;32m    329\u001b[0m                     \u001b[0mstacklevel\u001b[0m\u001b[0;34m=\u001b[0m\u001b[0mfind_stack_level\u001b[0m\u001b[0;34m(\u001b[0m\u001b[0;34m)\u001b[0m\u001b[0;34m,\u001b[0m\u001b[0;34m\u001b[0m\u001b[0;34m\u001b[0m\u001b[0m\n\u001b[1;32m    330\u001b[0m                 )\n\u001b[0;32m--> 331\u001b[0;31m             \u001b[0;32mreturn\u001b[0m \u001b[0mfunc\u001b[0m\u001b[0;34m(\u001b[0m\u001b[0;34m*\u001b[0m\u001b[0margs\u001b[0m\u001b[0;34m,\u001b[0m \u001b[0;34m**\u001b[0m\u001b[0mkwargs\u001b[0m\u001b[0;34m)\u001b[0m\u001b[0;34m\u001b[0m\u001b[0;34m\u001b[0m\u001b[0m\n\u001b[0m\u001b[1;32m    332\u001b[0m \u001b[0;34m\u001b[0m\u001b[0m\n\u001b[1;32m    333\u001b[0m         \u001b[0;31m# error: \"Callable[[VarArg(Any), KwArg(Any)], Any]\" has no\u001b[0m\u001b[0;34m\u001b[0m\u001b[0;34m\u001b[0m\u001b[0m\n",
            "\u001b[0;32m/usr/local/lib/python3.9/dist-packages/pandas/io/parsers/readers.py\u001b[0m in \u001b[0;36mread_csv\u001b[0;34m(filepath_or_buffer, sep, delimiter, header, names, index_col, usecols, squeeze, prefix, mangle_dupe_cols, dtype, engine, converters, true_values, false_values, skipinitialspace, skiprows, skipfooter, nrows, na_values, keep_default_na, na_filter, verbose, skip_blank_lines, parse_dates, infer_datetime_format, keep_date_col, date_parser, dayfirst, cache_dates, iterator, chunksize, compression, thousands, decimal, lineterminator, quotechar, quoting, doublequote, escapechar, comment, encoding, encoding_errors, dialect, error_bad_lines, warn_bad_lines, on_bad_lines, delim_whitespace, low_memory, memory_map, float_precision, storage_options)\u001b[0m\n\u001b[1;32m    948\u001b[0m     \u001b[0mkwds\u001b[0m\u001b[0;34m.\u001b[0m\u001b[0mupdate\u001b[0m\u001b[0;34m(\u001b[0m\u001b[0mkwds_defaults\u001b[0m\u001b[0;34m)\u001b[0m\u001b[0;34m\u001b[0m\u001b[0;34m\u001b[0m\u001b[0m\n\u001b[1;32m    949\u001b[0m \u001b[0;34m\u001b[0m\u001b[0m\n\u001b[0;32m--> 950\u001b[0;31m     \u001b[0;32mreturn\u001b[0m \u001b[0m_read\u001b[0m\u001b[0;34m(\u001b[0m\u001b[0mfilepath_or_buffer\u001b[0m\u001b[0;34m,\u001b[0m \u001b[0mkwds\u001b[0m\u001b[0;34m)\u001b[0m\u001b[0;34m\u001b[0m\u001b[0;34m\u001b[0m\u001b[0m\n\u001b[0m\u001b[1;32m    951\u001b[0m \u001b[0;34m\u001b[0m\u001b[0m\n\u001b[1;32m    952\u001b[0m \u001b[0;34m\u001b[0m\u001b[0m\n",
            "\u001b[0;32m/usr/local/lib/python3.9/dist-packages/pandas/io/parsers/readers.py\u001b[0m in \u001b[0;36m_read\u001b[0;34m(filepath_or_buffer, kwds)\u001b[0m\n\u001b[1;32m    603\u001b[0m \u001b[0;34m\u001b[0m\u001b[0m\n\u001b[1;32m    604\u001b[0m     \u001b[0;31m# Create the parser.\u001b[0m\u001b[0;34m\u001b[0m\u001b[0;34m\u001b[0m\u001b[0m\n\u001b[0;32m--> 605\u001b[0;31m     \u001b[0mparser\u001b[0m \u001b[0;34m=\u001b[0m \u001b[0mTextFileReader\u001b[0m\u001b[0;34m(\u001b[0m\u001b[0mfilepath_or_buffer\u001b[0m\u001b[0;34m,\u001b[0m \u001b[0;34m**\u001b[0m\u001b[0mkwds\u001b[0m\u001b[0;34m)\u001b[0m\u001b[0;34m\u001b[0m\u001b[0;34m\u001b[0m\u001b[0m\n\u001b[0m\u001b[1;32m    606\u001b[0m \u001b[0;34m\u001b[0m\u001b[0m\n\u001b[1;32m    607\u001b[0m     \u001b[0;32mif\u001b[0m \u001b[0mchunksize\u001b[0m \u001b[0;32mor\u001b[0m \u001b[0miterator\u001b[0m\u001b[0;34m:\u001b[0m\u001b[0;34m\u001b[0m\u001b[0;34m\u001b[0m\u001b[0m\n",
            "\u001b[0;32m/usr/local/lib/python3.9/dist-packages/pandas/io/parsers/readers.py\u001b[0m in \u001b[0;36m__init__\u001b[0;34m(self, f, engine, **kwds)\u001b[0m\n\u001b[1;32m   1440\u001b[0m \u001b[0;34m\u001b[0m\u001b[0m\n\u001b[1;32m   1441\u001b[0m         \u001b[0mself\u001b[0m\u001b[0;34m.\u001b[0m\u001b[0mhandles\u001b[0m\u001b[0;34m:\u001b[0m \u001b[0mIOHandles\u001b[0m \u001b[0;34m|\u001b[0m \u001b[0;32mNone\u001b[0m \u001b[0;34m=\u001b[0m \u001b[0;32mNone\u001b[0m\u001b[0;34m\u001b[0m\u001b[0;34m\u001b[0m\u001b[0m\n\u001b[0;32m-> 1442\u001b[0;31m         \u001b[0mself\u001b[0m\u001b[0;34m.\u001b[0m\u001b[0m_engine\u001b[0m \u001b[0;34m=\u001b[0m \u001b[0mself\u001b[0m\u001b[0;34m.\u001b[0m\u001b[0m_make_engine\u001b[0m\u001b[0;34m(\u001b[0m\u001b[0mf\u001b[0m\u001b[0;34m,\u001b[0m \u001b[0mself\u001b[0m\u001b[0;34m.\u001b[0m\u001b[0mengine\u001b[0m\u001b[0;34m)\u001b[0m\u001b[0;34m\u001b[0m\u001b[0;34m\u001b[0m\u001b[0m\n\u001b[0m\u001b[1;32m   1443\u001b[0m \u001b[0;34m\u001b[0m\u001b[0m\n\u001b[1;32m   1444\u001b[0m     \u001b[0;32mdef\u001b[0m \u001b[0mclose\u001b[0m\u001b[0;34m(\u001b[0m\u001b[0mself\u001b[0m\u001b[0;34m)\u001b[0m \u001b[0;34m->\u001b[0m \u001b[0;32mNone\u001b[0m\u001b[0;34m:\u001b[0m\u001b[0;34m\u001b[0m\u001b[0;34m\u001b[0m\u001b[0m\n",
            "\u001b[0;32m/usr/local/lib/python3.9/dist-packages/pandas/io/parsers/readers.py\u001b[0m in \u001b[0;36m_make_engine\u001b[0;34m(self, f, engine)\u001b[0m\n\u001b[1;32m   1733\u001b[0m                 \u001b[0;32mif\u001b[0m \u001b[0;34m\"b\"\u001b[0m \u001b[0;32mnot\u001b[0m \u001b[0;32min\u001b[0m \u001b[0mmode\u001b[0m\u001b[0;34m:\u001b[0m\u001b[0;34m\u001b[0m\u001b[0;34m\u001b[0m\u001b[0m\n\u001b[1;32m   1734\u001b[0m                     \u001b[0mmode\u001b[0m \u001b[0;34m+=\u001b[0m \u001b[0;34m\"b\"\u001b[0m\u001b[0;34m\u001b[0m\u001b[0;34m\u001b[0m\u001b[0m\n\u001b[0;32m-> 1735\u001b[0;31m             self.handles = get_handle(\n\u001b[0m\u001b[1;32m   1736\u001b[0m                 \u001b[0mf\u001b[0m\u001b[0;34m,\u001b[0m\u001b[0;34m\u001b[0m\u001b[0;34m\u001b[0m\u001b[0m\n\u001b[1;32m   1737\u001b[0m                 \u001b[0mmode\u001b[0m\u001b[0;34m,\u001b[0m\u001b[0;34m\u001b[0m\u001b[0;34m\u001b[0m\u001b[0m\n",
            "\u001b[0;32m/usr/local/lib/python3.9/dist-packages/pandas/io/common.py\u001b[0m in \u001b[0;36mget_handle\u001b[0;34m(path_or_buf, mode, encoding, compression, memory_map, is_text, errors, storage_options)\u001b[0m\n\u001b[1;32m    854\u001b[0m         \u001b[0;32mif\u001b[0m \u001b[0mioargs\u001b[0m\u001b[0;34m.\u001b[0m\u001b[0mencoding\u001b[0m \u001b[0;32mand\u001b[0m \u001b[0;34m\"b\"\u001b[0m \u001b[0;32mnot\u001b[0m \u001b[0;32min\u001b[0m \u001b[0mioargs\u001b[0m\u001b[0;34m.\u001b[0m\u001b[0mmode\u001b[0m\u001b[0;34m:\u001b[0m\u001b[0;34m\u001b[0m\u001b[0;34m\u001b[0m\u001b[0m\n\u001b[1;32m    855\u001b[0m             \u001b[0;31m# Encoding\u001b[0m\u001b[0;34m\u001b[0m\u001b[0;34m\u001b[0m\u001b[0m\n\u001b[0;32m--> 856\u001b[0;31m             handle = open(\n\u001b[0m\u001b[1;32m    857\u001b[0m                 \u001b[0mhandle\u001b[0m\u001b[0;34m,\u001b[0m\u001b[0;34m\u001b[0m\u001b[0;34m\u001b[0m\u001b[0m\n\u001b[1;32m    858\u001b[0m                 \u001b[0mioargs\u001b[0m\u001b[0;34m.\u001b[0m\u001b[0mmode\u001b[0m\u001b[0;34m,\u001b[0m\u001b[0;34m\u001b[0m\u001b[0;34m\u001b[0m\u001b[0m\n",
            "\u001b[0;31mFileNotFoundError\u001b[0m: [Errno 2] No such file or directory: 'SimData_221215_1.csv'"
          ]
        }
      ],
      "source": [
        "# import data on 12/15/2022\n",
        "df1 = pd.read_csv(\"SimData_221215_1.csv\")\n",
        "df2 = pd.read_csv(\"SimData_221215_2.csv\")\n",
        "df3 = pd.read_csv(\"SimData_221215_3.csv\")\n",
        "\n",
        "# combine data on 12/15/2022\n",
        "df_221215 = pd.concat([df1, df2], axis=0)\n",
        "df_221215 = pd.concat([df_221215, df3], axis=0)\n",
        "\n",
        "df_221215.shape"
      ]
    },
    {
      "cell_type": "code",
      "execution_count": null,
      "id": "yhaHQUVcceWK",
      "metadata": {
        "id": "yhaHQUVcceWK",
        "colab": {
          "base_uri": "https://localhost:8080/",
          "height": 382
        },
        "outputId": "6a9ad2ea-cb74-451d-8a41-d138a1cd23f3"
      },
      "outputs": [
        {
          "output_type": "error",
          "ename": "FileNotFoundError",
          "evalue": "ignored",
          "traceback": [
            "\u001b[0;31m---------------------------------------------------------------------------\u001b[0m",
            "\u001b[0;31mFileNotFoundError\u001b[0m                         Traceback (most recent call last)",
            "\u001b[0;32m<ipython-input-5-7421928275be>\u001b[0m in \u001b[0;36m<cell line: 2>\u001b[0;34m()\u001b[0m\n\u001b[1;32m      1\u001b[0m \u001b[0;31m# import data on 02/16/2023\u001b[0m\u001b[0;34m\u001b[0m\u001b[0;34m\u001b[0m\u001b[0m\n\u001b[0;32m----> 2\u001b[0;31m \u001b[0mdf1\u001b[0m \u001b[0;34m=\u001b[0m \u001b[0mpd\u001b[0m\u001b[0;34m.\u001b[0m\u001b[0mread_csv\u001b[0m\u001b[0;34m(\u001b[0m\u001b[0;34m\"SimData_230216_1.csv\"\u001b[0m\u001b[0;34m)\u001b[0m\u001b[0;34m\u001b[0m\u001b[0;34m\u001b[0m\u001b[0m\n\u001b[0m\u001b[1;32m      3\u001b[0m \u001b[0mdf2\u001b[0m \u001b[0;34m=\u001b[0m \u001b[0mpd\u001b[0m\u001b[0;34m.\u001b[0m\u001b[0mread_csv\u001b[0m\u001b[0;34m(\u001b[0m\u001b[0;34m\"SimData_230216_2.csv\"\u001b[0m\u001b[0;34m)\u001b[0m\u001b[0;34m\u001b[0m\u001b[0;34m\u001b[0m\u001b[0m\n\u001b[1;32m      4\u001b[0m \u001b[0mdf3\u001b[0m \u001b[0;34m=\u001b[0m \u001b[0mpd\u001b[0m\u001b[0;34m.\u001b[0m\u001b[0mread_csv\u001b[0m\u001b[0;34m(\u001b[0m\u001b[0;34m\"SimData_230216_3.csv\"\u001b[0m\u001b[0;34m)\u001b[0m\u001b[0;34m\u001b[0m\u001b[0;34m\u001b[0m\u001b[0m\n\u001b[1;32m      5\u001b[0m \u001b[0mdf4\u001b[0m \u001b[0;34m=\u001b[0m \u001b[0mpd\u001b[0m\u001b[0;34m.\u001b[0m\u001b[0mread_csv\u001b[0m\u001b[0;34m(\u001b[0m\u001b[0;34m\"SimData_230216_4.csv\"\u001b[0m\u001b[0;34m)\u001b[0m\u001b[0;34m\u001b[0m\u001b[0;34m\u001b[0m\u001b[0m\n",
            "\u001b[0;32m/usr/local/lib/python3.9/dist-packages/pandas/util/_decorators.py\u001b[0m in \u001b[0;36mwrapper\u001b[0;34m(*args, **kwargs)\u001b[0m\n\u001b[1;32m    209\u001b[0m                 \u001b[0;32melse\u001b[0m\u001b[0;34m:\u001b[0m\u001b[0;34m\u001b[0m\u001b[0;34m\u001b[0m\u001b[0m\n\u001b[1;32m    210\u001b[0m                     \u001b[0mkwargs\u001b[0m\u001b[0;34m[\u001b[0m\u001b[0mnew_arg_name\u001b[0m\u001b[0;34m]\u001b[0m \u001b[0;34m=\u001b[0m \u001b[0mnew_arg_value\u001b[0m\u001b[0;34m\u001b[0m\u001b[0;34m\u001b[0m\u001b[0m\n\u001b[0;32m--> 211\u001b[0;31m             \u001b[0;32mreturn\u001b[0m \u001b[0mfunc\u001b[0m\u001b[0;34m(\u001b[0m\u001b[0;34m*\u001b[0m\u001b[0margs\u001b[0m\u001b[0;34m,\u001b[0m \u001b[0;34m**\u001b[0m\u001b[0mkwargs\u001b[0m\u001b[0;34m)\u001b[0m\u001b[0;34m\u001b[0m\u001b[0;34m\u001b[0m\u001b[0m\n\u001b[0m\u001b[1;32m    212\u001b[0m \u001b[0;34m\u001b[0m\u001b[0m\n\u001b[1;32m    213\u001b[0m         \u001b[0;32mreturn\u001b[0m \u001b[0mcast\u001b[0m\u001b[0;34m(\u001b[0m\u001b[0mF\u001b[0m\u001b[0;34m,\u001b[0m \u001b[0mwrapper\u001b[0m\u001b[0;34m)\u001b[0m\u001b[0;34m\u001b[0m\u001b[0;34m\u001b[0m\u001b[0m\n",
            "\u001b[0;32m/usr/local/lib/python3.9/dist-packages/pandas/util/_decorators.py\u001b[0m in \u001b[0;36mwrapper\u001b[0;34m(*args, **kwargs)\u001b[0m\n\u001b[1;32m    329\u001b[0m                     \u001b[0mstacklevel\u001b[0m\u001b[0;34m=\u001b[0m\u001b[0mfind_stack_level\u001b[0m\u001b[0;34m(\u001b[0m\u001b[0;34m)\u001b[0m\u001b[0;34m,\u001b[0m\u001b[0;34m\u001b[0m\u001b[0;34m\u001b[0m\u001b[0m\n\u001b[1;32m    330\u001b[0m                 )\n\u001b[0;32m--> 331\u001b[0;31m             \u001b[0;32mreturn\u001b[0m \u001b[0mfunc\u001b[0m\u001b[0;34m(\u001b[0m\u001b[0;34m*\u001b[0m\u001b[0margs\u001b[0m\u001b[0;34m,\u001b[0m \u001b[0;34m**\u001b[0m\u001b[0mkwargs\u001b[0m\u001b[0;34m)\u001b[0m\u001b[0;34m\u001b[0m\u001b[0;34m\u001b[0m\u001b[0m\n\u001b[0m\u001b[1;32m    332\u001b[0m \u001b[0;34m\u001b[0m\u001b[0m\n\u001b[1;32m    333\u001b[0m         \u001b[0;31m# error: \"Callable[[VarArg(Any), KwArg(Any)], Any]\" has no\u001b[0m\u001b[0;34m\u001b[0m\u001b[0;34m\u001b[0m\u001b[0m\n",
            "\u001b[0;32m/usr/local/lib/python3.9/dist-packages/pandas/io/parsers/readers.py\u001b[0m in \u001b[0;36mread_csv\u001b[0;34m(filepath_or_buffer, sep, delimiter, header, names, index_col, usecols, squeeze, prefix, mangle_dupe_cols, dtype, engine, converters, true_values, false_values, skipinitialspace, skiprows, skipfooter, nrows, na_values, keep_default_na, na_filter, verbose, skip_blank_lines, parse_dates, infer_datetime_format, keep_date_col, date_parser, dayfirst, cache_dates, iterator, chunksize, compression, thousands, decimal, lineterminator, quotechar, quoting, doublequote, escapechar, comment, encoding, encoding_errors, dialect, error_bad_lines, warn_bad_lines, on_bad_lines, delim_whitespace, low_memory, memory_map, float_precision, storage_options)\u001b[0m\n\u001b[1;32m    948\u001b[0m     \u001b[0mkwds\u001b[0m\u001b[0;34m.\u001b[0m\u001b[0mupdate\u001b[0m\u001b[0;34m(\u001b[0m\u001b[0mkwds_defaults\u001b[0m\u001b[0;34m)\u001b[0m\u001b[0;34m\u001b[0m\u001b[0;34m\u001b[0m\u001b[0m\n\u001b[1;32m    949\u001b[0m \u001b[0;34m\u001b[0m\u001b[0m\n\u001b[0;32m--> 950\u001b[0;31m     \u001b[0;32mreturn\u001b[0m \u001b[0m_read\u001b[0m\u001b[0;34m(\u001b[0m\u001b[0mfilepath_or_buffer\u001b[0m\u001b[0;34m,\u001b[0m \u001b[0mkwds\u001b[0m\u001b[0;34m)\u001b[0m\u001b[0;34m\u001b[0m\u001b[0;34m\u001b[0m\u001b[0m\n\u001b[0m\u001b[1;32m    951\u001b[0m \u001b[0;34m\u001b[0m\u001b[0m\n\u001b[1;32m    952\u001b[0m \u001b[0;34m\u001b[0m\u001b[0m\n",
            "\u001b[0;32m/usr/local/lib/python3.9/dist-packages/pandas/io/parsers/readers.py\u001b[0m in \u001b[0;36m_read\u001b[0;34m(filepath_or_buffer, kwds)\u001b[0m\n\u001b[1;32m    603\u001b[0m \u001b[0;34m\u001b[0m\u001b[0m\n\u001b[1;32m    604\u001b[0m     \u001b[0;31m# Create the parser.\u001b[0m\u001b[0;34m\u001b[0m\u001b[0;34m\u001b[0m\u001b[0m\n\u001b[0;32m--> 605\u001b[0;31m     \u001b[0mparser\u001b[0m \u001b[0;34m=\u001b[0m \u001b[0mTextFileReader\u001b[0m\u001b[0;34m(\u001b[0m\u001b[0mfilepath_or_buffer\u001b[0m\u001b[0;34m,\u001b[0m \u001b[0;34m**\u001b[0m\u001b[0mkwds\u001b[0m\u001b[0;34m)\u001b[0m\u001b[0;34m\u001b[0m\u001b[0;34m\u001b[0m\u001b[0m\n\u001b[0m\u001b[1;32m    606\u001b[0m \u001b[0;34m\u001b[0m\u001b[0m\n\u001b[1;32m    607\u001b[0m     \u001b[0;32mif\u001b[0m \u001b[0mchunksize\u001b[0m \u001b[0;32mor\u001b[0m \u001b[0miterator\u001b[0m\u001b[0;34m:\u001b[0m\u001b[0;34m\u001b[0m\u001b[0;34m\u001b[0m\u001b[0m\n",
            "\u001b[0;32m/usr/local/lib/python3.9/dist-packages/pandas/io/parsers/readers.py\u001b[0m in \u001b[0;36m__init__\u001b[0;34m(self, f, engine, **kwds)\u001b[0m\n\u001b[1;32m   1440\u001b[0m \u001b[0;34m\u001b[0m\u001b[0m\n\u001b[1;32m   1441\u001b[0m         \u001b[0mself\u001b[0m\u001b[0;34m.\u001b[0m\u001b[0mhandles\u001b[0m\u001b[0;34m:\u001b[0m \u001b[0mIOHandles\u001b[0m \u001b[0;34m|\u001b[0m \u001b[0;32mNone\u001b[0m \u001b[0;34m=\u001b[0m \u001b[0;32mNone\u001b[0m\u001b[0;34m\u001b[0m\u001b[0;34m\u001b[0m\u001b[0m\n\u001b[0;32m-> 1442\u001b[0;31m         \u001b[0mself\u001b[0m\u001b[0;34m.\u001b[0m\u001b[0m_engine\u001b[0m \u001b[0;34m=\u001b[0m \u001b[0mself\u001b[0m\u001b[0;34m.\u001b[0m\u001b[0m_make_engine\u001b[0m\u001b[0;34m(\u001b[0m\u001b[0mf\u001b[0m\u001b[0;34m,\u001b[0m \u001b[0mself\u001b[0m\u001b[0;34m.\u001b[0m\u001b[0mengine\u001b[0m\u001b[0;34m)\u001b[0m\u001b[0;34m\u001b[0m\u001b[0;34m\u001b[0m\u001b[0m\n\u001b[0m\u001b[1;32m   1443\u001b[0m \u001b[0;34m\u001b[0m\u001b[0m\n\u001b[1;32m   1444\u001b[0m     \u001b[0;32mdef\u001b[0m \u001b[0mclose\u001b[0m\u001b[0;34m(\u001b[0m\u001b[0mself\u001b[0m\u001b[0;34m)\u001b[0m \u001b[0;34m->\u001b[0m \u001b[0;32mNone\u001b[0m\u001b[0;34m:\u001b[0m\u001b[0;34m\u001b[0m\u001b[0;34m\u001b[0m\u001b[0m\n",
            "\u001b[0;32m/usr/local/lib/python3.9/dist-packages/pandas/io/parsers/readers.py\u001b[0m in \u001b[0;36m_make_engine\u001b[0;34m(self, f, engine)\u001b[0m\n\u001b[1;32m   1733\u001b[0m                 \u001b[0;32mif\u001b[0m \u001b[0;34m\"b\"\u001b[0m \u001b[0;32mnot\u001b[0m \u001b[0;32min\u001b[0m \u001b[0mmode\u001b[0m\u001b[0;34m:\u001b[0m\u001b[0;34m\u001b[0m\u001b[0;34m\u001b[0m\u001b[0m\n\u001b[1;32m   1734\u001b[0m                     \u001b[0mmode\u001b[0m \u001b[0;34m+=\u001b[0m \u001b[0;34m\"b\"\u001b[0m\u001b[0;34m\u001b[0m\u001b[0;34m\u001b[0m\u001b[0m\n\u001b[0;32m-> 1735\u001b[0;31m             self.handles = get_handle(\n\u001b[0m\u001b[1;32m   1736\u001b[0m                 \u001b[0mf\u001b[0m\u001b[0;34m,\u001b[0m\u001b[0;34m\u001b[0m\u001b[0;34m\u001b[0m\u001b[0m\n\u001b[1;32m   1737\u001b[0m                 \u001b[0mmode\u001b[0m\u001b[0;34m,\u001b[0m\u001b[0;34m\u001b[0m\u001b[0;34m\u001b[0m\u001b[0m\n",
            "\u001b[0;32m/usr/local/lib/python3.9/dist-packages/pandas/io/common.py\u001b[0m in \u001b[0;36mget_handle\u001b[0;34m(path_or_buf, mode, encoding, compression, memory_map, is_text, errors, storage_options)\u001b[0m\n\u001b[1;32m    854\u001b[0m         \u001b[0;32mif\u001b[0m \u001b[0mioargs\u001b[0m\u001b[0;34m.\u001b[0m\u001b[0mencoding\u001b[0m \u001b[0;32mand\u001b[0m \u001b[0;34m\"b\"\u001b[0m \u001b[0;32mnot\u001b[0m \u001b[0;32min\u001b[0m \u001b[0mioargs\u001b[0m\u001b[0;34m.\u001b[0m\u001b[0mmode\u001b[0m\u001b[0;34m:\u001b[0m\u001b[0;34m\u001b[0m\u001b[0;34m\u001b[0m\u001b[0m\n\u001b[1;32m    855\u001b[0m             \u001b[0;31m# Encoding\u001b[0m\u001b[0;34m\u001b[0m\u001b[0;34m\u001b[0m\u001b[0m\n\u001b[0;32m--> 856\u001b[0;31m             handle = open(\n\u001b[0m\u001b[1;32m    857\u001b[0m                 \u001b[0mhandle\u001b[0m\u001b[0;34m,\u001b[0m\u001b[0;34m\u001b[0m\u001b[0;34m\u001b[0m\u001b[0m\n\u001b[1;32m    858\u001b[0m                 \u001b[0mioargs\u001b[0m\u001b[0;34m.\u001b[0m\u001b[0mmode\u001b[0m\u001b[0;34m,\u001b[0m\u001b[0;34m\u001b[0m\u001b[0;34m\u001b[0m\u001b[0m\n",
            "\u001b[0;31mFileNotFoundError\u001b[0m: [Errno 2] No such file or directory: 'SimData_230216_1.csv'"
          ]
        }
      ],
      "source": [
        "# import data on 02/16/2023\n",
        "df1 = pd.read_csv(\"SimData_230216_1.csv\")\n",
        "df2 = pd.read_csv(\"SimData_230216_2.csv\")\n",
        "df3 = pd.read_csv(\"SimData_230216_3.csv\")\n",
        "df4 = pd.read_csv(\"SimData_230216_4.csv\")\n",
        "df5 = pd.read_csv(\"SimData_230216_5.csv\")\n",
        "df6 = pd.read_csv(\"SimData_230216_6.csv\")\n",
        "df7 = pd.read_csv(\"SimData_230216_7.csv\")\n",
        "df8 = pd.read_csv(\"SimData_230216_8.csv\")\n",
        "df9 = pd.read_csv(\"SimData_230216_9.csv\")\n",
        "df10 = pd.read_csv(\"SimData_230216_10.csv\")\n",
        "df11 = pd.read_csv(\"SimData_230216_11.csv\")\n",
        "df12 = pd.read_csv(\"SimData_230216_12.csv\")\n",
        "df13 = pd.read_csv(\"SimData_230216_13.csv\")\n",
        "df14 = pd.read_csv(\"SimData_230216_14.csv\")\n",
        "\n",
        "\n",
        "# combine data on 02/16/2023\n",
        "df_230216 = pd.concat([df1, df2], axis=0)\n",
        "df_230216 = pd.concat([df_230216, df3], axis=0)\n",
        "df_230216 = pd.concat([df_230216, df4], axis=0)\n",
        "df_230216 = pd.concat([df_230216, df5], axis=0)\n",
        "df_230216 = pd.concat([df_230216, df6], axis=0)\n",
        "df_230216 = pd.concat([df_230216, df7], axis=0)\n",
        "df_230216 = pd.concat([df_230216, df8], axis=0)\n",
        "df_230216 = pd.concat([df_230216, df9], axis=0)\n",
        "df_230216 = pd.concat([df_230216, df10], axis=0)\n",
        "df_230216 = pd.concat([df_230216, df11], axis=0)\n",
        "df_230216 = pd.concat([df_230216, df12], axis=0)\n",
        "df_230216 = pd.concat([df_230216, df13], axis=0)\n",
        "df_230216 = pd.concat([df_230216, df14], axis=0)\n",
        "\n",
        "df_230216.shape"
      ]
    },
    {
      "cell_type": "markdown",
      "id": "6fdd7e11",
      "metadata": {
        "id": "6fdd7e11"
      },
      "source": [
        "## Taking care of missing data"
      ]
    },
    {
      "cell_type": "code",
      "execution_count": null,
      "id": "f5b39fd7",
      "metadata": {
        "id": "f5b39fd7",
        "colab": {
          "base_uri": "https://localhost:8080/",
          "height": 167
        },
        "outputId": "ad078d5c-5aa6-4761-aea7-2d2cdec5150f"
      },
      "outputs": [
        {
          "output_type": "error",
          "ename": "NameError",
          "evalue": "ignored",
          "traceback": [
            "\u001b[0;31m---------------------------------------------------------------------------\u001b[0m",
            "\u001b[0;31mNameError\u001b[0m                                 Traceback (most recent call last)",
            "\u001b[0;32m<ipython-input-6-4df1c9c049ed>\u001b[0m in \u001b[0;36m<cell line: 1>\u001b[0;34m()\u001b[0m\n\u001b[0;32m----> 1\u001b[0;31m \u001b[0mdf_221006\u001b[0m\u001b[0;34m.\u001b[0m\u001b[0misnull\u001b[0m\u001b[0;34m(\u001b[0m\u001b[0;34m)\u001b[0m\u001b[0;34m.\u001b[0m\u001b[0msum\u001b[0m\u001b[0;34m(\u001b[0m\u001b[0;34m)\u001b[0m\u001b[0;34m.\u001b[0m\u001b[0msum\u001b[0m\u001b[0;34m(\u001b[0m\u001b[0;34m)\u001b[0m\u001b[0;34m\u001b[0m\u001b[0;34m\u001b[0m\u001b[0m\n\u001b[0m",
            "\u001b[0;31mNameError\u001b[0m: name 'df_221006' is not defined"
          ]
        }
      ],
      "source": [
        "df_221006.isnull().sum().sum()"
      ]
    },
    {
      "cell_type": "code",
      "execution_count": null,
      "id": "7m_DroX8cudn",
      "metadata": {
        "id": "7m_DroX8cudn",
        "colab": {
          "base_uri": "https://localhost:8080/",
          "height": 167
        },
        "outputId": "483195ad-30d2-4087-bfdf-deebfcc487be"
      },
      "outputs": [
        {
          "output_type": "error",
          "ename": "NameError",
          "evalue": "ignored",
          "traceback": [
            "\u001b[0;31m---------------------------------------------------------------------------\u001b[0m",
            "\u001b[0;31mNameError\u001b[0m                                 Traceback (most recent call last)",
            "\u001b[0;32m<ipython-input-7-9d012c630c70>\u001b[0m in \u001b[0;36m<cell line: 1>\u001b[0;34m()\u001b[0m\n\u001b[0;32m----> 1\u001b[0;31m \u001b[0mdf_221020\u001b[0m\u001b[0;34m.\u001b[0m\u001b[0misnull\u001b[0m\u001b[0;34m(\u001b[0m\u001b[0;34m)\u001b[0m\u001b[0;34m.\u001b[0m\u001b[0msum\u001b[0m\u001b[0;34m(\u001b[0m\u001b[0;34m)\u001b[0m\u001b[0;34m.\u001b[0m\u001b[0msum\u001b[0m\u001b[0;34m(\u001b[0m\u001b[0;34m)\u001b[0m\u001b[0;34m\u001b[0m\u001b[0;34m\u001b[0m\u001b[0m\n\u001b[0m",
            "\u001b[0;31mNameError\u001b[0m: name 'df_221020' is not defined"
          ]
        }
      ],
      "source": [
        "df_221020.isnull().sum().sum()"
      ]
    },
    {
      "cell_type": "code",
      "execution_count": null,
      "id": "kOR2Q7uFcui3",
      "metadata": {
        "id": "kOR2Q7uFcui3"
      },
      "outputs": [],
      "source": [
        "df_221215.isnull().sum().sum()"
      ]
    },
    {
      "cell_type": "code",
      "execution_count": null,
      "id": "hsmFeMewcumL",
      "metadata": {
        "id": "hsmFeMewcumL",
        "colab": {
          "base_uri": "https://localhost:8080/",
          "height": 167
        },
        "outputId": "c3654653-0007-452e-9b01-9b6f0b7b58c0"
      },
      "outputs": [
        {
          "output_type": "error",
          "ename": "NameError",
          "evalue": "ignored",
          "traceback": [
            "\u001b[0;31m---------------------------------------------------------------------------\u001b[0m",
            "\u001b[0;31mNameError\u001b[0m                                 Traceback (most recent call last)",
            "\u001b[0;32m<ipython-input-8-68e7585d4415>\u001b[0m in \u001b[0;36m<cell line: 1>\u001b[0;34m()\u001b[0m\n\u001b[0;32m----> 1\u001b[0;31m \u001b[0mdf_230216\u001b[0m\u001b[0;34m.\u001b[0m\u001b[0misnull\u001b[0m\u001b[0;34m(\u001b[0m\u001b[0;34m)\u001b[0m\u001b[0;34m.\u001b[0m\u001b[0msum\u001b[0m\u001b[0;34m(\u001b[0m\u001b[0;34m)\u001b[0m\u001b[0;34m.\u001b[0m\u001b[0msum\u001b[0m\u001b[0;34m(\u001b[0m\u001b[0;34m)\u001b[0m\u001b[0;34m\u001b[0m\u001b[0;34m\u001b[0m\u001b[0m\n\u001b[0m",
            "\u001b[0;31mNameError\u001b[0m: name 'df_230216' is not defined"
          ]
        }
      ],
      "source": [
        "df_230216.isnull().sum().sum()"
      ]
    },
    {
      "cell_type": "code",
      "execution_count": null,
      "id": "TqKYENdncupg",
      "metadata": {
        "id": "TqKYENdncupg",
        "colab": {
          "base_uri": "https://localhost:8080/",
          "height": 167
        },
        "outputId": "2d87fcf6-5d77-4fd3-d5b5-e24a2f812549"
      },
      "outputs": [
        {
          "output_type": "error",
          "ename": "NameError",
          "evalue": "ignored",
          "traceback": [
            "\u001b[0;31m---------------------------------------------------------------------------\u001b[0m",
            "\u001b[0;31mNameError\u001b[0m                                 Traceback (most recent call last)",
            "\u001b[0;32m<ipython-input-9-5c2e76d1ba25>\u001b[0m in \u001b[0;36m<cell line: 1>\u001b[0;34m()\u001b[0m\n\u001b[0;32m----> 1\u001b[0;31m \u001b[0mdf_221215\u001b[0m\u001b[0;34m.\u001b[0m\u001b[0mcolumns\u001b[0m\u001b[0;34m[\u001b[0m\u001b[0mdf_221215\u001b[0m\u001b[0;34m.\u001b[0m\u001b[0misnull\u001b[0m\u001b[0;34m(\u001b[0m\u001b[0;34m)\u001b[0m\u001b[0;34m.\u001b[0m\u001b[0many\u001b[0m\u001b[0;34m(\u001b[0m\u001b[0;34m)\u001b[0m\u001b[0;34m]\u001b[0m\u001b[0;34m\u001b[0m\u001b[0;34m\u001b[0m\u001b[0m\n\u001b[0m",
            "\u001b[0;31mNameError\u001b[0m: name 'df_221215' is not defined"
          ]
        }
      ],
      "source": [
        "df_221215.columns[df_221215.isnull().any()]"
      ]
    },
    {
      "cell_type": "code",
      "execution_count": null,
      "id": "ABN3pA8KcuvU",
      "metadata": {
        "id": "ABN3pA8KcuvU",
        "colab": {
          "base_uri": "https://localhost:8080/",
          "height": 167
        },
        "outputId": "f85a924c-bdf7-4d1a-ab69-004eb264e396"
      },
      "outputs": [
        {
          "output_type": "error",
          "ename": "NameError",
          "evalue": "ignored",
          "traceback": [
            "\u001b[0;31m---------------------------------------------------------------------------\u001b[0m",
            "\u001b[0;31mNameError\u001b[0m                                 Traceback (most recent call last)",
            "\u001b[0;32m<ipython-input-10-a348b3afded0>\u001b[0m in \u001b[0;36m<cell line: 1>\u001b[0;34m()\u001b[0m\n\u001b[0;32m----> 1\u001b[0;31m \u001b[0mdf_230216\u001b[0m\u001b[0;34m.\u001b[0m\u001b[0mcolumns\u001b[0m\u001b[0;34m[\u001b[0m\u001b[0mdf_230216\u001b[0m\u001b[0;34m.\u001b[0m\u001b[0misnull\u001b[0m\u001b[0;34m(\u001b[0m\u001b[0;34m)\u001b[0m\u001b[0;34m.\u001b[0m\u001b[0many\u001b[0m\u001b[0;34m(\u001b[0m\u001b[0;34m)\u001b[0m\u001b[0;34m]\u001b[0m\u001b[0;34m\u001b[0m\u001b[0;34m\u001b[0m\u001b[0m\n\u001b[0m",
            "\u001b[0;31mNameError\u001b[0m: name 'df_230216' is not defined"
          ]
        }
      ],
      "source": [
        "df_230216.columns[df_230216.isnull().any()]"
      ]
    },
    {
      "cell_type": "code",
      "source": [],
      "metadata": {
        "id": "DtI7Js-bw87X"
      },
      "id": "DtI7Js-bw87X",
      "execution_count": null,
      "outputs": []
    },
    {
      "cell_type": "markdown",
      "id": "a668504d",
      "metadata": {
        "id": "a668504d"
      },
      "source": [
        "## Converting time zone"
      ]
    },
    {
      "cell_type": "code",
      "execution_count": null,
      "id": "9382e1b5",
      "metadata": {
        "id": "9382e1b5",
        "colab": {
          "base_uri": "https://localhost:8080/",
          "height": 219
        },
        "outputId": "fee9fc8a-b831-41a9-b367-c9f15de8c84c"
      },
      "outputs": [
        {
          "output_type": "error",
          "ename": "NameError",
          "evalue": "ignored",
          "traceback": [
            "\u001b[0;31m---------------------------------------------------------------------------\u001b[0m",
            "\u001b[0;31mNameError\u001b[0m                                 Traceback (most recent call last)",
            "\u001b[0;32m<ipython-input-11-cf15c8486ce7>\u001b[0m in \u001b[0;36m<cell line: 2>\u001b[0;34m()\u001b[0m\n\u001b[1;32m      1\u001b[0m \u001b[0;31m## convert time zone to UTC-1\u001b[0m\u001b[0;34m\u001b[0m\u001b[0;34m\u001b[0m\u001b[0m\n\u001b[0;32m----> 2\u001b[0;31m \u001b[0mdf_221006\u001b[0m\u001b[0;34m[\u001b[0m\u001b[0;34m'timestamp'\u001b[0m\u001b[0;34m]\u001b[0m \u001b[0;34m=\u001b[0m \u001b[0mpd\u001b[0m\u001b[0;34m.\u001b[0m\u001b[0mto_datetime\u001b[0m\u001b[0;34m(\u001b[0m\u001b[0mdf_221006\u001b[0m\u001b[0;34m[\u001b[0m\u001b[0;34m'timestamp'\u001b[0m\u001b[0;34m]\u001b[0m\u001b[0;34m)\u001b[0m\u001b[0;34m\u001b[0m\u001b[0;34m\u001b[0m\u001b[0m\n\u001b[0m\u001b[1;32m      3\u001b[0m \u001b[0mdf_221006\u001b[0m\u001b[0;34m[\u001b[0m\u001b[0;34m'timestamp'\u001b[0m\u001b[0;34m]\u001b[0m \u001b[0;34m=\u001b[0m \u001b[0mdf_221006\u001b[0m\u001b[0;34m[\u001b[0m\u001b[0;34m'timestamp'\u001b[0m\u001b[0;34m]\u001b[0m\u001b[0;34m.\u001b[0m\u001b[0mdt\u001b[0m\u001b[0;34m.\u001b[0m\u001b[0mtz_convert\u001b[0m\u001b[0;34m(\u001b[0m\u001b[0;34m'Etc/GMT+4'\u001b[0m\u001b[0;34m)\u001b[0m\u001b[0;34m\u001b[0m\u001b[0;34m\u001b[0m\u001b[0m\n\u001b[1;32m      4\u001b[0m \u001b[0mdf_221006\u001b[0m\u001b[0;34m.\u001b[0m\u001b[0mhead\u001b[0m\u001b[0;34m(\u001b[0m\u001b[0;34m)\u001b[0m\u001b[0;34m\u001b[0m\u001b[0;34m\u001b[0m\u001b[0m\n",
            "\u001b[0;31mNameError\u001b[0m: name 'df_221006' is not defined"
          ]
        }
      ],
      "source": [
        "## convert time zone to UTC-1\n",
        "df_221006['timestamp'] = pd.to_datetime(df_221006['timestamp'])\n",
        "df_221006['timestamp'] = df_221006['timestamp'].dt.tz_convert('Etc/GMT+4')\n",
        "df_221006.head()"
      ]
    },
    {
      "cell_type": "code",
      "execution_count": null,
      "id": "xwGopB-rc6Ji",
      "metadata": {
        "id": "xwGopB-rc6Ji",
        "colab": {
          "base_uri": "https://localhost:8080/",
          "height": 219
        },
        "outputId": "d0d0a8a2-555f-4439-ceb2-23edfd0e520e"
      },
      "outputs": [
        {
          "output_type": "error",
          "ename": "NameError",
          "evalue": "ignored",
          "traceback": [
            "\u001b[0;31m---------------------------------------------------------------------------\u001b[0m",
            "\u001b[0;31mNameError\u001b[0m                                 Traceback (most recent call last)",
            "\u001b[0;32m<ipython-input-12-424aa54e6f76>\u001b[0m in \u001b[0;36m<cell line: 2>\u001b[0;34m()\u001b[0m\n\u001b[1;32m      1\u001b[0m \u001b[0;31m## convert time zone to UTC-1\u001b[0m\u001b[0;34m\u001b[0m\u001b[0;34m\u001b[0m\u001b[0m\n\u001b[0;32m----> 2\u001b[0;31m \u001b[0mdf_221020\u001b[0m\u001b[0;34m[\u001b[0m\u001b[0;34m'timestamp'\u001b[0m\u001b[0;34m]\u001b[0m \u001b[0;34m=\u001b[0m \u001b[0mpd\u001b[0m\u001b[0;34m.\u001b[0m\u001b[0mto_datetime\u001b[0m\u001b[0;34m(\u001b[0m\u001b[0mdf_221020\u001b[0m\u001b[0;34m[\u001b[0m\u001b[0;34m'timestamp'\u001b[0m\u001b[0;34m]\u001b[0m\u001b[0;34m)\u001b[0m\u001b[0;34m\u001b[0m\u001b[0;34m\u001b[0m\u001b[0m\n\u001b[0m\u001b[1;32m      3\u001b[0m \u001b[0mdf_221020\u001b[0m\u001b[0;34m[\u001b[0m\u001b[0;34m'timestamp'\u001b[0m\u001b[0;34m]\u001b[0m \u001b[0;34m=\u001b[0m \u001b[0mdf_221020\u001b[0m\u001b[0;34m[\u001b[0m\u001b[0;34m'timestamp'\u001b[0m\u001b[0;34m]\u001b[0m\u001b[0;34m.\u001b[0m\u001b[0mdt\u001b[0m\u001b[0;34m.\u001b[0m\u001b[0mtz_convert\u001b[0m\u001b[0;34m(\u001b[0m\u001b[0;34m'Etc/GMT+4'\u001b[0m\u001b[0;34m)\u001b[0m\u001b[0;34m\u001b[0m\u001b[0;34m\u001b[0m\u001b[0m\n\u001b[1;32m      4\u001b[0m \u001b[0mdf_221020\u001b[0m\u001b[0;34m.\u001b[0m\u001b[0mhead\u001b[0m\u001b[0;34m(\u001b[0m\u001b[0;34m)\u001b[0m\u001b[0;34m\u001b[0m\u001b[0;34m\u001b[0m\u001b[0m\n",
            "\u001b[0;31mNameError\u001b[0m: name 'df_221020' is not defined"
          ]
        }
      ],
      "source": [
        "## convert time zone to UTC-1\n",
        "df_221020['timestamp'] = pd.to_datetime(df_221020['timestamp'])\n",
        "df_221020['timestamp'] = df_221020['timestamp'].dt.tz_convert('Etc/GMT+4')\n",
        "df_221020.head()"
      ]
    },
    {
      "cell_type": "code",
      "execution_count": null,
      "id": "rht7cg9hc6Oz",
      "metadata": {
        "id": "rht7cg9hc6Oz"
      },
      "outputs": [],
      "source": [
        "## convert time zone to UTC-5\n",
        "df_221215['timestamp'] = pd.to_datetime(df_221215['timestamp'])\n",
        "df_221215['timestamp'] = df_221215['timestamp'].dt.tz_convert('Etc/GMT+5')\n",
        "df_221215.head()"
      ]
    },
    {
      "cell_type": "code",
      "execution_count": null,
      "id": "TXDN9qebc6R5",
      "metadata": {
        "id": "TXDN9qebc6R5"
      },
      "outputs": [],
      "source": [
        "## convert time zone to UTC-2\n",
        "df_230216['timestamp'] = pd.to_datetime(df_230216['timestamp'])\n",
        "df_230216['timestamp'] = df_230216['timestamp'].dt.tz_convert('Etc/GMT+5')\n",
        "df_230216.head()"
      ]
    },
    {
      "cell_type": "code",
      "execution_count": null,
      "id": "UGWWKAH-c6Vr",
      "metadata": {
        "id": "UGWWKAH-c6Vr"
      },
      "outputs": [],
      "source": [
        "df_221006.to_csv(\"SimData_df221006.csv\", index=False)\n",
        "df_221020.to_csv(\"SimData_df221020.csv\", index=False)\n",
        "df_221215.to_csv(\"SimData_df221215.csv\", index=False)\n",
        "df_230216.to_csv(\"SimData_df230216.csv\", index=False)"
      ]
    },
    {
      "cell_type": "markdown",
      "id": "691d8f62",
      "metadata": {
        "id": "691d8f62"
      },
      "source": [
        "## Labelling s-turn (manually)"
      ]
    },
    {
      "cell_type": "code",
      "execution_count": null,
      "id": "02sOCx-4dC7N",
      "metadata": {
        "id": "02sOCx-4dC7N"
      },
      "outputs": [],
      "source": [
        "df_221006 = pd.read_csv(\"SimData_df221006.csv\")\n",
        "df_221020 = pd.read_csv(\"SimData_df221020.csv\")\n",
        "df_221215 = pd.read_csv(\"SimData_df221215.csv\")\n",
        "df_230216 = pd.read_csv(\"SimData_df230216.csv\")"
      ]
    },
    {
      "cell_type": "code",
      "execution_count": null,
      "id": "84KMJBvTdE1E",
      "metadata": {
        "id": "84KMJBvTdE1E"
      },
      "outputs": [],
      "source": [
        "## convert to datetime index\n",
        "df_221006['timeidx'] = pd.to_datetime(df_221006['timestamp'])\n",
        "df_221006 = df_221006.set_index('timeidx')\n",
        "\n",
        "df_221020['timeidx'] = pd.to_datetime(df_221020['timestamp'])\n",
        "df_221020 = df_221020.set_index('timeidx')\n",
        "\n",
        "df_221215['timeidx'] = pd.to_datetime(df_221215['timestamp'])\n",
        "df_221215 = df_221215.set_index('timeidx')\n",
        "\n",
        "df_230216['timeidx'] = pd.to_datetime(df_230216['timestamp'])\n",
        "df_230216 = df_230216.set_index('timeidx')"
      ]
    },
    {
      "cell_type": "code",
      "execution_count": null,
      "id": "e753802b",
      "metadata": {
        "id": "e753802b"
      },
      "outputs": [],
      "source": [
        "list(df_221006.columns)"
      ]
    },
    {
      "cell_type": "code",
      "execution_count": null,
      "id": "785e7172",
      "metadata": {
        "id": "785e7172"
      },
      "outputs": [],
      "source": [
        "## sTurn features: surfaceWindDirection, surfaceWindSpeed, gpsAltitude, groundSpeed, angleOfAttack\n",
        "\n",
        "ttotal = df_221020.between_time(start_time = '15:00:00', end_time = '15:20:00')\n",
        "tstart = df_221020.between_time(start_time = '15:03:00', end_time = '15:06:00')\n",
        "tend = df_221020.between_time(start_time = '15:13:00', end_time = '15:14:00')\n",
        "\n",
        "f, axarr = plt.subplots(3, 3, figsize=(10,10), sharex='col')\n",
        "\n",
        "sns.lineplot(x = ttotal.index, y = ttotal.surfaceWindDirection, color = 'blue', label = 'surfaceWindDirection', ax=axarr[0][0])\n",
        "sns.lineplot(x = ttotal.index, y = ttotal.surfaceWindSpeed, color = 'green', label = 'surfaceWindSpeed', ax=axarr[0][0])\n",
        "sns.lineplot(x = ttotal.index, y = ttotal.gpsAltitude, color = 'yellow', label = 'gpsAltitude', ax=axarr[1][0])\n",
        "sns.lineplot(x = ttotal.index, y = ttotal.groundSpeed, color = 'red', label = 'groundSpeed', ax=axarr[1][0])\n",
        "sns.lineplot(x = ttotal.index, y = ttotal.angleOfAttack, color = 'black', label = 'angleOfAttack', ax=axarr[2][0])\n",
        "\n",
        "sns.lineplot(x = tstart.index, y = tstart.surfaceWindDirection, color = 'blue', label = 'surfaceWindDirection', ax=axarr[0][1])\n",
        "sns.lineplot(x = tstart.index, y = tstart.surfaceWindSpeed, color = 'green', label = 'surfaceWindSpeed', ax=axarr[0][1])\n",
        "sns.lineplot(x = tstart.index, y = tstart.gpsAltitude, color = 'yellow', label = 'gpsAltitude', ax=axarr[1][1])\n",
        "sns.lineplot(x = tstart.index, y = tstart.groundSpeed, color = 'red', label = 'groundSpeed', ax=axarr[1][1])\n",
        "sns.lineplot(x = tstart.index, y = tstart.angleOfAttack, color = 'black', label = 'angleOfAttack', ax=axarr[2][1])\n",
        "\n",
        "sns.lineplot(x = tend.index, y = tend.surfaceWindDirection, color = 'blue', label = 'surfaceWindDirection', ax=axarr[0][2])\n",
        "sns.lineplot(x = tend.index, y = tend.surfaceWindSpeed, color = 'green', label = 'surfaceWindSpeed', ax=axarr[0][2])\n",
        "sns.lineplot(x = tend.index, y = tend.gpsAltitude, color = 'yellow', label = 'gpsAltitude', ax=axarr[1][2])\n",
        "sns.lineplot(x = tend.index, y = tend.groundSpeed, color = 'red', label = 'groundSpeed', ax=axarr[1][2])\n",
        "sns.lineplot(x = tend.index, y = tend.angleOfAttack, color = 'black', label = 'angleOfAttack', ax=axarr[2][2])\n",
        "\n",
        "for ax in axarr[:, 0]:\n",
        "    plt.setp(ax.get_xticklabels(), rotation=90)\n",
        "\n",
        "for ax in axarr.flat:\n",
        "    plt.sca(ax)\n",
        "    plt.xticks(rotation=90)\n",
        "\n",
        "f.suptitle(\"S-Turn on 10/20/2022\")\n",
        "plt.show()\n",
        "\n",
        "### label the start time of s-turn as 15:04:15\n",
        "### label the end time of s-turn as 15:13:50"
      ]
    },
    {
      "cell_type": "code",
      "execution_count": null,
      "id": "2dc11832",
      "metadata": {
        "id": "2dc11832"
      },
      "outputs": [],
      "source": [
        "## sTurn features: surfaceWindDirection, surfaceWindSpeed, gpsAltitude, groundSpeed, angleOfAttack\n",
        "\n",
        "ttotal = df_221215.between_time(start_time = '13:15:00', end_time = '13:50:00')\n",
        "tstart = df_221215.between_time(start_time = '13:27:00', end_time = '13:28:00')\n",
        "tend = df_221215.between_time(start_time = '13:38:00', end_time = '13:39:00')\n",
        "\n",
        "f, axarr = plt.subplots(3, 3, figsize=(10,10), sharex='col')\n",
        "\n",
        "sns.lineplot(x = ttotal.index, y = ttotal.surfaceWindDirection, color = 'blue', label = 'surfaceWindDirection', ax=axarr[0][0])\n",
        "sns.lineplot(x = ttotal.index, y = ttotal.surfaceWindSpeed, color = 'green', label = 'surfaceWindSpeed', ax=axarr[0][0])\n",
        "sns.lineplot(x = ttotal.index, y = ttotal.gpsAltitude, color = 'yellow', label = 'gpsAltitude', ax=axarr[1][0])\n",
        "sns.lineplot(x = ttotal.index, y = ttotal.groundSpeed, color = 'red', label = 'groundSpeed', ax=axarr[1][0])\n",
        "sns.lineplot(x = ttotal.index, y = ttotal.angleOfAttack, color = 'black', label = 'angleOfAttack', ax=axarr[2][0])\n",
        "\n",
        "sns.lineplot(x = tstart.index, y = tstart.surfaceWindDirection, color = 'blue', label = 'surfaceWindDirection', ax=axarr[0][1])\n",
        "sns.lineplot(x = tstart.index, y = tstart.surfaceWindSpeed, color = 'green', label = 'surfaceWindSpeed', ax=axarr[0][1])\n",
        "sns.lineplot(x = tstart.index, y = tstart.gpsAltitude, color = 'yellow', label = 'gpsAltitude', ax=axarr[1][1])\n",
        "sns.lineplot(x = tstart.index, y = tstart.groundSpeed, color = 'red', label = 'groundSpeed', ax=axarr[1][1])\n",
        "sns.lineplot(x = tstart.index, y = tstart.angleOfAttack, color = 'black', label = 'angleOfAttack', ax=axarr[2][1])\n",
        "\n",
        "sns.lineplot(x = tend.index, y = tend.surfaceWindDirection, color = 'blue', label = 'surfaceWindDirection', ax=axarr[0][2])\n",
        "sns.lineplot(x = tend.index, y = tend.surfaceWindSpeed, color = 'green', label = 'surfaceWindSpeed', ax=axarr[0][2])\n",
        "sns.lineplot(x = tend.index, y = tend.gpsAltitude, color = 'yellow', label = 'gpsAltitude', ax=axarr[1][2])\n",
        "sns.lineplot(x = tend.index, y = tend.groundSpeed, color = 'red', label = 'groundSpeed', ax=axarr[1][2])\n",
        "sns.lineplot(x = tend.index, y = tend.angleOfAttack, color = 'black', label = 'angleOfAttack', ax=axarr[2][2])\n",
        "\n",
        "for ax in axarr[:, 0]:\n",
        "    plt.setp(ax.get_xticklabels(), rotation=90)\n",
        "\n",
        "for ax in axarr.flat:\n",
        "    plt.sca(ax)\n",
        "    plt.xticks(rotation=90)\n",
        "\n",
        "f.suptitle(\"S-Turn on 12/15/2022\")\n",
        "plt.show()\n",
        "\n",
        "### label the start time of s-turn as 13:27:10\n",
        "### label the end time of s-turn as 13:38:30"
      ]
    },
    {
      "cell_type": "code",
      "execution_count": null,
      "id": "9aa30c88",
      "metadata": {
        "id": "9aa30c88"
      },
      "outputs": [],
      "source": [
        "## sTurn features: surfaceWindDirection, surfaceWindSpeed, gpsAltitude, groundSpeed, angleOfAttack\n",
        "\n",
        "ttotal = df_230216.between_time(start_time = '9:20:00', end_time = '9:35:00')\n",
        "tstart = df_230216.between_time(start_time = '9:24:00', end_time = '9:26:00')\n",
        "tend = df_230216.between_time(start_time = '9:29:00', end_time = '9:31:00')\n",
        "\n",
        "f, axarr = plt.subplots(3, 3, figsize=(10,10), sharex='col')\n",
        "\n",
        "sns.lineplot(x = ttotal.index, y = ttotal.surfaceWindDirection, color = 'blue', label = 'surfaceWindDirection', ax=axarr[0][0])\n",
        "sns.lineplot(x = ttotal.index, y = ttotal.surfaceWindSpeed, color = 'green', label = 'surfaceWindSpeed', ax=axarr[0][0])\n",
        "sns.lineplot(x = ttotal.index, y = ttotal.gpsAltitude, color = 'yellow', label = 'gpsAltitude', ax=axarr[1][0])\n",
        "sns.lineplot(x = ttotal.index, y = ttotal.groundSpeed, color = 'red', label = 'groundSpeed', ax=axarr[1][0])\n",
        "sns.lineplot(x = ttotal.index, y = ttotal.angleOfAttack, color = 'black', label = 'angleOfAttack', ax=axarr[2][0])\n",
        "\n",
        "sns.lineplot(x = tstart.index, y = tstart.surfaceWindDirection, color = 'blue', label = 'surfaceWindDirection', ax=axarr[0][1])\n",
        "sns.lineplot(x = tstart.index, y = tstart.surfaceWindSpeed, color = 'green', label = 'surfaceWindSpeed', ax=axarr[0][1])\n",
        "sns.lineplot(x = tstart.index, y = tstart.gpsAltitude, color = 'yellow', label = 'gpsAltitude', ax=axarr[1][1])\n",
        "sns.lineplot(x = tstart.index, y = tstart.groundSpeed, color = 'red', label = 'groundSpeed', ax=axarr[1][1])\n",
        "sns.lineplot(x = tstart.index, y = tstart.angleOfAttack, color = 'black', label = 'angleOfAttack', ax=axarr[2][1])\n",
        "\n",
        "sns.lineplot(x = tend.index, y = tend.surfaceWindDirection, color = 'blue', label = 'surfaceWindDirection', ax=axarr[0][2])\n",
        "sns.lineplot(x = tend.index, y = tend.surfaceWindSpeed, color = 'green', label = 'surfaceWindSpeed', ax=axarr[0][2])\n",
        "sns.lineplot(x = tend.index, y = tend.gpsAltitude, color = 'yellow', label = 'gpsAltitude', ax=axarr[1][2])\n",
        "sns.lineplot(x = tend.index, y = tend.groundSpeed, color = 'red', label = 'groundSpeed', ax=axarr[1][2])\n",
        "sns.lineplot(x = tend.index, y = tend.angleOfAttack, color = 'black', label = 'angleOfAttack', ax=axarr[2][2])\n",
        "\n",
        "for ax in axarr[:, 0]:\n",
        "    plt.setp(ax.get_xticklabels(), rotation=90)\n",
        "\n",
        "for ax in axarr.flat:\n",
        "    plt.sca(ax)\n",
        "    plt.xticks(rotation=90)\n",
        "\n",
        "f.suptitle(\"S-Turn on 02/06/2023\")\n",
        "plt.show()\n",
        "\n",
        "### label the start time of s-turn as 9:25:00\n",
        "### label the end time of s-turn as 9:30:00"
      ]
    },
    {
      "cell_type": "markdown",
      "id": "9a7b1a4f",
      "metadata": {
        "id": "9a7b1a4f"
      },
      "source": [
        "## Labelling quick-stop (manually)"
      ]
    },
    {
      "cell_type": "code",
      "execution_count": null,
      "id": "29ab3e4e",
      "metadata": {
        "id": "29ab3e4e"
      },
      "outputs": [],
      "source": [
        "# quick stop features: gpsAltitude, mainRotorRpm, groundSpeed, collectivePosition, antiTorquePedalPosition, pitch \n",
        "\n",
        "ttotal = df_221215.between_time(start_time = '13:50:00', end_time = '14:15:00')\n",
        "tstart = df_221215.between_time(start_time = '13:56:00', end_time = '13:58:00')\n",
        "tend = df_221215.between_time(start_time = '14:01:00', end_time = '14:02:00')\n",
        "\n",
        "f, axarr = plt.subplots(3, 3, figsize=(10, 10), sharex='col')\n",
        "plt.subplots_adjust(hspace=0.5)\n",
        "\n",
        "sns.lineplot(x = ttotal.index, y = ttotal.gpsAltitude, color = 'blue', label = 'gpsAltitude', ax=axarr[0][0])\n",
        "sns.lineplot(x = ttotal.index, y = ttotal.mainRotorRpm, color = 'green', label = 'mainRotorRpm', ax=axarr[1][0])\n",
        "sns.lineplot(x = ttotal.index, y = ttotal.groundSpeed, color = 'cyan', label = 'groundSpeed', ax=axarr[2][0])\n",
        "sns.lineplot(x = ttotal.index, y = ttotal.collectivePosition, color = 'red', label = 'collectivePosition', ax=axarr[2][0])\n",
        "sns.lineplot(x = ttotal.index, y = ttotal.antiTorquePedalPosition, color = 'black', label = 'antiTorquePedalPosition', ax=axarr[2][0])\n",
        "sns.lineplot(x = ttotal.index, y = ttotal.pitch, color = 'magenta', label = 'pitch', ax=axarr[1][0])\n",
        "\n",
        "sns.lineplot(x = tstart.index, y = tstart.gpsAltitude, color = 'blue', label = 'gpsAltitude', ax=axarr[0][1])\n",
        "sns.lineplot(x = tstart.index, y = tstart.mainRotorRpm, color = 'green', label = 'mainRotorRpm', ax=axarr[1][1])\n",
        "sns.lineplot(x = tstart.index, y = tstart.groundSpeed, color = 'cyan', label = 'groundSpeed', ax=axarr[2][1])\n",
        "sns.lineplot(x = tstart.index, y = tstart.collectivePosition, color = 'red', label = 'collectivePosition', ax=axarr[2][1])\n",
        "sns.lineplot(x = tstart.index, y = tstart.antiTorquePedalPosition, color = 'black', label = 'antiTorquePedalPosition', ax=axarr[2][1])\n",
        "sns.lineplot(x = tstart.index, y = tstart.pitch, color = 'magenta', label = 'pitch', ax=axarr[1][1])\n",
        "\n",
        "sns.lineplot(x = tend.index, y = tend.gpsAltitude, color = 'blue', label = 'gpsAltitude', ax=axarr[0][2])\n",
        "sns.lineplot(x = tend.index, y = tend.mainRotorRpm, color = 'green', label = 'mainRotorRpm', ax=axarr[1][2])\n",
        "sns.lineplot(x = tend.index, y = tend.groundSpeed, color = 'cyan', label = 'groundSpeed', ax=axarr[2][2])\n",
        "sns.lineplot(x = tend.index, y = tend.collectivePosition, color = 'red', label = 'collectivePosition', ax=axarr[2][2])\n",
        "sns.lineplot(x = tend.index, y = tend.antiTorquePedalPosition, color = 'black', label = 'antiTorquePedalPosition', ax=axarr[2][2])\n",
        "sns.lineplot(x = tend.index, y = tend.pitch, color = 'magenta', label = 'pitch', ax=axarr[1][2])\n",
        "\n",
        "for ax in axarr[:, 0]:\n",
        "    plt.setp(ax.get_xticklabels(), rotation=90)\n",
        "\n",
        "for ax in axarr.flat:\n",
        "    plt.sca(ax)\n",
        "    plt.xticks(rotation=90)\n",
        "\n",
        "f.suptitle(\"Quick Stop on 12/15/2022\")\n",
        "plt.show()\n",
        "\n",
        "\n",
        "### label the start time of quick-stop as 13:56:30\n",
        "### label the end time of quick-stop as 14:01:10"
      ]
    },
    {
      "cell_type": "code",
      "execution_count": null,
      "id": "b0c7abc7",
      "metadata": {
        "id": "b0c7abc7"
      },
      "outputs": [],
      "source": [
        "# quick stop features: gpsAltitude, mainRotorRpm, groundSpeed, collectivePosition, antiTorquePedalPosition, pitch \n",
        "\n",
        "ttotal = df_230216.between_time(start_time = '9:50:00', end_time = '10:30:00')\n",
        "tstart = df_230216.between_time(start_time = '10:07:00', end_time = '10:09:00')\n",
        "tend = df_230216.between_time(start_time = '10:09:00', end_time = '10:11:00')\n",
        "\n",
        "f, axarr = plt.subplots(3, 3, figsize=(10, 10), sharex='col')\n",
        "plt.subplots_adjust(hspace=0.5)\n",
        "\n",
        "sns.lineplot(x = ttotal.index, y = ttotal.gpsAltitude, color = 'blue', label = 'gpsAltitude', ax=axarr[0][0])\n",
        "sns.lineplot(x = ttotal.index, y = ttotal.mainRotorRpm, color = 'green', label = 'mainRotorRpm', ax=axarr[1][0])\n",
        "sns.lineplot(x = ttotal.index, y = ttotal.groundSpeed, color = 'cyan', label = 'groundSpeed', ax=axarr[2][0])\n",
        "sns.lineplot(x = ttotal.index, y = ttotal.collectivePosition, color = 'red', label = 'collectivePosition', ax=axarr[2][0])\n",
        "sns.lineplot(x = ttotal.index, y = ttotal.antiTorquePedalPosition, color = 'black', label = 'antiTorquePedalPosition', ax=axarr[2][0])\n",
        "sns.lineplot(x = ttotal.index, y = ttotal.pitch, color = 'magenta', label = 'pitch', ax=axarr[1][0])\n",
        "\n",
        "sns.lineplot(x = tstart.index, y = tstart.gpsAltitude, color = 'blue', label = 'gpsAltitude', ax=axarr[0][1])\n",
        "sns.lineplot(x = tstart.index, y = tstart.mainRotorRpm, color = 'green', label = 'mainRotorRpm', ax=axarr[1][1])\n",
        "sns.lineplot(x = tstart.index, y = tstart.groundSpeed, color = 'cyan', label = 'groundSpeed', ax=axarr[2][1])\n",
        "sns.lineplot(x = tstart.index, y = tstart.collectivePosition, color = 'red', label = 'collectivePosition', ax=axarr[2][1])\n",
        "sns.lineplot(x = tstart.index, y = tstart.antiTorquePedalPosition, color = 'black', label = 'antiTorquePedalPosition', ax=axarr[2][1])\n",
        "sns.lineplot(x = tstart.index, y = tstart.pitch, color = 'magenta', label = 'pitch', ax=axarr[1][1])\n",
        "\n",
        "sns.lineplot(x = tend.index, y = tend.gpsAltitude, color = 'blue', label = 'gpsAltitude', ax=axarr[0][2])\n",
        "sns.lineplot(x = tend.index, y = tend.mainRotorRpm, color = 'green', label = 'mainRotorRpm', ax=axarr[1][2])\n",
        "sns.lineplot(x = tend.index, y = tend.groundSpeed, color = 'cyan', label = 'groundSpeed', ax=axarr[2][2])\n",
        "sns.lineplot(x = tend.index, y = tend.collectivePosition, color = 'red', label = 'collectivePosition', ax=axarr[2][2])\n",
        "sns.lineplot(x = tend.index, y = tend.antiTorquePedalPosition, color = 'black', label = 'antiTorquePedalPosition', ax=axarr[2][2])\n",
        "sns.lineplot(x = tend.index, y = tend.pitch, color = 'magenta', label = 'pitch', ax=axarr[1][2])\n",
        "\n",
        "for ax in axarr[:, 0]:\n",
        "    plt.setp(ax.get_xticklabels(), rotation=90)\n",
        "\n",
        "for ax in axarr.flat:\n",
        "    plt.sca(ax)\n",
        "    plt.xticks(rotation=90)\n",
        "\n",
        "f.suptitle(\"Quick Stop on 02/06/2023\")\n",
        "plt.show()\n",
        "\n",
        "\n",
        "### label the start time of quick stop as \n",
        "### label the end time of quick stop as "
      ]
    },
    {
      "cell_type": "markdown",
      "id": "c866e18e",
      "metadata": {
        "id": "c866e18e"
      },
      "source": [
        "## Importing labeled data"
      ]
    },
    {
      "cell_type": "code",
      "execution_count": null,
      "id": "53adbc00",
      "metadata": {
        "id": "53adbc00",
        "colab": {
          "base_uri": "https://localhost:8080/",
          "height": 365
        },
        "outputId": "279d678c-8a3d-4f55-b057-11fbcec8a9eb"
      },
      "outputs": [
        {
          "output_type": "error",
          "ename": "FileNotFoundError",
          "evalue": "ignored",
          "traceback": [
            "\u001b[0;31m---------------------------------------------------------------------------\u001b[0m",
            "\u001b[0;31mFileNotFoundError\u001b[0m                         Traceback (most recent call last)",
            "\u001b[0;32m<ipython-input-13-827a2862d996>\u001b[0m in \u001b[0;36m<cell line: 1>\u001b[0;34m()\u001b[0m\n\u001b[0;32m----> 1\u001b[0;31m \u001b[0mdf1\u001b[0m \u001b[0;34m=\u001b[0m \u001b[0mpd\u001b[0m\u001b[0;34m.\u001b[0m\u001b[0mread_csv\u001b[0m\u001b[0;34m(\u001b[0m\u001b[0;34m\"SimData_df221006_label.csv\"\u001b[0m\u001b[0;34m)\u001b[0m\u001b[0;34m\u001b[0m\u001b[0;34m\u001b[0m\u001b[0m\n\u001b[0m\u001b[1;32m      2\u001b[0m \u001b[0mdf2\u001b[0m \u001b[0;34m=\u001b[0m \u001b[0mpd\u001b[0m\u001b[0;34m.\u001b[0m\u001b[0mread_csv\u001b[0m\u001b[0;34m(\u001b[0m\u001b[0;34m\"SimData_df221020_label.csv\"\u001b[0m\u001b[0;34m)\u001b[0m\u001b[0;34m\u001b[0m\u001b[0;34m\u001b[0m\u001b[0m\n\u001b[1;32m      3\u001b[0m \u001b[0mdf3\u001b[0m \u001b[0;34m=\u001b[0m \u001b[0mpd\u001b[0m\u001b[0;34m.\u001b[0m\u001b[0mread_csv\u001b[0m\u001b[0;34m(\u001b[0m\u001b[0;34m\"SimData_df221215_label.csv\"\u001b[0m\u001b[0;34m)\u001b[0m\u001b[0;34m\u001b[0m\u001b[0;34m\u001b[0m\u001b[0m\n\u001b[1;32m      4\u001b[0m \u001b[0mdf4\u001b[0m \u001b[0;34m=\u001b[0m \u001b[0mpd\u001b[0m\u001b[0;34m.\u001b[0m\u001b[0mread_csv\u001b[0m\u001b[0;34m(\u001b[0m\u001b[0;34m\"SimData_df230216_label.csv\"\u001b[0m\u001b[0;34m)\u001b[0m\u001b[0;34m\u001b[0m\u001b[0;34m\u001b[0m\u001b[0m\n",
            "\u001b[0;32m/usr/local/lib/python3.9/dist-packages/pandas/util/_decorators.py\u001b[0m in \u001b[0;36mwrapper\u001b[0;34m(*args, **kwargs)\u001b[0m\n\u001b[1;32m    209\u001b[0m                 \u001b[0;32melse\u001b[0m\u001b[0;34m:\u001b[0m\u001b[0;34m\u001b[0m\u001b[0;34m\u001b[0m\u001b[0m\n\u001b[1;32m    210\u001b[0m                     \u001b[0mkwargs\u001b[0m\u001b[0;34m[\u001b[0m\u001b[0mnew_arg_name\u001b[0m\u001b[0;34m]\u001b[0m \u001b[0;34m=\u001b[0m \u001b[0mnew_arg_value\u001b[0m\u001b[0;34m\u001b[0m\u001b[0;34m\u001b[0m\u001b[0m\n\u001b[0;32m--> 211\u001b[0;31m             \u001b[0;32mreturn\u001b[0m \u001b[0mfunc\u001b[0m\u001b[0;34m(\u001b[0m\u001b[0;34m*\u001b[0m\u001b[0margs\u001b[0m\u001b[0;34m,\u001b[0m \u001b[0;34m**\u001b[0m\u001b[0mkwargs\u001b[0m\u001b[0;34m)\u001b[0m\u001b[0;34m\u001b[0m\u001b[0;34m\u001b[0m\u001b[0m\n\u001b[0m\u001b[1;32m    212\u001b[0m \u001b[0;34m\u001b[0m\u001b[0m\n\u001b[1;32m    213\u001b[0m         \u001b[0;32mreturn\u001b[0m \u001b[0mcast\u001b[0m\u001b[0;34m(\u001b[0m\u001b[0mF\u001b[0m\u001b[0;34m,\u001b[0m \u001b[0mwrapper\u001b[0m\u001b[0;34m)\u001b[0m\u001b[0;34m\u001b[0m\u001b[0;34m\u001b[0m\u001b[0m\n",
            "\u001b[0;32m/usr/local/lib/python3.9/dist-packages/pandas/util/_decorators.py\u001b[0m in \u001b[0;36mwrapper\u001b[0;34m(*args, **kwargs)\u001b[0m\n\u001b[1;32m    329\u001b[0m                     \u001b[0mstacklevel\u001b[0m\u001b[0;34m=\u001b[0m\u001b[0mfind_stack_level\u001b[0m\u001b[0;34m(\u001b[0m\u001b[0;34m)\u001b[0m\u001b[0;34m,\u001b[0m\u001b[0;34m\u001b[0m\u001b[0;34m\u001b[0m\u001b[0m\n\u001b[1;32m    330\u001b[0m                 )\n\u001b[0;32m--> 331\u001b[0;31m             \u001b[0;32mreturn\u001b[0m \u001b[0mfunc\u001b[0m\u001b[0;34m(\u001b[0m\u001b[0;34m*\u001b[0m\u001b[0margs\u001b[0m\u001b[0;34m,\u001b[0m \u001b[0;34m**\u001b[0m\u001b[0mkwargs\u001b[0m\u001b[0;34m)\u001b[0m\u001b[0;34m\u001b[0m\u001b[0;34m\u001b[0m\u001b[0m\n\u001b[0m\u001b[1;32m    332\u001b[0m \u001b[0;34m\u001b[0m\u001b[0m\n\u001b[1;32m    333\u001b[0m         \u001b[0;31m# error: \"Callable[[VarArg(Any), KwArg(Any)], Any]\" has no\u001b[0m\u001b[0;34m\u001b[0m\u001b[0;34m\u001b[0m\u001b[0m\n",
            "\u001b[0;32m/usr/local/lib/python3.9/dist-packages/pandas/io/parsers/readers.py\u001b[0m in \u001b[0;36mread_csv\u001b[0;34m(filepath_or_buffer, sep, delimiter, header, names, index_col, usecols, squeeze, prefix, mangle_dupe_cols, dtype, engine, converters, true_values, false_values, skipinitialspace, skiprows, skipfooter, nrows, na_values, keep_default_na, na_filter, verbose, skip_blank_lines, parse_dates, infer_datetime_format, keep_date_col, date_parser, dayfirst, cache_dates, iterator, chunksize, compression, thousands, decimal, lineterminator, quotechar, quoting, doublequote, escapechar, comment, encoding, encoding_errors, dialect, error_bad_lines, warn_bad_lines, on_bad_lines, delim_whitespace, low_memory, memory_map, float_precision, storage_options)\u001b[0m\n\u001b[1;32m    948\u001b[0m     \u001b[0mkwds\u001b[0m\u001b[0;34m.\u001b[0m\u001b[0mupdate\u001b[0m\u001b[0;34m(\u001b[0m\u001b[0mkwds_defaults\u001b[0m\u001b[0;34m)\u001b[0m\u001b[0;34m\u001b[0m\u001b[0;34m\u001b[0m\u001b[0m\n\u001b[1;32m    949\u001b[0m \u001b[0;34m\u001b[0m\u001b[0m\n\u001b[0;32m--> 950\u001b[0;31m     \u001b[0;32mreturn\u001b[0m \u001b[0m_read\u001b[0m\u001b[0;34m(\u001b[0m\u001b[0mfilepath_or_buffer\u001b[0m\u001b[0;34m,\u001b[0m \u001b[0mkwds\u001b[0m\u001b[0;34m)\u001b[0m\u001b[0;34m\u001b[0m\u001b[0;34m\u001b[0m\u001b[0m\n\u001b[0m\u001b[1;32m    951\u001b[0m \u001b[0;34m\u001b[0m\u001b[0m\n\u001b[1;32m    952\u001b[0m \u001b[0;34m\u001b[0m\u001b[0m\n",
            "\u001b[0;32m/usr/local/lib/python3.9/dist-packages/pandas/io/parsers/readers.py\u001b[0m in \u001b[0;36m_read\u001b[0;34m(filepath_or_buffer, kwds)\u001b[0m\n\u001b[1;32m    603\u001b[0m \u001b[0;34m\u001b[0m\u001b[0m\n\u001b[1;32m    604\u001b[0m     \u001b[0;31m# Create the parser.\u001b[0m\u001b[0;34m\u001b[0m\u001b[0;34m\u001b[0m\u001b[0m\n\u001b[0;32m--> 605\u001b[0;31m     \u001b[0mparser\u001b[0m \u001b[0;34m=\u001b[0m \u001b[0mTextFileReader\u001b[0m\u001b[0;34m(\u001b[0m\u001b[0mfilepath_or_buffer\u001b[0m\u001b[0;34m,\u001b[0m \u001b[0;34m**\u001b[0m\u001b[0mkwds\u001b[0m\u001b[0;34m)\u001b[0m\u001b[0;34m\u001b[0m\u001b[0;34m\u001b[0m\u001b[0m\n\u001b[0m\u001b[1;32m    606\u001b[0m \u001b[0;34m\u001b[0m\u001b[0m\n\u001b[1;32m    607\u001b[0m     \u001b[0;32mif\u001b[0m \u001b[0mchunksize\u001b[0m \u001b[0;32mor\u001b[0m \u001b[0miterator\u001b[0m\u001b[0;34m:\u001b[0m\u001b[0;34m\u001b[0m\u001b[0;34m\u001b[0m\u001b[0m\n",
            "\u001b[0;32m/usr/local/lib/python3.9/dist-packages/pandas/io/parsers/readers.py\u001b[0m in \u001b[0;36m__init__\u001b[0;34m(self, f, engine, **kwds)\u001b[0m\n\u001b[1;32m   1440\u001b[0m \u001b[0;34m\u001b[0m\u001b[0m\n\u001b[1;32m   1441\u001b[0m         \u001b[0mself\u001b[0m\u001b[0;34m.\u001b[0m\u001b[0mhandles\u001b[0m\u001b[0;34m:\u001b[0m \u001b[0mIOHandles\u001b[0m \u001b[0;34m|\u001b[0m \u001b[0;32mNone\u001b[0m \u001b[0;34m=\u001b[0m \u001b[0;32mNone\u001b[0m\u001b[0;34m\u001b[0m\u001b[0;34m\u001b[0m\u001b[0m\n\u001b[0;32m-> 1442\u001b[0;31m         \u001b[0mself\u001b[0m\u001b[0;34m.\u001b[0m\u001b[0m_engine\u001b[0m \u001b[0;34m=\u001b[0m \u001b[0mself\u001b[0m\u001b[0;34m.\u001b[0m\u001b[0m_make_engine\u001b[0m\u001b[0;34m(\u001b[0m\u001b[0mf\u001b[0m\u001b[0;34m,\u001b[0m \u001b[0mself\u001b[0m\u001b[0;34m.\u001b[0m\u001b[0mengine\u001b[0m\u001b[0;34m)\u001b[0m\u001b[0;34m\u001b[0m\u001b[0;34m\u001b[0m\u001b[0m\n\u001b[0m\u001b[1;32m   1443\u001b[0m \u001b[0;34m\u001b[0m\u001b[0m\n\u001b[1;32m   1444\u001b[0m     \u001b[0;32mdef\u001b[0m \u001b[0mclose\u001b[0m\u001b[0;34m(\u001b[0m\u001b[0mself\u001b[0m\u001b[0;34m)\u001b[0m \u001b[0;34m->\u001b[0m \u001b[0;32mNone\u001b[0m\u001b[0;34m:\u001b[0m\u001b[0;34m\u001b[0m\u001b[0;34m\u001b[0m\u001b[0m\n",
            "\u001b[0;32m/usr/local/lib/python3.9/dist-packages/pandas/io/parsers/readers.py\u001b[0m in \u001b[0;36m_make_engine\u001b[0;34m(self, f, engine)\u001b[0m\n\u001b[1;32m   1733\u001b[0m                 \u001b[0;32mif\u001b[0m \u001b[0;34m\"b\"\u001b[0m \u001b[0;32mnot\u001b[0m \u001b[0;32min\u001b[0m \u001b[0mmode\u001b[0m\u001b[0;34m:\u001b[0m\u001b[0;34m\u001b[0m\u001b[0;34m\u001b[0m\u001b[0m\n\u001b[1;32m   1734\u001b[0m                     \u001b[0mmode\u001b[0m \u001b[0;34m+=\u001b[0m \u001b[0;34m\"b\"\u001b[0m\u001b[0;34m\u001b[0m\u001b[0;34m\u001b[0m\u001b[0m\n\u001b[0;32m-> 1735\u001b[0;31m             self.handles = get_handle(\n\u001b[0m\u001b[1;32m   1736\u001b[0m                 \u001b[0mf\u001b[0m\u001b[0;34m,\u001b[0m\u001b[0;34m\u001b[0m\u001b[0;34m\u001b[0m\u001b[0m\n\u001b[1;32m   1737\u001b[0m                 \u001b[0mmode\u001b[0m\u001b[0;34m,\u001b[0m\u001b[0;34m\u001b[0m\u001b[0;34m\u001b[0m\u001b[0m\n",
            "\u001b[0;32m/usr/local/lib/python3.9/dist-packages/pandas/io/common.py\u001b[0m in \u001b[0;36mget_handle\u001b[0;34m(path_or_buf, mode, encoding, compression, memory_map, is_text, errors, storage_options)\u001b[0m\n\u001b[1;32m    854\u001b[0m         \u001b[0;32mif\u001b[0m \u001b[0mioargs\u001b[0m\u001b[0;34m.\u001b[0m\u001b[0mencoding\u001b[0m \u001b[0;32mand\u001b[0m \u001b[0;34m\"b\"\u001b[0m \u001b[0;32mnot\u001b[0m \u001b[0;32min\u001b[0m \u001b[0mioargs\u001b[0m\u001b[0;34m.\u001b[0m\u001b[0mmode\u001b[0m\u001b[0;34m:\u001b[0m\u001b[0;34m\u001b[0m\u001b[0;34m\u001b[0m\u001b[0m\n\u001b[1;32m    855\u001b[0m             \u001b[0;31m# Encoding\u001b[0m\u001b[0;34m\u001b[0m\u001b[0;34m\u001b[0m\u001b[0m\n\u001b[0;32m--> 856\u001b[0;31m             handle = open(\n\u001b[0m\u001b[1;32m    857\u001b[0m                 \u001b[0mhandle\u001b[0m\u001b[0;34m,\u001b[0m\u001b[0;34m\u001b[0m\u001b[0;34m\u001b[0m\u001b[0m\n\u001b[1;32m    858\u001b[0m                 \u001b[0mioargs\u001b[0m\u001b[0;34m.\u001b[0m\u001b[0mmode\u001b[0m\u001b[0;34m,\u001b[0m\u001b[0;34m\u001b[0m\u001b[0;34m\u001b[0m\u001b[0m\n",
            "\u001b[0;31mFileNotFoundError\u001b[0m: [Errno 2] No such file or directory: 'SimData_df221006_label.csv'"
          ]
        }
      ],
      "source": [
        "df1 = pd.read_csv(\"SimData_df221006_label.csv\")\n",
        "df2 = pd.read_csv(\"SimData_df221020_label.csv\")\n",
        "df3 = pd.read_csv(\"SimData_df221215_label.csv\")\n",
        "df4 = pd.read_csv(\"SimData_df230216_label.csv\")"
      ]
    },
    {
      "cell_type": "markdown",
      "id": "46882dd8",
      "metadata": {
        "id": "46882dd8"
      },
      "source": [
        "## Combining dataset"
      ]
    },
    {
      "cell_type": "code",
      "execution_count": null,
      "id": "c48ef1a5",
      "metadata": {
        "id": "c48ef1a5"
      },
      "outputs": [],
      "source": [
        "print(df1.shape, df2.shape, df3.shape, df4.shape)"
      ]
    },
    {
      "cell_type": "code",
      "execution_count": null,
      "id": "799872ac",
      "metadata": {
        "id": "799872ac"
      },
      "outputs": [],
      "source": [
        "print(df1.seconds.min(), df1.seconds.max())"
      ]
    },
    {
      "cell_type": "code",
      "execution_count": null,
      "id": "4965e4f2",
      "metadata": {
        "id": "4965e4f2"
      },
      "outputs": [],
      "source": [
        "print(df2.seconds.min(), df2.seconds.max())"
      ]
    },
    {
      "cell_type": "code",
      "execution_count": null,
      "id": "5610f5e8",
      "metadata": {
        "id": "5610f5e8"
      },
      "outputs": [],
      "source": [
        "print(df3.seconds.min(), df3.seconds.max())"
      ]
    },
    {
      "cell_type": "code",
      "execution_count": null,
      "id": "4c489666",
      "metadata": {
        "id": "4c489666"
      },
      "outputs": [],
      "source": [
        "print(df4.seconds.min(), df4.seconds.max())"
      ]
    },
    {
      "cell_type": "code",
      "execution_count": null,
      "id": "71288c9e",
      "metadata": {
        "id": "71288c9e"
      },
      "outputs": [],
      "source": [
        "df = pd.concat([df1, df2], axis=0)\n",
        "df = pd.concat([df, df3], axis=0)\n",
        "df = pd.concat([df, df4], axis=0)\n",
        "\n",
        "df.head()"
      ]
    },
    {
      "cell_type": "markdown",
      "id": "b9094e7b",
      "metadata": {
        "id": "b9094e7b"
      },
      "source": [
        "## Taking care of missing data / null label"
      ]
    },
    {
      "cell_type": "code",
      "execution_count": null,
      "id": "03c4da12",
      "metadata": {
        "id": "03c4da12"
      },
      "outputs": [],
      "source": [
        "df.shape"
      ]
    },
    {
      "cell_type": "code",
      "execution_count": null,
      "id": "d9675f66",
      "metadata": {
        "id": "d9675f66"
      },
      "outputs": [],
      "source": [
        "df.columns[df.isnull().any()]"
      ]
    },
    {
      "cell_type": "code",
      "execution_count": null,
      "id": "a2d4a382",
      "metadata": {
        "id": "a2d4a382"
      },
      "outputs": [],
      "source": [
        "df['e1FuelFlowRate'].isnull().sum()"
      ]
    },
    {
      "cell_type": "code",
      "execution_count": null,
      "id": "958b1bb9",
      "metadata": {
        "id": "958b1bb9"
      },
      "outputs": [],
      "source": [
        "df['e2FuelFlowRate'].isnull().sum()"
      ]
    },
    {
      "cell_type": "code",
      "execution_count": null,
      "id": "a93c95a9",
      "metadata": {
        "id": "a93c95a9"
      },
      "outputs": [],
      "source": [
        "df['hasGeneratorFailureWarning'].isnull().sum()"
      ]
    },
    {
      "cell_type": "code",
      "execution_count": null,
      "id": "634d7118",
      "metadata": {
        "id": "634d7118"
      },
      "outputs": [],
      "source": [
        "df['e1FuelFlowRatePerMin'].isnull().sum()"
      ]
    },
    {
      "cell_type": "code",
      "execution_count": null,
      "id": "4951c3ca",
      "metadata": {
        "id": "4951c3ca"
      },
      "outputs": [],
      "source": [
        "df['e2FuelFlowRatePerMin'].isnull().sum()"
      ]
    },
    {
      "cell_type": "code",
      "execution_count": null,
      "id": "f88c8bb9",
      "metadata": {
        "id": "f88c8bb9"
      },
      "outputs": [],
      "source": [
        "# remove columns with high percentage of missing data\n",
        "to_drop = ['e1FuelFlowRate', 'e2FuelFlowRate', 'e1FuelFlowRatePerMin', 'e2FuelFlowRatePerMin']\n",
        "df = df.drop(to_drop, axis=1)\n",
        "df.shape"
      ]
    },
    {
      "cell_type": "code",
      "execution_count": null,
      "id": "c0505ff4",
      "metadata": {
        "id": "c0505ff4"
      },
      "outputs": [],
      "source": [
        "# fill columns with low percentage of missing data with median\n",
        "to_fill = df['hasGeneratorFailureWarning'].value_counts().index[0]\n",
        "df['hasGeneratorFailureWarning'] = df['hasGeneratorFailureWarning'].fillna(to_fill)"
      ]
    },
    {
      "cell_type": "code",
      "execution_count": null,
      "id": "be3b96c5",
      "metadata": {
        "id": "be3b96c5"
      },
      "outputs": [],
      "source": [
        "df['label'].isnull().sum()"
      ]
    },
    {
      "cell_type": "code",
      "execution_count": null,
      "id": "6aee1dd3",
      "metadata": {
        "id": "6aee1dd3"
      },
      "outputs": [],
      "source": [
        "df['label'] = df['label'].fillna('other')"
      ]
    },
    {
      "cell_type": "code",
      "execution_count": null,
      "id": "ef2124fe",
      "metadata": {
        "id": "ef2124fe",
        "scrolled": true
      },
      "outputs": [],
      "source": [
        "df['label'].value_counts()"
      ]
    },
    {
      "cell_type": "code",
      "execution_count": null,
      "id": "2364f4c6",
      "metadata": {
        "id": "2364f4c6"
      },
      "outputs": [],
      "source": [
        "df['label'] = df['label'].replace('s-turn', 'sTurn')\n",
        "df['label'] = df['label'].replace('quickstop', 'quickStop')\n",
        "df['label'] = df['label'].replace('qucikStop', 'quickStop')\n",
        "df['label'] = df['label'].replace('low recon', 'lowRecon')\n",
        "df['label'] = df['label'].replace('high recon', 'highRecon')\n",
        "df['label'].value_counts()"
      ]
    },
    {
      "cell_type": "code",
      "execution_count": null,
      "id": "e0ad6fa9",
      "metadata": {
        "id": "e0ad6fa9"
      },
      "outputs": [],
      "source": [
        "df.to_csv(\"SimData_all4_label.csv\", index=False)"
      ]
    },
    {
      "cell_type": "markdown",
      "id": "1a2251e8",
      "metadata": {
        "id": "1a2251e8"
      },
      "source": [
        "## Reducing dimension v1 -physics base"
      ]
    },
    {
      "cell_type": "code",
      "execution_count": null,
      "id": "446af800",
      "metadata": {
        "id": "446af800"
      },
      "outputs": [],
      "source": [
        "phy_param = ['timestamp', 'latitude', 'longitude', 'gpsAltitude', 'absoluteAltitude', 'trueHeading', 'pitch', 'roll', 'yaw', 'groundSpeed', 'trueAirspeed', 'climbOrDescentRate', 'pilotRadioAltitude', 'copilotRadioAltitude', 'groundTrack', 'rollRate', 'pitchRate', 'yawRate', 'turnRate to degPerSec', 'angleOfAttack', 'rollAcceleration', 'pitchAcceleration', 'yawAcceleration', 'normalAcceleration', 'lateralAcceleration', 'longitudinalAcceleration', 'collectivePosition','antiTorquePedalPosition', 'throttlePosition', 'hasParkingBrakeEngaged', 'hasLandingGearDown', 'hasRotorBrakeEngaged', 'mainRotorRpm', 'tailRotorRpm', 'mainRotorTorque', 'surfaceWindDirection', 'label']\n",
        "df = df[phy_param]\n",
        "df.shape"
      ]
    },
    {
      "cell_type": "code",
      "execution_count": null,
      "id": "601839bb",
      "metadata": {
        "id": "601839bb"
      },
      "outputs": [],
      "source": [
        "df.to_csv(\"SimData_all4_label_drPhy.csv\", index=False)"
      ]
    },
    {
      "cell_type": "markdown",
      "id": "38c3f691",
      "metadata": {
        "id": "38c3f691"
      },
      "source": [
        "## Reducing dimension v2 -PCA"
      ]
    },
    {
      "cell_type": "code",
      "execution_count": null,
      "id": "ab2eac69",
      "metadata": {
        "id": "ab2eac69",
        "colab": {
          "base_uri": "https://localhost:8080/",
          "height": 330
        },
        "outputId": "8847cfc2-0085-4b24-cd9e-f3e4fa24d9b8"
      },
      "outputs": [
        {
          "output_type": "error",
          "ename": "FileNotFoundError",
          "evalue": "ignored",
          "traceback": [
            "\u001b[0;31m---------------------------------------------------------------------------\u001b[0m",
            "\u001b[0;31mFileNotFoundError\u001b[0m                         Traceback (most recent call last)",
            "\u001b[0;32m<ipython-input-14-ad943c081f84>\u001b[0m in \u001b[0;36m<cell line: 2>\u001b[0;34m()\u001b[0m\n\u001b[1;32m      1\u001b[0m \u001b[0;31m# Importing the dataset\u001b[0m\u001b[0;34m\u001b[0m\u001b[0;34m\u001b[0m\u001b[0m\n\u001b[0;32m----> 2\u001b[0;31m \u001b[0mdf\u001b[0m \u001b[0;34m=\u001b[0m \u001b[0mpd\u001b[0m\u001b[0;34m.\u001b[0m\u001b[0mread_csv\u001b[0m\u001b[0;34m(\u001b[0m\u001b[0;34m\"SimData_all4_label.csv\"\u001b[0m\u001b[0;34m)\u001b[0m\u001b[0;34m\u001b[0m\u001b[0;34m\u001b[0m\u001b[0m\n\u001b[0m",
            "\u001b[0;32m/usr/local/lib/python3.9/dist-packages/pandas/util/_decorators.py\u001b[0m in \u001b[0;36mwrapper\u001b[0;34m(*args, **kwargs)\u001b[0m\n\u001b[1;32m    209\u001b[0m                 \u001b[0;32melse\u001b[0m\u001b[0;34m:\u001b[0m\u001b[0;34m\u001b[0m\u001b[0;34m\u001b[0m\u001b[0m\n\u001b[1;32m    210\u001b[0m                     \u001b[0mkwargs\u001b[0m\u001b[0;34m[\u001b[0m\u001b[0mnew_arg_name\u001b[0m\u001b[0;34m]\u001b[0m \u001b[0;34m=\u001b[0m \u001b[0mnew_arg_value\u001b[0m\u001b[0;34m\u001b[0m\u001b[0;34m\u001b[0m\u001b[0m\n\u001b[0;32m--> 211\u001b[0;31m             \u001b[0;32mreturn\u001b[0m \u001b[0mfunc\u001b[0m\u001b[0;34m(\u001b[0m\u001b[0;34m*\u001b[0m\u001b[0margs\u001b[0m\u001b[0;34m,\u001b[0m \u001b[0;34m**\u001b[0m\u001b[0mkwargs\u001b[0m\u001b[0;34m)\u001b[0m\u001b[0;34m\u001b[0m\u001b[0;34m\u001b[0m\u001b[0m\n\u001b[0m\u001b[1;32m    212\u001b[0m \u001b[0;34m\u001b[0m\u001b[0m\n\u001b[1;32m    213\u001b[0m         \u001b[0;32mreturn\u001b[0m \u001b[0mcast\u001b[0m\u001b[0;34m(\u001b[0m\u001b[0mF\u001b[0m\u001b[0;34m,\u001b[0m \u001b[0mwrapper\u001b[0m\u001b[0;34m)\u001b[0m\u001b[0;34m\u001b[0m\u001b[0;34m\u001b[0m\u001b[0m\n",
            "\u001b[0;32m/usr/local/lib/python3.9/dist-packages/pandas/util/_decorators.py\u001b[0m in \u001b[0;36mwrapper\u001b[0;34m(*args, **kwargs)\u001b[0m\n\u001b[1;32m    329\u001b[0m                     \u001b[0mstacklevel\u001b[0m\u001b[0;34m=\u001b[0m\u001b[0mfind_stack_level\u001b[0m\u001b[0;34m(\u001b[0m\u001b[0;34m)\u001b[0m\u001b[0;34m,\u001b[0m\u001b[0;34m\u001b[0m\u001b[0;34m\u001b[0m\u001b[0m\n\u001b[1;32m    330\u001b[0m                 )\n\u001b[0;32m--> 331\u001b[0;31m             \u001b[0;32mreturn\u001b[0m \u001b[0mfunc\u001b[0m\u001b[0;34m(\u001b[0m\u001b[0;34m*\u001b[0m\u001b[0margs\u001b[0m\u001b[0;34m,\u001b[0m \u001b[0;34m**\u001b[0m\u001b[0mkwargs\u001b[0m\u001b[0;34m)\u001b[0m\u001b[0;34m\u001b[0m\u001b[0;34m\u001b[0m\u001b[0m\n\u001b[0m\u001b[1;32m    332\u001b[0m \u001b[0;34m\u001b[0m\u001b[0m\n\u001b[1;32m    333\u001b[0m         \u001b[0;31m# error: \"Callable[[VarArg(Any), KwArg(Any)], Any]\" has no\u001b[0m\u001b[0;34m\u001b[0m\u001b[0;34m\u001b[0m\u001b[0m\n",
            "\u001b[0;32m/usr/local/lib/python3.9/dist-packages/pandas/io/parsers/readers.py\u001b[0m in \u001b[0;36mread_csv\u001b[0;34m(filepath_or_buffer, sep, delimiter, header, names, index_col, usecols, squeeze, prefix, mangle_dupe_cols, dtype, engine, converters, true_values, false_values, skipinitialspace, skiprows, skipfooter, nrows, na_values, keep_default_na, na_filter, verbose, skip_blank_lines, parse_dates, infer_datetime_format, keep_date_col, date_parser, dayfirst, cache_dates, iterator, chunksize, compression, thousands, decimal, lineterminator, quotechar, quoting, doublequote, escapechar, comment, encoding, encoding_errors, dialect, error_bad_lines, warn_bad_lines, on_bad_lines, delim_whitespace, low_memory, memory_map, float_precision, storage_options)\u001b[0m\n\u001b[1;32m    948\u001b[0m     \u001b[0mkwds\u001b[0m\u001b[0;34m.\u001b[0m\u001b[0mupdate\u001b[0m\u001b[0;34m(\u001b[0m\u001b[0mkwds_defaults\u001b[0m\u001b[0;34m)\u001b[0m\u001b[0;34m\u001b[0m\u001b[0;34m\u001b[0m\u001b[0m\n\u001b[1;32m    949\u001b[0m \u001b[0;34m\u001b[0m\u001b[0m\n\u001b[0;32m--> 950\u001b[0;31m     \u001b[0;32mreturn\u001b[0m \u001b[0m_read\u001b[0m\u001b[0;34m(\u001b[0m\u001b[0mfilepath_or_buffer\u001b[0m\u001b[0;34m,\u001b[0m \u001b[0mkwds\u001b[0m\u001b[0;34m)\u001b[0m\u001b[0;34m\u001b[0m\u001b[0;34m\u001b[0m\u001b[0m\n\u001b[0m\u001b[1;32m    951\u001b[0m \u001b[0;34m\u001b[0m\u001b[0m\n\u001b[1;32m    952\u001b[0m \u001b[0;34m\u001b[0m\u001b[0m\n",
            "\u001b[0;32m/usr/local/lib/python3.9/dist-packages/pandas/io/parsers/readers.py\u001b[0m in \u001b[0;36m_read\u001b[0;34m(filepath_or_buffer, kwds)\u001b[0m\n\u001b[1;32m    603\u001b[0m \u001b[0;34m\u001b[0m\u001b[0m\n\u001b[1;32m    604\u001b[0m     \u001b[0;31m# Create the parser.\u001b[0m\u001b[0;34m\u001b[0m\u001b[0;34m\u001b[0m\u001b[0m\n\u001b[0;32m--> 605\u001b[0;31m     \u001b[0mparser\u001b[0m \u001b[0;34m=\u001b[0m \u001b[0mTextFileReader\u001b[0m\u001b[0;34m(\u001b[0m\u001b[0mfilepath_or_buffer\u001b[0m\u001b[0;34m,\u001b[0m \u001b[0;34m**\u001b[0m\u001b[0mkwds\u001b[0m\u001b[0;34m)\u001b[0m\u001b[0;34m\u001b[0m\u001b[0;34m\u001b[0m\u001b[0m\n\u001b[0m\u001b[1;32m    606\u001b[0m \u001b[0;34m\u001b[0m\u001b[0m\n\u001b[1;32m    607\u001b[0m     \u001b[0;32mif\u001b[0m \u001b[0mchunksize\u001b[0m \u001b[0;32mor\u001b[0m \u001b[0miterator\u001b[0m\u001b[0;34m:\u001b[0m\u001b[0;34m\u001b[0m\u001b[0;34m\u001b[0m\u001b[0m\n",
            "\u001b[0;32m/usr/local/lib/python3.9/dist-packages/pandas/io/parsers/readers.py\u001b[0m in \u001b[0;36m__init__\u001b[0;34m(self, f, engine, **kwds)\u001b[0m\n\u001b[1;32m   1440\u001b[0m \u001b[0;34m\u001b[0m\u001b[0m\n\u001b[1;32m   1441\u001b[0m         \u001b[0mself\u001b[0m\u001b[0;34m.\u001b[0m\u001b[0mhandles\u001b[0m\u001b[0;34m:\u001b[0m \u001b[0mIOHandles\u001b[0m \u001b[0;34m|\u001b[0m \u001b[0;32mNone\u001b[0m \u001b[0;34m=\u001b[0m \u001b[0;32mNone\u001b[0m\u001b[0;34m\u001b[0m\u001b[0;34m\u001b[0m\u001b[0m\n\u001b[0;32m-> 1442\u001b[0;31m         \u001b[0mself\u001b[0m\u001b[0;34m.\u001b[0m\u001b[0m_engine\u001b[0m \u001b[0;34m=\u001b[0m \u001b[0mself\u001b[0m\u001b[0;34m.\u001b[0m\u001b[0m_make_engine\u001b[0m\u001b[0;34m(\u001b[0m\u001b[0mf\u001b[0m\u001b[0;34m,\u001b[0m \u001b[0mself\u001b[0m\u001b[0;34m.\u001b[0m\u001b[0mengine\u001b[0m\u001b[0;34m)\u001b[0m\u001b[0;34m\u001b[0m\u001b[0;34m\u001b[0m\u001b[0m\n\u001b[0m\u001b[1;32m   1443\u001b[0m \u001b[0;34m\u001b[0m\u001b[0m\n\u001b[1;32m   1444\u001b[0m     \u001b[0;32mdef\u001b[0m \u001b[0mclose\u001b[0m\u001b[0;34m(\u001b[0m\u001b[0mself\u001b[0m\u001b[0;34m)\u001b[0m \u001b[0;34m->\u001b[0m \u001b[0;32mNone\u001b[0m\u001b[0;34m:\u001b[0m\u001b[0;34m\u001b[0m\u001b[0;34m\u001b[0m\u001b[0m\n",
            "\u001b[0;32m/usr/local/lib/python3.9/dist-packages/pandas/io/parsers/readers.py\u001b[0m in \u001b[0;36m_make_engine\u001b[0;34m(self, f, engine)\u001b[0m\n\u001b[1;32m   1733\u001b[0m                 \u001b[0;32mif\u001b[0m \u001b[0;34m\"b\"\u001b[0m \u001b[0;32mnot\u001b[0m \u001b[0;32min\u001b[0m \u001b[0mmode\u001b[0m\u001b[0;34m:\u001b[0m\u001b[0;34m\u001b[0m\u001b[0;34m\u001b[0m\u001b[0m\n\u001b[1;32m   1734\u001b[0m                     \u001b[0mmode\u001b[0m \u001b[0;34m+=\u001b[0m \u001b[0;34m\"b\"\u001b[0m\u001b[0;34m\u001b[0m\u001b[0;34m\u001b[0m\u001b[0m\n\u001b[0;32m-> 1735\u001b[0;31m             self.handles = get_handle(\n\u001b[0m\u001b[1;32m   1736\u001b[0m                 \u001b[0mf\u001b[0m\u001b[0;34m,\u001b[0m\u001b[0;34m\u001b[0m\u001b[0;34m\u001b[0m\u001b[0m\n\u001b[1;32m   1737\u001b[0m                 \u001b[0mmode\u001b[0m\u001b[0;34m,\u001b[0m\u001b[0;34m\u001b[0m\u001b[0;34m\u001b[0m\u001b[0m\n",
            "\u001b[0;32m/usr/local/lib/python3.9/dist-packages/pandas/io/common.py\u001b[0m in \u001b[0;36mget_handle\u001b[0;34m(path_or_buf, mode, encoding, compression, memory_map, is_text, errors, storage_options)\u001b[0m\n\u001b[1;32m    854\u001b[0m         \u001b[0;32mif\u001b[0m \u001b[0mioargs\u001b[0m\u001b[0;34m.\u001b[0m\u001b[0mencoding\u001b[0m \u001b[0;32mand\u001b[0m \u001b[0;34m\"b\"\u001b[0m \u001b[0;32mnot\u001b[0m \u001b[0;32min\u001b[0m \u001b[0mioargs\u001b[0m\u001b[0;34m.\u001b[0m\u001b[0mmode\u001b[0m\u001b[0;34m:\u001b[0m\u001b[0;34m\u001b[0m\u001b[0;34m\u001b[0m\u001b[0m\n\u001b[1;32m    855\u001b[0m             \u001b[0;31m# Encoding\u001b[0m\u001b[0;34m\u001b[0m\u001b[0;34m\u001b[0m\u001b[0m\n\u001b[0;32m--> 856\u001b[0;31m             handle = open(\n\u001b[0m\u001b[1;32m    857\u001b[0m                 \u001b[0mhandle\u001b[0m\u001b[0;34m,\u001b[0m\u001b[0;34m\u001b[0m\u001b[0;34m\u001b[0m\u001b[0m\n\u001b[1;32m    858\u001b[0m                 \u001b[0mioargs\u001b[0m\u001b[0;34m.\u001b[0m\u001b[0mmode\u001b[0m\u001b[0;34m,\u001b[0m\u001b[0;34m\u001b[0m\u001b[0;34m\u001b[0m\u001b[0m\n",
            "\u001b[0;31mFileNotFoundError\u001b[0m: [Errno 2] No such file or directory: 'SimData_all4_label.csv'"
          ]
        }
      ],
      "source": [
        "# Importing the dataset\n",
        "df = pd.read_csv(\"SimData_all4_label.csv\")"
      ]
    },
    {
      "cell_type": "code",
      "execution_count": null,
      "id": "9455a66a",
      "metadata": {
        "id": "9455a66a"
      },
      "outputs": [],
      "source": [
        "df.head()"
      ]
    },
    {
      "cell_type": "code",
      "execution_count": null,
      "id": "6908259a",
      "metadata": {
        "id": "6908259a"
      },
      "outputs": [],
      "source": [
        "df.insert(0, 'seconds', df.pop('seconds'))\n",
        "\n",
        "# remove redundant time columns\n",
        "to_drop = ['_id', 'date', 'time', 'gpsDateTime', 'timestamp']\n",
        "df = df.drop(to_drop, axis=1)"
      ]
    },
    {
      "cell_type": "code",
      "execution_count": null,
      "id": "f6d256b3",
      "metadata": {
        "id": "f6d256b3"
      },
      "outputs": [],
      "source": [
        "df.dtypes.value_counts()"
      ]
    },
    {
      "cell_type": "code",
      "execution_count": null,
      "id": "b91dc438",
      "metadata": {
        "id": "b91dc438"
      },
      "outputs": [],
      "source": [
        "df.select_dtypes(include=object)"
      ]
    },
    {
      "cell_type": "code",
      "execution_count": null,
      "id": "29912971",
      "metadata": {
        "id": "29912971"
      },
      "outputs": [],
      "source": [
        "df['autoPilotMode'].value_counts()"
      ]
    },
    {
      "cell_type": "code",
      "execution_count": null,
      "id": "f0e27cfc",
      "metadata": {
        "id": "f0e27cfc"
      },
      "outputs": [],
      "source": [
        "# remove unrelated object columns\n",
        "\n",
        "to_drop = ['autoPilotMode']\n",
        "df = df.drop(to_drop, axis=1)"
      ]
    },
    {
      "cell_type": "code",
      "execution_count": null,
      "id": "cce894fb",
      "metadata": {
        "id": "cce894fb"
      },
      "outputs": [],
      "source": [
        "df.shape"
      ]
    },
    {
      "cell_type": "code",
      "execution_count": null,
      "id": "DSM4RVUUaqhr",
      "metadata": {
        "id": "DSM4RVUUaqhr"
      },
      "outputs": [],
      "source": [
        "### insert PCA component selection"
      ]
    },
    {
      "cell_type": "code",
      "execution_count": null,
      "id": "c24b90ac",
      "metadata": {
        "id": "c24b90ac"
      },
      "outputs": [],
      "source": [
        "X = df.iloc[:, :-1].values\n",
        "y = df.iloc[:, -1].values"
      ]
    },
    {
      "cell_type": "code",
      "execution_count": null,
      "id": "9a2663f7",
      "metadata": {
        "id": "9a2663f7"
      },
      "outputs": [],
      "source": [
        "# Splitting the dataset into the Training set and Test set\n",
        "from sklearn.model_selection import train_test_split\n",
        "X_train, X_test, y_train, y_test = train_test_split(X, y, test_size = 0.2, random_state = 0)"
      ]
    },
    {
      "cell_type": "code",
      "execution_count": null,
      "id": "7ZY15e8iaqlI",
      "metadata": {
        "id": "7ZY15e8iaqlI"
      },
      "outputs": [],
      "source": [
        "# Feature Scaling\n",
        "from sklearn.preprocessing import StandardScaler\n",
        "sc = StandardScaler()\n",
        "X_train = sc.fit_transform(X_train)\n",
        "X_test = sc.transform(X_test)"
      ]
    },
    {
      "cell_type": "code",
      "execution_count": null,
      "id": "MGOUYBBnaqol",
      "metadata": {
        "id": "MGOUYBBnaqol"
      },
      "outputs": [],
      "source": [
        "# Applying PCA\n",
        "from sklearn.decomposition import PCA\n",
        "pca = PCA(n_components = 100)    #100\n",
        "X_train = pca.fit_transform(X_train)\n",
        "X_test = pca.transform(X_test)"
      ]
    },
    {
      "cell_type": "code",
      "execution_count": null,
      "id": "Xcp_YBF4aqrZ",
      "metadata": {
        "id": "Xcp_YBF4aqrZ"
      },
      "outputs": [],
      "source": [
        "# Training the Logistic Regression model on the Training set\n",
        "from sklearn.linear_model import LogisticRegression\n",
        "classifier = LogisticRegression(random_state = 0)\n",
        "classifier.fit(X_train, y_train)"
      ]
    },
    {
      "cell_type": "code",
      "execution_count": null,
      "id": "pEXM0-DmaquG",
      "metadata": {
        "id": "pEXM0-DmaquG"
      },
      "outputs": [],
      "source": [
        "# Making the Confusion Matrix\n",
        "from sklearn.metrics import confusion_matrix, accuracy_score\n",
        "y_pred = classifier.predict(X_test)\n",
        "cm = confusion_matrix(y_test, y_pred)\n",
        "print(cm)\n",
        "accuracy_score(y_test, y_pred)"
      ]
    },
    {
      "cell_type": "code",
      "execution_count": null,
      "id": "4RDOI4lObStT",
      "metadata": {
        "id": "4RDOI4lObStT"
      },
      "outputs": [],
      "source": [
        "PC_values = np.arange(pca.n_components_) + 1\n",
        "plt.plot(PC_values, pca.explained_variance_ratio_, 'o-', linewidth=2, color='blue')\n",
        "plt.title('Scree Plot')\n",
        "plt.xlabel('Principal Component')\n",
        "plt.ylabel('Variance Explained')\n",
        "plt.xticks(np.arange(0, 100, step=5))\n",
        "plt.show()\n",
        "\n",
        "### choose 35/10 components"
      ]
    },
    {
      "cell_type": "markdown",
      "id": "f292be53",
      "metadata": {
        "id": "f292be53"
      },
      "source": [
        "### Applying PCA to the entire data with the determined n-components"
      ]
    },
    {
      "cell_type": "code",
      "execution_count": null,
      "id": "y0p9OhnjbS1E",
      "metadata": {
        "id": "y0p9OhnjbS1E"
      },
      "outputs": [],
      "source": [
        "X = df.iloc[:, :-1].values\n",
        "y = df.iloc[:, -1].values"
      ]
    },
    {
      "cell_type": "code",
      "execution_count": null,
      "id": "9st4bBh7bS3u",
      "metadata": {
        "id": "9st4bBh7bS3u"
      },
      "outputs": [],
      "source": [
        "## Feature Scaling\n",
        "from sklearn.preprocessing import StandardScaler\n",
        "sc = StandardScaler()\n",
        "X = sc.fit_transform(X)"
      ]
    },
    {
      "cell_type": "code",
      "execution_count": null,
      "id": "9z4iFb2AbS9s",
      "metadata": {
        "id": "9z4iFb2AbS9s"
      },
      "outputs": [],
      "source": [
        "## Applying PCA with 35 components\n",
        "from sklearn.decomposition import PCA\n",
        "pca_35 = PCA(n_components = 35)   #35\n",
        "X_35 = pca_35.fit_transform(X)"
      ]
    },
    {
      "cell_type": "code",
      "execution_count": null,
      "id": "Y8roMQz0bTCf",
      "metadata": {
        "id": "Y8roMQz0bTCf"
      },
      "outputs": [],
      "source": [
        "## convert to dataframe\n",
        "\n",
        "X_35 = pd.DataFrame(X_35)\n",
        "new_cols = {}\n",
        "for i in range(35):\n",
        "    if i == 0:\n",
        "        new_cols[i] = 'time'\n",
        "    else:\n",
        "        new_cols[i] = f'V{i}'\n",
        "X_35 = X_35.rename(columns=new_cols)\n",
        "\n",
        "y = pd.DataFrame(y, columns=['label'])"
      ]
    },
    {
      "cell_type": "code",
      "execution_count": null,
      "id": "7uOZ-dsJaqxA",
      "metadata": {
        "id": "7uOZ-dsJaqxA"
      },
      "outputs": [],
      "source": [
        "df_PCA_35 = pd.concat([X_35, y], axis=1)"
      ]
    },
    {
      "cell_type": "code",
      "execution_count": null,
      "id": "ROjUtWfuaqzr",
      "metadata": {
        "id": "ROjUtWfuaqzr"
      },
      "outputs": [],
      "source": [
        "df_PCA_35.head()"
      ]
    },
    {
      "cell_type": "code",
      "execution_count": null,
      "id": "mKpx_462aq2l",
      "metadata": {
        "id": "mKpx_462aq2l"
      },
      "outputs": [],
      "source": [
        "df_PCA_35.to_csv(\"SimData_all4_label_drPCA35.csv\", index=False)"
      ]
    },
    {
      "cell_type": "code",
      "execution_count": null,
      "id": "6vlY2an3aq8O",
      "metadata": {
        "id": "6vlY2an3aq8O"
      },
      "outputs": [],
      "source": [
        "## Applying PCA with 15 components\n",
        "from sklearn.decomposition import PCA\n",
        "pca_15 = PCA(n_components = 15)   \n",
        "X_15 = pca_15.fit_transform(X)"
      ]
    },
    {
      "cell_type": "code",
      "execution_count": null,
      "id": "SPZLM8tjaq-8",
      "metadata": {
        "id": "SPZLM8tjaq-8"
      },
      "outputs": [],
      "source": [
        "## convert to dataframe\n",
        "\n",
        "X_15 = pd.DataFrame(X_15)\n",
        "new_cols = {}\n",
        "for i in range(15):\n",
        "    if i == 0:\n",
        "        new_cols[i] = 'time'\n",
        "    else:\n",
        "        new_cols[i] = f'V{i}'\n",
        "X_15 = X_15.rename(columns=new_cols)\n",
        "\n",
        "y = pd.DataFrame(y, columns=['label'])"
      ]
    },
    {
      "cell_type": "code",
      "execution_count": null,
      "id": "6ac08071",
      "metadata": {
        "id": "6ac08071"
      },
      "outputs": [],
      "source": [
        "df_PCA_15 = pd.concat([X_15, y], axis=1)"
      ]
    },
    {
      "cell_type": "code",
      "execution_count": null,
      "id": "c42ceec5",
      "metadata": {
        "id": "c42ceec5"
      },
      "outputs": [],
      "source": [
        "df_PCA_15.head()"
      ]
    },
    {
      "cell_type": "code",
      "execution_count": null,
      "id": "9980647e",
      "metadata": {
        "id": "9980647e"
      },
      "outputs": [],
      "source": [
        "df_PCA_15.to_csv(\"SimData_all4_label_drPCA15.csv\", index=False)"
      ]
    },
    {
      "cell_type": "markdown",
      "id": "606fe382",
      "metadata": {
        "id": "606fe382"
      },
      "source": [
        "## Auto Encoders"
      ]
    },
    {
      "cell_type": "code",
      "execution_count": null,
      "id": "aqhgv3VLFf8e",
      "metadata": {
        "id": "aqhgv3VLFf8e"
      },
      "outputs": [],
      "source": [
        "#T-SNE plot code for visualizing high dimensional data (currently unused)\n",
        "\n",
        "def tsne_plot(x1, y1, name=\"graph.png\"):\n",
        "    tsne = TSNE(n_components=2, random_state=0)\n",
        "    X_t = tsne.fit_transform(x1)\n",
        "\n",
        "    plt.figure(figsize=(12, 8))\n",
        "    plt.scatter(X_t[np.where(y1 == 0), 0], X_t[np.where(y1 == 0), 1], marker='o', color='g', linewidth=1, alpha=0.8, label='other')\n",
        "    plt.scatter(X_t[np.where(y1 == 1), 0], X_t[np.where(y1 == 1), 1], marker='o', color='r', linewidth=1, alpha=0.8, label='sTurn')\n",
        "    plt.scatter(X_t[np.where(y1 == 2), 0], X_t[np.where(y1 == 2), 1], marker='o', color='b', linewidth=1, alpha=0.8, label='quickStop')\n",
        "    plt.scatter(X_t[np.where(y1 == 3), 0], X_t[np.where(y1 == 3), 1], marker='o', color='c', linewidth=1, alpha=0.8, label='lowRecon')\n",
        "    plt.scatter(X_t[np.where(y1 == 4), 0], X_t[np.where(y1 == 4), 1], marker='o', color='m', linewidth=1, alpha=0.8, label='highRecon')\n",
        "\n",
        "    plt.legend(loc='best');\n",
        "    #plt.savefig(name);\n",
        "    plt.show();"
      ]
    },
    {
      "cell_type": "code",
      "execution_count": null,
      "id": "KCZ5ntwAjkY3",
      "metadata": {
        "id": "KCZ5ntwAjkY3"
      },
      "outputs": [],
      "source": [
        "df15 = pd.read_csv('/content/drive/MyDrive/daen690_datapirates/SimData_all4_label_drPCA15.csv')\n",
        "df35 = pd.read_csv('/content/drive/MyDrive/daen690_datapirates/SimData_all4_label_drPCA35.csv')\n",
        "# data = pd.read_csv('SimData_all4_label_drPCA15.csv.csv')\n",
        "#df15 = pd.read_csv('SimData_all4_label_drPCA15.csv')\n",
        "#df35 = pd.read_csv('SimData_all4_label_drPCA35.csv')"
      ]
    },
    {
      "cell_type": "code",
      "execution_count": null,
      "id": "33c7094d",
      "metadata": {
        "id": "33c7094d"
      },
      "outputs": [],
      "source": [
        "data = df15"
      ]
    },
    {
      "cell_type": "code",
      "source": [
        "data.head()"
      ],
      "metadata": {
        "id": "YRT-s4BSbS_V",
        "outputId": "63efcf27-fcb8-4486-e89a-ebe764dc7b6b",
        "colab": {
          "base_uri": "https://localhost:8080/",
          "height": 206
        }
      },
      "id": "YRT-s4BSbS_V",
      "execution_count": null,
      "outputs": [
        {
          "output_type": "execute_result",
          "data": {
            "text/plain": [
              "       time        V1        V2        V3        V4        V5        V6  \\\n",
              "0  8.576277  1.193138  3.341021  6.276858 -3.227913 -7.050631  5.333662   \n",
              "1  8.649646  1.178102  3.366586  6.275270 -3.171326 -7.008838  5.318106   \n",
              "2  8.757860  1.158506  3.371297  6.267848 -3.130746 -6.927826  5.292134   \n",
              "3  8.897982  1.131895  3.381278  6.257778 -3.071740 -6.829007  5.267351   \n",
              "4  9.066471  1.086412  3.403178  6.260446 -2.937585 -6.679783  5.241688   \n",
              "\n",
              "         V7        V8        V9       V10       V11       V12       V13  \\\n",
              "0  1.335132  0.151819  2.459321 -3.521901 -0.907552 -0.594847 -0.046998   \n",
              "1  1.381344  0.177521  2.448725 -3.505331 -0.885041 -0.569085  0.061086   \n",
              "2  1.341530  0.151332  2.440866 -3.518114 -0.847589 -0.610983  0.058098   \n",
              "3  1.301847  0.130145  2.446611 -3.516770 -0.835631 -0.626183  0.052501   \n",
              "4  1.253158  0.068401  2.415725 -3.508354 -0.899922 -0.582459  0.100977   \n",
              "\n",
              "        V14  label  \n",
              "0 -1.762797  other  \n",
              "1 -1.659885  other  \n",
              "2 -1.677230  other  \n",
              "3 -1.677469  other  \n",
              "4 -1.703469  other  "
            ],
            "text/html": [
              "\n",
              "  <div id=\"df-ca6e049f-a3fd-458d-94b9-0a532be74168\">\n",
              "    <div class=\"colab-df-container\">\n",
              "      <div>\n",
              "<style scoped>\n",
              "    .dataframe tbody tr th:only-of-type {\n",
              "        vertical-align: middle;\n",
              "    }\n",
              "\n",
              "    .dataframe tbody tr th {\n",
              "        vertical-align: top;\n",
              "    }\n",
              "\n",
              "    .dataframe thead th {\n",
              "        text-align: right;\n",
              "    }\n",
              "</style>\n",
              "<table border=\"1\" class=\"dataframe\">\n",
              "  <thead>\n",
              "    <tr style=\"text-align: right;\">\n",
              "      <th></th>\n",
              "      <th>time</th>\n",
              "      <th>V1</th>\n",
              "      <th>V2</th>\n",
              "      <th>V3</th>\n",
              "      <th>V4</th>\n",
              "      <th>V5</th>\n",
              "      <th>V6</th>\n",
              "      <th>V7</th>\n",
              "      <th>V8</th>\n",
              "      <th>V9</th>\n",
              "      <th>V10</th>\n",
              "      <th>V11</th>\n",
              "      <th>V12</th>\n",
              "      <th>V13</th>\n",
              "      <th>V14</th>\n",
              "      <th>label</th>\n",
              "    </tr>\n",
              "  </thead>\n",
              "  <tbody>\n",
              "    <tr>\n",
              "      <th>0</th>\n",
              "      <td>8.576277</td>\n",
              "      <td>1.193138</td>\n",
              "      <td>3.341021</td>\n",
              "      <td>6.276858</td>\n",
              "      <td>-3.227913</td>\n",
              "      <td>-7.050631</td>\n",
              "      <td>5.333662</td>\n",
              "      <td>1.335132</td>\n",
              "      <td>0.151819</td>\n",
              "      <td>2.459321</td>\n",
              "      <td>-3.521901</td>\n",
              "      <td>-0.907552</td>\n",
              "      <td>-0.594847</td>\n",
              "      <td>-0.046998</td>\n",
              "      <td>-1.762797</td>\n",
              "      <td>other</td>\n",
              "    </tr>\n",
              "    <tr>\n",
              "      <th>1</th>\n",
              "      <td>8.649646</td>\n",
              "      <td>1.178102</td>\n",
              "      <td>3.366586</td>\n",
              "      <td>6.275270</td>\n",
              "      <td>-3.171326</td>\n",
              "      <td>-7.008838</td>\n",
              "      <td>5.318106</td>\n",
              "      <td>1.381344</td>\n",
              "      <td>0.177521</td>\n",
              "      <td>2.448725</td>\n",
              "      <td>-3.505331</td>\n",
              "      <td>-0.885041</td>\n",
              "      <td>-0.569085</td>\n",
              "      <td>0.061086</td>\n",
              "      <td>-1.659885</td>\n",
              "      <td>other</td>\n",
              "    </tr>\n",
              "    <tr>\n",
              "      <th>2</th>\n",
              "      <td>8.757860</td>\n",
              "      <td>1.158506</td>\n",
              "      <td>3.371297</td>\n",
              "      <td>6.267848</td>\n",
              "      <td>-3.130746</td>\n",
              "      <td>-6.927826</td>\n",
              "      <td>5.292134</td>\n",
              "      <td>1.341530</td>\n",
              "      <td>0.151332</td>\n",
              "      <td>2.440866</td>\n",
              "      <td>-3.518114</td>\n",
              "      <td>-0.847589</td>\n",
              "      <td>-0.610983</td>\n",
              "      <td>0.058098</td>\n",
              "      <td>-1.677230</td>\n",
              "      <td>other</td>\n",
              "    </tr>\n",
              "    <tr>\n",
              "      <th>3</th>\n",
              "      <td>8.897982</td>\n",
              "      <td>1.131895</td>\n",
              "      <td>3.381278</td>\n",
              "      <td>6.257778</td>\n",
              "      <td>-3.071740</td>\n",
              "      <td>-6.829007</td>\n",
              "      <td>5.267351</td>\n",
              "      <td>1.301847</td>\n",
              "      <td>0.130145</td>\n",
              "      <td>2.446611</td>\n",
              "      <td>-3.516770</td>\n",
              "      <td>-0.835631</td>\n",
              "      <td>-0.626183</td>\n",
              "      <td>0.052501</td>\n",
              "      <td>-1.677469</td>\n",
              "      <td>other</td>\n",
              "    </tr>\n",
              "    <tr>\n",
              "      <th>4</th>\n",
              "      <td>9.066471</td>\n",
              "      <td>1.086412</td>\n",
              "      <td>3.403178</td>\n",
              "      <td>6.260446</td>\n",
              "      <td>-2.937585</td>\n",
              "      <td>-6.679783</td>\n",
              "      <td>5.241688</td>\n",
              "      <td>1.253158</td>\n",
              "      <td>0.068401</td>\n",
              "      <td>2.415725</td>\n",
              "      <td>-3.508354</td>\n",
              "      <td>-0.899922</td>\n",
              "      <td>-0.582459</td>\n",
              "      <td>0.100977</td>\n",
              "      <td>-1.703469</td>\n",
              "      <td>other</td>\n",
              "    </tr>\n",
              "  </tbody>\n",
              "</table>\n",
              "</div>\n",
              "      <button class=\"colab-df-convert\" onclick=\"convertToInteractive('df-ca6e049f-a3fd-458d-94b9-0a532be74168')\"\n",
              "              title=\"Convert this dataframe to an interactive table.\"\n",
              "              style=\"display:none;\">\n",
              "        \n",
              "  <svg xmlns=\"http://www.w3.org/2000/svg\" height=\"24px\"viewBox=\"0 0 24 24\"\n",
              "       width=\"24px\">\n",
              "    <path d=\"M0 0h24v24H0V0z\" fill=\"none\"/>\n",
              "    <path d=\"M18.56 5.44l.94 2.06.94-2.06 2.06-.94-2.06-.94-.94-2.06-.94 2.06-2.06.94zm-11 1L8.5 8.5l.94-2.06 2.06-.94-2.06-.94L8.5 2.5l-.94 2.06-2.06.94zm10 10l.94 2.06.94-2.06 2.06-.94-2.06-.94-.94-2.06-.94 2.06-2.06.94z\"/><path d=\"M17.41 7.96l-1.37-1.37c-.4-.4-.92-.59-1.43-.59-.52 0-1.04.2-1.43.59L10.3 9.45l-7.72 7.72c-.78.78-.78 2.05 0 2.83L4 21.41c.39.39.9.59 1.41.59.51 0 1.02-.2 1.41-.59l7.78-7.78 2.81-2.81c.8-.78.8-2.07 0-2.86zM5.41 20L4 18.59l7.72-7.72 1.47 1.35L5.41 20z\"/>\n",
              "  </svg>\n",
              "      </button>\n",
              "      \n",
              "  <style>\n",
              "    .colab-df-container {\n",
              "      display:flex;\n",
              "      flex-wrap:wrap;\n",
              "      gap: 12px;\n",
              "    }\n",
              "\n",
              "    .colab-df-convert {\n",
              "      background-color: #E8F0FE;\n",
              "      border: none;\n",
              "      border-radius: 50%;\n",
              "      cursor: pointer;\n",
              "      display: none;\n",
              "      fill: #1967D2;\n",
              "      height: 32px;\n",
              "      padding: 0 0 0 0;\n",
              "      width: 32px;\n",
              "    }\n",
              "\n",
              "    .colab-df-convert:hover {\n",
              "      background-color: #E2EBFA;\n",
              "      box-shadow: 0px 1px 2px rgba(60, 64, 67, 0.3), 0px 1px 3px 1px rgba(60, 64, 67, 0.15);\n",
              "      fill: #174EA6;\n",
              "    }\n",
              "\n",
              "    [theme=dark] .colab-df-convert {\n",
              "      background-color: #3B4455;\n",
              "      fill: #D2E3FC;\n",
              "    }\n",
              "\n",
              "    [theme=dark] .colab-df-convert:hover {\n",
              "      background-color: #434B5C;\n",
              "      box-shadow: 0px 1px 3px 1px rgba(0, 0, 0, 0.15);\n",
              "      filter: drop-shadow(0px 1px 2px rgba(0, 0, 0, 0.3));\n",
              "      fill: #FFFFFF;\n",
              "    }\n",
              "  </style>\n",
              "\n",
              "      <script>\n",
              "        const buttonEl =\n",
              "          document.querySelector('#df-ca6e049f-a3fd-458d-94b9-0a532be74168 button.colab-df-convert');\n",
              "        buttonEl.style.display =\n",
              "          google.colab.kernel.accessAllowed ? 'block' : 'none';\n",
              "\n",
              "        async function convertToInteractive(key) {\n",
              "          const element = document.querySelector('#df-ca6e049f-a3fd-458d-94b9-0a532be74168');\n",
              "          const dataTable =\n",
              "            await google.colab.kernel.invokeFunction('convertToInteractive',\n",
              "                                                     [key], {});\n",
              "          if (!dataTable) return;\n",
              "\n",
              "          const docLinkHtml = 'Like what you see? Visit the ' +\n",
              "            '<a target=\"_blank\" href=https://colab.research.google.com/notebooks/data_table.ipynb>data table notebook</a>'\n",
              "            + ' to learn more about interactive tables.';\n",
              "          element.innerHTML = '';\n",
              "          dataTable['output_type'] = 'display_data';\n",
              "          await google.colab.output.renderOutput(dataTable, element);\n",
              "          const docLink = document.createElement('div');\n",
              "          docLink.innerHTML = docLinkHtml;\n",
              "          element.appendChild(docLink);\n",
              "        }\n",
              "      </script>\n",
              "    </div>\n",
              "  </div>\n",
              "  "
            ]
          },
          "metadata": {},
          "execution_count": 6
        }
      ]
    },
    {
      "cell_type": "code",
      "execution_count": null,
      "id": "PoUtTQXEjkh-",
      "metadata": {
        "id": "PoUtTQXEjkh-",
        "colab": {
          "base_uri": "https://localhost:8080/"
        },
        "outputId": "5d32d181-6b59-4c3c-88f0-196755bf43ea"
      },
      "outputs": [
        {
          "output_type": "execute_result",
          "data": {
            "text/plain": [
              "time     float64\n",
              "V1       float64\n",
              "V2       float64\n",
              "V3       float64\n",
              "V4       float64\n",
              "V5       float64\n",
              "V6       float64\n",
              "V7       float64\n",
              "V8       float64\n",
              "V9       float64\n",
              "V10      float64\n",
              "V11      float64\n",
              "V12      float64\n",
              "V13      float64\n",
              "V14      float64\n",
              "label     object\n",
              "dtype: object"
            ]
          },
          "metadata": {},
          "execution_count": 7
        }
      ],
      "source": [
        "data.dtypes"
      ]
    },
    {
      "cell_type": "code",
      "source": [],
      "metadata": {
        "id": "3-E7Q0RAgNIh"
      },
      "id": "3-E7Q0RAgNIh",
      "execution_count": null,
      "outputs": []
    },
    {
      "cell_type": "code",
      "source": [
        "vc = data['label'].value_counts().to_frame().reset_index()\n",
        "vc['percent'] = vc[\"label\"].apply(lambda x : round(100*float(x) / len(data), 2))\n",
        "vc = vc.rename(columns = {\"index\" : \"Target\", \"Class\" : \"Count\"})\n",
        "vc"
      ],
      "metadata": {
        "colab": {
          "base_uri": "https://localhost:8080/",
          "height": 206
        },
        "id": "5MOEzGJVeRqx",
        "outputId": "bc3ed37c-198f-4a98-8830-aa8b97f4e74d"
      },
      "id": "5MOEzGJVeRqx",
      "execution_count": null,
      "outputs": [
        {
          "output_type": "execute_result",
          "data": {
            "text/plain": [
              "      Target    label  percent\n",
              "0      other  2061689    95.07\n",
              "1      sTurn    57371     2.65\n",
              "2  quickStop    44048     2.03\n",
              "3   lowRecon     2718     0.13\n",
              "4  highRecon     2696     0.12"
            ],
            "text/html": [
              "\n",
              "  <div id=\"df-414150b4-1b94-49a4-b80e-0d83c3a3e1cd\">\n",
              "    <div class=\"colab-df-container\">\n",
              "      <div>\n",
              "<style scoped>\n",
              "    .dataframe tbody tr th:only-of-type {\n",
              "        vertical-align: middle;\n",
              "    }\n",
              "\n",
              "    .dataframe tbody tr th {\n",
              "        vertical-align: top;\n",
              "    }\n",
              "\n",
              "    .dataframe thead th {\n",
              "        text-align: right;\n",
              "    }\n",
              "</style>\n",
              "<table border=\"1\" class=\"dataframe\">\n",
              "  <thead>\n",
              "    <tr style=\"text-align: right;\">\n",
              "      <th></th>\n",
              "      <th>Target</th>\n",
              "      <th>label</th>\n",
              "      <th>percent</th>\n",
              "    </tr>\n",
              "  </thead>\n",
              "  <tbody>\n",
              "    <tr>\n",
              "      <th>0</th>\n",
              "      <td>other</td>\n",
              "      <td>2061689</td>\n",
              "      <td>95.07</td>\n",
              "    </tr>\n",
              "    <tr>\n",
              "      <th>1</th>\n",
              "      <td>sTurn</td>\n",
              "      <td>57371</td>\n",
              "      <td>2.65</td>\n",
              "    </tr>\n",
              "    <tr>\n",
              "      <th>2</th>\n",
              "      <td>quickStop</td>\n",
              "      <td>44048</td>\n",
              "      <td>2.03</td>\n",
              "    </tr>\n",
              "    <tr>\n",
              "      <th>3</th>\n",
              "      <td>lowRecon</td>\n",
              "      <td>2718</td>\n",
              "      <td>0.13</td>\n",
              "    </tr>\n",
              "    <tr>\n",
              "      <th>4</th>\n",
              "      <td>highRecon</td>\n",
              "      <td>2696</td>\n",
              "      <td>0.12</td>\n",
              "    </tr>\n",
              "  </tbody>\n",
              "</table>\n",
              "</div>\n",
              "      <button class=\"colab-df-convert\" onclick=\"convertToInteractive('df-414150b4-1b94-49a4-b80e-0d83c3a3e1cd')\"\n",
              "              title=\"Convert this dataframe to an interactive table.\"\n",
              "              style=\"display:none;\">\n",
              "        \n",
              "  <svg xmlns=\"http://www.w3.org/2000/svg\" height=\"24px\"viewBox=\"0 0 24 24\"\n",
              "       width=\"24px\">\n",
              "    <path d=\"M0 0h24v24H0V0z\" fill=\"none\"/>\n",
              "    <path d=\"M18.56 5.44l.94 2.06.94-2.06 2.06-.94-2.06-.94-.94-2.06-.94 2.06-2.06.94zm-11 1L8.5 8.5l.94-2.06 2.06-.94-2.06-.94L8.5 2.5l-.94 2.06-2.06.94zm10 10l.94 2.06.94-2.06 2.06-.94-2.06-.94-.94-2.06-.94 2.06-2.06.94z\"/><path d=\"M17.41 7.96l-1.37-1.37c-.4-.4-.92-.59-1.43-.59-.52 0-1.04.2-1.43.59L10.3 9.45l-7.72 7.72c-.78.78-.78 2.05 0 2.83L4 21.41c.39.39.9.59 1.41.59.51 0 1.02-.2 1.41-.59l7.78-7.78 2.81-2.81c.8-.78.8-2.07 0-2.86zM5.41 20L4 18.59l7.72-7.72 1.47 1.35L5.41 20z\"/>\n",
              "  </svg>\n",
              "      </button>\n",
              "      \n",
              "  <style>\n",
              "    .colab-df-container {\n",
              "      display:flex;\n",
              "      flex-wrap:wrap;\n",
              "      gap: 12px;\n",
              "    }\n",
              "\n",
              "    .colab-df-convert {\n",
              "      background-color: #E8F0FE;\n",
              "      border: none;\n",
              "      border-radius: 50%;\n",
              "      cursor: pointer;\n",
              "      display: none;\n",
              "      fill: #1967D2;\n",
              "      height: 32px;\n",
              "      padding: 0 0 0 0;\n",
              "      width: 32px;\n",
              "    }\n",
              "\n",
              "    .colab-df-convert:hover {\n",
              "      background-color: #E2EBFA;\n",
              "      box-shadow: 0px 1px 2px rgba(60, 64, 67, 0.3), 0px 1px 3px 1px rgba(60, 64, 67, 0.15);\n",
              "      fill: #174EA6;\n",
              "    }\n",
              "\n",
              "    [theme=dark] .colab-df-convert {\n",
              "      background-color: #3B4455;\n",
              "      fill: #D2E3FC;\n",
              "    }\n",
              "\n",
              "    [theme=dark] .colab-df-convert:hover {\n",
              "      background-color: #434B5C;\n",
              "      box-shadow: 0px 1px 3px 1px rgba(0, 0, 0, 0.15);\n",
              "      filter: drop-shadow(0px 1px 2px rgba(0, 0, 0, 0.3));\n",
              "      fill: #FFFFFF;\n",
              "    }\n",
              "  </style>\n",
              "\n",
              "      <script>\n",
              "        const buttonEl =\n",
              "          document.querySelector('#df-414150b4-1b94-49a4-b80e-0d83c3a3e1cd button.colab-df-convert');\n",
              "        buttonEl.style.display =\n",
              "          google.colab.kernel.accessAllowed ? 'block' : 'none';\n",
              "\n",
              "        async function convertToInteractive(key) {\n",
              "          const element = document.querySelector('#df-414150b4-1b94-49a4-b80e-0d83c3a3e1cd');\n",
              "          const dataTable =\n",
              "            await google.colab.kernel.invokeFunction('convertToInteractive',\n",
              "                                                     [key], {});\n",
              "          if (!dataTable) return;\n",
              "\n",
              "          const docLinkHtml = 'Like what you see? Visit the ' +\n",
              "            '<a target=\"_blank\" href=https://colab.research.google.com/notebooks/data_table.ipynb>data table notebook</a>'\n",
              "            + ' to learn more about interactive tables.';\n",
              "          element.innerHTML = '';\n",
              "          dataTable['output_type'] = 'display_data';\n",
              "          await google.colab.output.renderOutput(dataTable, element);\n",
              "          const docLink = document.createElement('div');\n",
              "          docLink.innerHTML = docLinkHtml;\n",
              "          element.appendChild(docLink);\n",
              "        }\n",
              "      </script>\n",
              "    </div>\n",
              "  </div>\n",
              "  "
            ]
          },
          "metadata": {},
          "execution_count": 8
        }
      ]
    },
    {
      "cell_type": "code",
      "execution_count": null,
      "id": "61KFz61gjkn2",
      "metadata": {
        "id": "61KFz61gjkn2"
      },
      "outputs": [],
      "source": [
        "data.label.unique()\n",
        "lab = []\n",
        "for i in data.label:\n",
        "    if i == 'other':\n",
        "        lab.append(0)\n",
        "    elif i == 'sTurn':\n",
        "        lab.append(1)\n",
        "    elif i == 'quickStop':\n",
        "        lab.append(2)\n",
        "    elif i == 'lowRecon':\n",
        "        lab.append(3)\n",
        "    elif i == 'highRecon':\n",
        "        lab.append(4)\n",
        "\n",
        "\n",
        "data.label = lab"
      ]
    },
    {
      "cell_type": "code",
      "execution_count": null,
      "id": "kNXUex0KjksO",
      "metadata": {
        "id": "kNXUex0KjksO",
        "colab": {
          "base_uri": "https://localhost:8080/",
          "height": 468
        },
        "outputId": "88e9aecf-4814-4f0e-dac8-2d681e08e0f6"
      },
      "outputs": [
        {
          "output_type": "execute_result",
          "data": {
            "text/plain": [
              "              time        V1         V2        V3        V4        V5  \\\n",
              "0         8.576277  1.193138   3.341021  6.276858 -3.227913 -7.050631   \n",
              "1         8.649646  1.178102   3.366586  6.275270 -3.171326 -7.008838   \n",
              "2         8.757860  1.158506   3.371297  6.267848 -3.130746 -6.927826   \n",
              "3         8.897982  1.131895   3.381278  6.257778 -3.071740 -6.829007   \n",
              "4         9.066471  1.086412   3.403178  6.260446 -2.937585 -6.679783   \n",
              "...            ...       ...        ...       ...       ...       ...   \n",
              "2168517  13.390417  3.991986  12.106136  9.696063 -5.298283  4.893044   \n",
              "2168518  13.393692  3.986051  12.111542  9.693339 -5.295740  4.890586   \n",
              "2168519  12.849065  3.883170  12.453910  9.563804 -5.186479  5.747109   \n",
              "2168520  12.922217  3.855509  12.512167  9.439270 -5.240997  5.806995   \n",
              "2168521  13.019727  3.796770  12.616073  9.293234 -5.295783  5.872429   \n",
              "\n",
              "                V6        V7        V8        V9       V10       V11  \\\n",
              "0         5.333662  1.335132  0.151819  2.459321 -3.521901 -0.907552   \n",
              "1         5.318106  1.381344  0.177521  2.448725 -3.505331 -0.885041   \n",
              "2         5.292134  1.341530  0.151332  2.440866 -3.518114 -0.847589   \n",
              "3         5.267351  1.301847  0.130145  2.446611 -3.516770 -0.835631   \n",
              "4         5.241688  1.253158  0.068401  2.415725 -3.508354 -0.899922   \n",
              "...            ...       ...       ...       ...       ...       ...   \n",
              "2168517 -13.974899 -3.085694 -1.382352 -7.615117 -1.325576  0.962739   \n",
              "2168518 -13.974234 -3.084189 -1.381702 -7.612567 -1.323741  0.965637   \n",
              "2168519 -13.835742 -2.813779 -1.108370 -7.894861 -0.855196  1.147105   \n",
              "2168520 -13.742820 -2.849409 -1.135749 -7.921861 -0.812534  1.121400   \n",
              "2168521 -13.621520 -2.979321 -1.205773 -7.955877 -0.816744  1.044994   \n",
              "\n",
              "              V12       V13       V14  label  \n",
              "0       -0.594847 -0.046998 -1.762797      0  \n",
              "1       -0.569085  0.061086 -1.659885      0  \n",
              "2       -0.610983  0.058098 -1.677230      0  \n",
              "3       -0.626183  0.052501 -1.677469      0  \n",
              "4       -0.582459  0.100977 -1.703469      0  \n",
              "...           ...       ...       ...    ...  \n",
              "2168517 -0.472996  1.092706  1.339418      0  \n",
              "2168518 -0.475106  1.091874  1.345194      0  \n",
              "2168519 -0.811066  0.671948  3.012397      0  \n",
              "2168520 -0.816057  0.642765  3.190073      0  \n",
              "2168521 -0.789664  0.575835  3.105435      0  \n",
              "\n",
              "[2168522 rows x 16 columns]"
            ],
            "text/html": [
              "\n",
              "  <div id=\"df-38e0c314-6a68-4ae5-8c54-52cd60eeaa4b\">\n",
              "    <div class=\"colab-df-container\">\n",
              "      <div>\n",
              "<style scoped>\n",
              "    .dataframe tbody tr th:only-of-type {\n",
              "        vertical-align: middle;\n",
              "    }\n",
              "\n",
              "    .dataframe tbody tr th {\n",
              "        vertical-align: top;\n",
              "    }\n",
              "\n",
              "    .dataframe thead th {\n",
              "        text-align: right;\n",
              "    }\n",
              "</style>\n",
              "<table border=\"1\" class=\"dataframe\">\n",
              "  <thead>\n",
              "    <tr style=\"text-align: right;\">\n",
              "      <th></th>\n",
              "      <th>time</th>\n",
              "      <th>V1</th>\n",
              "      <th>V2</th>\n",
              "      <th>V3</th>\n",
              "      <th>V4</th>\n",
              "      <th>V5</th>\n",
              "      <th>V6</th>\n",
              "      <th>V7</th>\n",
              "      <th>V8</th>\n",
              "      <th>V9</th>\n",
              "      <th>V10</th>\n",
              "      <th>V11</th>\n",
              "      <th>V12</th>\n",
              "      <th>V13</th>\n",
              "      <th>V14</th>\n",
              "      <th>label</th>\n",
              "    </tr>\n",
              "  </thead>\n",
              "  <tbody>\n",
              "    <tr>\n",
              "      <th>0</th>\n",
              "      <td>8.576277</td>\n",
              "      <td>1.193138</td>\n",
              "      <td>3.341021</td>\n",
              "      <td>6.276858</td>\n",
              "      <td>-3.227913</td>\n",
              "      <td>-7.050631</td>\n",
              "      <td>5.333662</td>\n",
              "      <td>1.335132</td>\n",
              "      <td>0.151819</td>\n",
              "      <td>2.459321</td>\n",
              "      <td>-3.521901</td>\n",
              "      <td>-0.907552</td>\n",
              "      <td>-0.594847</td>\n",
              "      <td>-0.046998</td>\n",
              "      <td>-1.762797</td>\n",
              "      <td>0</td>\n",
              "    </tr>\n",
              "    <tr>\n",
              "      <th>1</th>\n",
              "      <td>8.649646</td>\n",
              "      <td>1.178102</td>\n",
              "      <td>3.366586</td>\n",
              "      <td>6.275270</td>\n",
              "      <td>-3.171326</td>\n",
              "      <td>-7.008838</td>\n",
              "      <td>5.318106</td>\n",
              "      <td>1.381344</td>\n",
              "      <td>0.177521</td>\n",
              "      <td>2.448725</td>\n",
              "      <td>-3.505331</td>\n",
              "      <td>-0.885041</td>\n",
              "      <td>-0.569085</td>\n",
              "      <td>0.061086</td>\n",
              "      <td>-1.659885</td>\n",
              "      <td>0</td>\n",
              "    </tr>\n",
              "    <tr>\n",
              "      <th>2</th>\n",
              "      <td>8.757860</td>\n",
              "      <td>1.158506</td>\n",
              "      <td>3.371297</td>\n",
              "      <td>6.267848</td>\n",
              "      <td>-3.130746</td>\n",
              "      <td>-6.927826</td>\n",
              "      <td>5.292134</td>\n",
              "      <td>1.341530</td>\n",
              "      <td>0.151332</td>\n",
              "      <td>2.440866</td>\n",
              "      <td>-3.518114</td>\n",
              "      <td>-0.847589</td>\n",
              "      <td>-0.610983</td>\n",
              "      <td>0.058098</td>\n",
              "      <td>-1.677230</td>\n",
              "      <td>0</td>\n",
              "    </tr>\n",
              "    <tr>\n",
              "      <th>3</th>\n",
              "      <td>8.897982</td>\n",
              "      <td>1.131895</td>\n",
              "      <td>3.381278</td>\n",
              "      <td>6.257778</td>\n",
              "      <td>-3.071740</td>\n",
              "      <td>-6.829007</td>\n",
              "      <td>5.267351</td>\n",
              "      <td>1.301847</td>\n",
              "      <td>0.130145</td>\n",
              "      <td>2.446611</td>\n",
              "      <td>-3.516770</td>\n",
              "      <td>-0.835631</td>\n",
              "      <td>-0.626183</td>\n",
              "      <td>0.052501</td>\n",
              "      <td>-1.677469</td>\n",
              "      <td>0</td>\n",
              "    </tr>\n",
              "    <tr>\n",
              "      <th>4</th>\n",
              "      <td>9.066471</td>\n",
              "      <td>1.086412</td>\n",
              "      <td>3.403178</td>\n",
              "      <td>6.260446</td>\n",
              "      <td>-2.937585</td>\n",
              "      <td>-6.679783</td>\n",
              "      <td>5.241688</td>\n",
              "      <td>1.253158</td>\n",
              "      <td>0.068401</td>\n",
              "      <td>2.415725</td>\n",
              "      <td>-3.508354</td>\n",
              "      <td>-0.899922</td>\n",
              "      <td>-0.582459</td>\n",
              "      <td>0.100977</td>\n",
              "      <td>-1.703469</td>\n",
              "      <td>0</td>\n",
              "    </tr>\n",
              "    <tr>\n",
              "      <th>...</th>\n",
              "      <td>...</td>\n",
              "      <td>...</td>\n",
              "      <td>...</td>\n",
              "      <td>...</td>\n",
              "      <td>...</td>\n",
              "      <td>...</td>\n",
              "      <td>...</td>\n",
              "      <td>...</td>\n",
              "      <td>...</td>\n",
              "      <td>...</td>\n",
              "      <td>...</td>\n",
              "      <td>...</td>\n",
              "      <td>...</td>\n",
              "      <td>...</td>\n",
              "      <td>...</td>\n",
              "      <td>...</td>\n",
              "    </tr>\n",
              "    <tr>\n",
              "      <th>2168517</th>\n",
              "      <td>13.390417</td>\n",
              "      <td>3.991986</td>\n",
              "      <td>12.106136</td>\n",
              "      <td>9.696063</td>\n",
              "      <td>-5.298283</td>\n",
              "      <td>4.893044</td>\n",
              "      <td>-13.974899</td>\n",
              "      <td>-3.085694</td>\n",
              "      <td>-1.382352</td>\n",
              "      <td>-7.615117</td>\n",
              "      <td>-1.325576</td>\n",
              "      <td>0.962739</td>\n",
              "      <td>-0.472996</td>\n",
              "      <td>1.092706</td>\n",
              "      <td>1.339418</td>\n",
              "      <td>0</td>\n",
              "    </tr>\n",
              "    <tr>\n",
              "      <th>2168518</th>\n",
              "      <td>13.393692</td>\n",
              "      <td>3.986051</td>\n",
              "      <td>12.111542</td>\n",
              "      <td>9.693339</td>\n",
              "      <td>-5.295740</td>\n",
              "      <td>4.890586</td>\n",
              "      <td>-13.974234</td>\n",
              "      <td>-3.084189</td>\n",
              "      <td>-1.381702</td>\n",
              "      <td>-7.612567</td>\n",
              "      <td>-1.323741</td>\n",
              "      <td>0.965637</td>\n",
              "      <td>-0.475106</td>\n",
              "      <td>1.091874</td>\n",
              "      <td>1.345194</td>\n",
              "      <td>0</td>\n",
              "    </tr>\n",
              "    <tr>\n",
              "      <th>2168519</th>\n",
              "      <td>12.849065</td>\n",
              "      <td>3.883170</td>\n",
              "      <td>12.453910</td>\n",
              "      <td>9.563804</td>\n",
              "      <td>-5.186479</td>\n",
              "      <td>5.747109</td>\n",
              "      <td>-13.835742</td>\n",
              "      <td>-2.813779</td>\n",
              "      <td>-1.108370</td>\n",
              "      <td>-7.894861</td>\n",
              "      <td>-0.855196</td>\n",
              "      <td>1.147105</td>\n",
              "      <td>-0.811066</td>\n",
              "      <td>0.671948</td>\n",
              "      <td>3.012397</td>\n",
              "      <td>0</td>\n",
              "    </tr>\n",
              "    <tr>\n",
              "      <th>2168520</th>\n",
              "      <td>12.922217</td>\n",
              "      <td>3.855509</td>\n",
              "      <td>12.512167</td>\n",
              "      <td>9.439270</td>\n",
              "      <td>-5.240997</td>\n",
              "      <td>5.806995</td>\n",
              "      <td>-13.742820</td>\n",
              "      <td>-2.849409</td>\n",
              "      <td>-1.135749</td>\n",
              "      <td>-7.921861</td>\n",
              "      <td>-0.812534</td>\n",
              "      <td>1.121400</td>\n",
              "      <td>-0.816057</td>\n",
              "      <td>0.642765</td>\n",
              "      <td>3.190073</td>\n",
              "      <td>0</td>\n",
              "    </tr>\n",
              "    <tr>\n",
              "      <th>2168521</th>\n",
              "      <td>13.019727</td>\n",
              "      <td>3.796770</td>\n",
              "      <td>12.616073</td>\n",
              "      <td>9.293234</td>\n",
              "      <td>-5.295783</td>\n",
              "      <td>5.872429</td>\n",
              "      <td>-13.621520</td>\n",
              "      <td>-2.979321</td>\n",
              "      <td>-1.205773</td>\n",
              "      <td>-7.955877</td>\n",
              "      <td>-0.816744</td>\n",
              "      <td>1.044994</td>\n",
              "      <td>-0.789664</td>\n",
              "      <td>0.575835</td>\n",
              "      <td>3.105435</td>\n",
              "      <td>0</td>\n",
              "    </tr>\n",
              "  </tbody>\n",
              "</table>\n",
              "<p>2168522 rows × 16 columns</p>\n",
              "</div>\n",
              "      <button class=\"colab-df-convert\" onclick=\"convertToInteractive('df-38e0c314-6a68-4ae5-8c54-52cd60eeaa4b')\"\n",
              "              title=\"Convert this dataframe to an interactive table.\"\n",
              "              style=\"display:none;\">\n",
              "        \n",
              "  <svg xmlns=\"http://www.w3.org/2000/svg\" height=\"24px\"viewBox=\"0 0 24 24\"\n",
              "       width=\"24px\">\n",
              "    <path d=\"M0 0h24v24H0V0z\" fill=\"none\"/>\n",
              "    <path d=\"M18.56 5.44l.94 2.06.94-2.06 2.06-.94-2.06-.94-.94-2.06-.94 2.06-2.06.94zm-11 1L8.5 8.5l.94-2.06 2.06-.94-2.06-.94L8.5 2.5l-.94 2.06-2.06.94zm10 10l.94 2.06.94-2.06 2.06-.94-2.06-.94-.94-2.06-.94 2.06-2.06.94z\"/><path d=\"M17.41 7.96l-1.37-1.37c-.4-.4-.92-.59-1.43-.59-.52 0-1.04.2-1.43.59L10.3 9.45l-7.72 7.72c-.78.78-.78 2.05 0 2.83L4 21.41c.39.39.9.59 1.41.59.51 0 1.02-.2 1.41-.59l7.78-7.78 2.81-2.81c.8-.78.8-2.07 0-2.86zM5.41 20L4 18.59l7.72-7.72 1.47 1.35L5.41 20z\"/>\n",
              "  </svg>\n",
              "      </button>\n",
              "      \n",
              "  <style>\n",
              "    .colab-df-container {\n",
              "      display:flex;\n",
              "      flex-wrap:wrap;\n",
              "      gap: 12px;\n",
              "    }\n",
              "\n",
              "    .colab-df-convert {\n",
              "      background-color: #E8F0FE;\n",
              "      border: none;\n",
              "      border-radius: 50%;\n",
              "      cursor: pointer;\n",
              "      display: none;\n",
              "      fill: #1967D2;\n",
              "      height: 32px;\n",
              "      padding: 0 0 0 0;\n",
              "      width: 32px;\n",
              "    }\n",
              "\n",
              "    .colab-df-convert:hover {\n",
              "      background-color: #E2EBFA;\n",
              "      box-shadow: 0px 1px 2px rgba(60, 64, 67, 0.3), 0px 1px 3px 1px rgba(60, 64, 67, 0.15);\n",
              "      fill: #174EA6;\n",
              "    }\n",
              "\n",
              "    [theme=dark] .colab-df-convert {\n",
              "      background-color: #3B4455;\n",
              "      fill: #D2E3FC;\n",
              "    }\n",
              "\n",
              "    [theme=dark] .colab-df-convert:hover {\n",
              "      background-color: #434B5C;\n",
              "      box-shadow: 0px 1px 3px 1px rgba(0, 0, 0, 0.15);\n",
              "      filter: drop-shadow(0px 1px 2px rgba(0, 0, 0, 0.3));\n",
              "      fill: #FFFFFF;\n",
              "    }\n",
              "  </style>\n",
              "\n",
              "      <script>\n",
              "        const buttonEl =\n",
              "          document.querySelector('#df-38e0c314-6a68-4ae5-8c54-52cd60eeaa4b button.colab-df-convert');\n",
              "        buttonEl.style.display =\n",
              "          google.colab.kernel.accessAllowed ? 'block' : 'none';\n",
              "\n",
              "        async function convertToInteractive(key) {\n",
              "          const element = document.querySelector('#df-38e0c314-6a68-4ae5-8c54-52cd60eeaa4b');\n",
              "          const dataTable =\n",
              "            await google.colab.kernel.invokeFunction('convertToInteractive',\n",
              "                                                     [key], {});\n",
              "          if (!dataTable) return;\n",
              "\n",
              "          const docLinkHtml = 'Like what you see? Visit the ' +\n",
              "            '<a target=\"_blank\" href=https://colab.research.google.com/notebooks/data_table.ipynb>data table notebook</a>'\n",
              "            + ' to learn more about interactive tables.';\n",
              "          element.innerHTML = '';\n",
              "          dataTable['output_type'] = 'display_data';\n",
              "          await google.colab.output.renderOutput(dataTable, element);\n",
              "          const docLink = document.createElement('div');\n",
              "          docLink.innerHTML = docLinkHtml;\n",
              "          element.appendChild(docLink);\n",
              "        }\n",
              "      </script>\n",
              "    </div>\n",
              "  </div>\n",
              "  "
            ]
          },
          "metadata": {},
          "execution_count": 10
        }
      ],
      "source": [
        "data"
      ]
    },
    {
      "cell_type": "code",
      "execution_count": null,
      "id": "2H3sshNRjku6",
      "metadata": {
        "id": "2H3sshNRjku6"
      },
      "outputs": [],
      "source": [
        "X = data.drop(['label'], axis = 1).values\n",
        "Y = data[\"label\"].values"
      ]
    },
    {
      "cell_type": "code",
      "execution_count": null,
      "id": "mF3xvMifFQA8",
      "metadata": {
        "id": "mF3xvMifFQA8"
      },
      "outputs": [],
      "source": [
        "# tsne_plot(X, Y, \"original.png\")"
      ]
    },
    {
      "cell_type": "code",
      "execution_count": null,
      "id": "xF483F1wjkx-",
      "metadata": {
        "id": "xF483F1wjkx-"
      },
      "outputs": [],
      "source": [
        "## input layer \n",
        "input_layer = Input(shape=(X.shape[1],))\n",
        "\n",
        "## encoding part\n",
        "encoded = Dense(100, activation='tanh', activity_regularizer=regularizers.l1(10e-5))(input_layer)\n",
        "encoded = Dense(50, activation='relu')(encoded)\n",
        "\n",
        "## decoding part\n",
        "decoded = Dense(50, activation='tanh')(encoded)\n",
        "decoded = Dense(100, activation='tanh')(decoded)\n",
        "\n",
        "## output layer\n",
        "output_layer = Dense(X.shape[1], activation='relu')(decoded)"
      ]
    },
    {
      "cell_type": "code",
      "execution_count": null,
      "id": "Mt03cdUSkltQ",
      "metadata": {
        "id": "Mt03cdUSkltQ"
      },
      "outputs": [],
      "source": [
        "autoencoder = Model(input_layer, output_layer)\n",
        "autoencoder.compile(optimizer=\"adadelta\", loss=\"mse\")"
      ]
    },
    {
      "cell_type": "code",
      "source": [
        "data.head()"
      ],
      "metadata": {
        "colab": {
          "base_uri": "https://localhost:8080/",
          "height": 206
        },
        "id": "Km1W2mB3NvZY",
        "outputId": "00e62d24-4ae6-4f42-82c4-47bf1b554f3d"
      },
      "id": "Km1W2mB3NvZY",
      "execution_count": null,
      "outputs": [
        {
          "output_type": "execute_result",
          "data": {
            "text/plain": [
              "       time        V1        V2        V3        V4        V5        V6  \\\n",
              "0  8.576277  1.193138  3.341021  6.276858 -3.227913 -7.050631  5.333662   \n",
              "1  8.649646  1.178102  3.366586  6.275270 -3.171326 -7.008838  5.318106   \n",
              "2  8.757860  1.158506  3.371297  6.267848 -3.130746 -6.927826  5.292134   \n",
              "3  8.897982  1.131895  3.381278  6.257778 -3.071740 -6.829007  5.267351   \n",
              "4  9.066471  1.086412  3.403178  6.260446 -2.937585 -6.679783  5.241688   \n",
              "\n",
              "         V7        V8        V9       V10       V11       V12       V13  \\\n",
              "0  1.335132  0.151819  2.459321 -3.521901 -0.907552 -0.594847 -0.046998   \n",
              "1  1.381344  0.177521  2.448725 -3.505331 -0.885041 -0.569085  0.061086   \n",
              "2  1.341530  0.151332  2.440866 -3.518114 -0.847589 -0.610983  0.058098   \n",
              "3  1.301847  0.130145  2.446611 -3.516770 -0.835631 -0.626183  0.052501   \n",
              "4  1.253158  0.068401  2.415725 -3.508354 -0.899922 -0.582459  0.100977   \n",
              "\n",
              "        V14  label  \n",
              "0 -1.762797      0  \n",
              "1 -1.659885      0  \n",
              "2 -1.677230      0  \n",
              "3 -1.677469      0  \n",
              "4 -1.703469      0  "
            ],
            "text/html": [
              "\n",
              "  <div id=\"df-ea485629-eabb-416e-b73c-58c11a7558ec\">\n",
              "    <div class=\"colab-df-container\">\n",
              "      <div>\n",
              "<style scoped>\n",
              "    .dataframe tbody tr th:only-of-type {\n",
              "        vertical-align: middle;\n",
              "    }\n",
              "\n",
              "    .dataframe tbody tr th {\n",
              "        vertical-align: top;\n",
              "    }\n",
              "\n",
              "    .dataframe thead th {\n",
              "        text-align: right;\n",
              "    }\n",
              "</style>\n",
              "<table border=\"1\" class=\"dataframe\">\n",
              "  <thead>\n",
              "    <tr style=\"text-align: right;\">\n",
              "      <th></th>\n",
              "      <th>time</th>\n",
              "      <th>V1</th>\n",
              "      <th>V2</th>\n",
              "      <th>V3</th>\n",
              "      <th>V4</th>\n",
              "      <th>V5</th>\n",
              "      <th>V6</th>\n",
              "      <th>V7</th>\n",
              "      <th>V8</th>\n",
              "      <th>V9</th>\n",
              "      <th>V10</th>\n",
              "      <th>V11</th>\n",
              "      <th>V12</th>\n",
              "      <th>V13</th>\n",
              "      <th>V14</th>\n",
              "      <th>label</th>\n",
              "    </tr>\n",
              "  </thead>\n",
              "  <tbody>\n",
              "    <tr>\n",
              "      <th>0</th>\n",
              "      <td>8.576277</td>\n",
              "      <td>1.193138</td>\n",
              "      <td>3.341021</td>\n",
              "      <td>6.276858</td>\n",
              "      <td>-3.227913</td>\n",
              "      <td>-7.050631</td>\n",
              "      <td>5.333662</td>\n",
              "      <td>1.335132</td>\n",
              "      <td>0.151819</td>\n",
              "      <td>2.459321</td>\n",
              "      <td>-3.521901</td>\n",
              "      <td>-0.907552</td>\n",
              "      <td>-0.594847</td>\n",
              "      <td>-0.046998</td>\n",
              "      <td>-1.762797</td>\n",
              "      <td>0</td>\n",
              "    </tr>\n",
              "    <tr>\n",
              "      <th>1</th>\n",
              "      <td>8.649646</td>\n",
              "      <td>1.178102</td>\n",
              "      <td>3.366586</td>\n",
              "      <td>6.275270</td>\n",
              "      <td>-3.171326</td>\n",
              "      <td>-7.008838</td>\n",
              "      <td>5.318106</td>\n",
              "      <td>1.381344</td>\n",
              "      <td>0.177521</td>\n",
              "      <td>2.448725</td>\n",
              "      <td>-3.505331</td>\n",
              "      <td>-0.885041</td>\n",
              "      <td>-0.569085</td>\n",
              "      <td>0.061086</td>\n",
              "      <td>-1.659885</td>\n",
              "      <td>0</td>\n",
              "    </tr>\n",
              "    <tr>\n",
              "      <th>2</th>\n",
              "      <td>8.757860</td>\n",
              "      <td>1.158506</td>\n",
              "      <td>3.371297</td>\n",
              "      <td>6.267848</td>\n",
              "      <td>-3.130746</td>\n",
              "      <td>-6.927826</td>\n",
              "      <td>5.292134</td>\n",
              "      <td>1.341530</td>\n",
              "      <td>0.151332</td>\n",
              "      <td>2.440866</td>\n",
              "      <td>-3.518114</td>\n",
              "      <td>-0.847589</td>\n",
              "      <td>-0.610983</td>\n",
              "      <td>0.058098</td>\n",
              "      <td>-1.677230</td>\n",
              "      <td>0</td>\n",
              "    </tr>\n",
              "    <tr>\n",
              "      <th>3</th>\n",
              "      <td>8.897982</td>\n",
              "      <td>1.131895</td>\n",
              "      <td>3.381278</td>\n",
              "      <td>6.257778</td>\n",
              "      <td>-3.071740</td>\n",
              "      <td>-6.829007</td>\n",
              "      <td>5.267351</td>\n",
              "      <td>1.301847</td>\n",
              "      <td>0.130145</td>\n",
              "      <td>2.446611</td>\n",
              "      <td>-3.516770</td>\n",
              "      <td>-0.835631</td>\n",
              "      <td>-0.626183</td>\n",
              "      <td>0.052501</td>\n",
              "      <td>-1.677469</td>\n",
              "      <td>0</td>\n",
              "    </tr>\n",
              "    <tr>\n",
              "      <th>4</th>\n",
              "      <td>9.066471</td>\n",
              "      <td>1.086412</td>\n",
              "      <td>3.403178</td>\n",
              "      <td>6.260446</td>\n",
              "      <td>-2.937585</td>\n",
              "      <td>-6.679783</td>\n",
              "      <td>5.241688</td>\n",
              "      <td>1.253158</td>\n",
              "      <td>0.068401</td>\n",
              "      <td>2.415725</td>\n",
              "      <td>-3.508354</td>\n",
              "      <td>-0.899922</td>\n",
              "      <td>-0.582459</td>\n",
              "      <td>0.100977</td>\n",
              "      <td>-1.703469</td>\n",
              "      <td>0</td>\n",
              "    </tr>\n",
              "  </tbody>\n",
              "</table>\n",
              "</div>\n",
              "      <button class=\"colab-df-convert\" onclick=\"convertToInteractive('df-ea485629-eabb-416e-b73c-58c11a7558ec')\"\n",
              "              title=\"Convert this dataframe to an interactive table.\"\n",
              "              style=\"display:none;\">\n",
              "        \n",
              "  <svg xmlns=\"http://www.w3.org/2000/svg\" height=\"24px\"viewBox=\"0 0 24 24\"\n",
              "       width=\"24px\">\n",
              "    <path d=\"M0 0h24v24H0V0z\" fill=\"none\"/>\n",
              "    <path d=\"M18.56 5.44l.94 2.06.94-2.06 2.06-.94-2.06-.94-.94-2.06-.94 2.06-2.06.94zm-11 1L8.5 8.5l.94-2.06 2.06-.94-2.06-.94L8.5 2.5l-.94 2.06-2.06.94zm10 10l.94 2.06.94-2.06 2.06-.94-2.06-.94-.94-2.06-.94 2.06-2.06.94z\"/><path d=\"M17.41 7.96l-1.37-1.37c-.4-.4-.92-.59-1.43-.59-.52 0-1.04.2-1.43.59L10.3 9.45l-7.72 7.72c-.78.78-.78 2.05 0 2.83L4 21.41c.39.39.9.59 1.41.59.51 0 1.02-.2 1.41-.59l7.78-7.78 2.81-2.81c.8-.78.8-2.07 0-2.86zM5.41 20L4 18.59l7.72-7.72 1.47 1.35L5.41 20z\"/>\n",
              "  </svg>\n",
              "      </button>\n",
              "      \n",
              "  <style>\n",
              "    .colab-df-container {\n",
              "      display:flex;\n",
              "      flex-wrap:wrap;\n",
              "      gap: 12px;\n",
              "    }\n",
              "\n",
              "    .colab-df-convert {\n",
              "      background-color: #E8F0FE;\n",
              "      border: none;\n",
              "      border-radius: 50%;\n",
              "      cursor: pointer;\n",
              "      display: none;\n",
              "      fill: #1967D2;\n",
              "      height: 32px;\n",
              "      padding: 0 0 0 0;\n",
              "      width: 32px;\n",
              "    }\n",
              "\n",
              "    .colab-df-convert:hover {\n",
              "      background-color: #E2EBFA;\n",
              "      box-shadow: 0px 1px 2px rgba(60, 64, 67, 0.3), 0px 1px 3px 1px rgba(60, 64, 67, 0.15);\n",
              "      fill: #174EA6;\n",
              "    }\n",
              "\n",
              "    [theme=dark] .colab-df-convert {\n",
              "      background-color: #3B4455;\n",
              "      fill: #D2E3FC;\n",
              "    }\n",
              "\n",
              "    [theme=dark] .colab-df-convert:hover {\n",
              "      background-color: #434B5C;\n",
              "      box-shadow: 0px 1px 3px 1px rgba(0, 0, 0, 0.15);\n",
              "      filter: drop-shadow(0px 1px 2px rgba(0, 0, 0, 0.3));\n",
              "      fill: #FFFFFF;\n",
              "    }\n",
              "  </style>\n",
              "\n",
              "      <script>\n",
              "        const buttonEl =\n",
              "          document.querySelector('#df-ea485629-eabb-416e-b73c-58c11a7558ec button.colab-df-convert');\n",
              "        buttonEl.style.display =\n",
              "          google.colab.kernel.accessAllowed ? 'block' : 'none';\n",
              "\n",
              "        async function convertToInteractive(key) {\n",
              "          const element = document.querySelector('#df-ea485629-eabb-416e-b73c-58c11a7558ec');\n",
              "          const dataTable =\n",
              "            await google.colab.kernel.invokeFunction('convertToInteractive',\n",
              "                                                     [key], {});\n",
              "          if (!dataTable) return;\n",
              "\n",
              "          const docLinkHtml = 'Like what you see? Visit the ' +\n",
              "            '<a target=\"_blank\" href=https://colab.research.google.com/notebooks/data_table.ipynb>data table notebook</a>'\n",
              "            + ' to learn more about interactive tables.';\n",
              "          element.innerHTML = '';\n",
              "          dataTable['output_type'] = 'display_data';\n",
              "          await google.colab.output.renderOutput(dataTable, element);\n",
              "          const docLink = document.createElement('div');\n",
              "          docLink.innerHTML = docLinkHtml;\n",
              "          element.appendChild(docLink);\n",
              "        }\n",
              "      </script>\n",
              "    </div>\n",
              "  </div>\n",
              "  "
            ]
          },
          "metadata": {},
          "execution_count": 15
        }
      ]
    },
    {
      "cell_type": "code",
      "execution_count": null,
      "id": "LxdZDTV3klvm",
      "metadata": {
        "id": "LxdZDTV3klvm"
      },
      "outputs": [],
      "source": [
        "x = data.drop('label', axis = 1)\n",
        "y = data['label']\n",
        "\n",
        "x_scale = preprocessing.MinMaxScaler().fit_transform(x.values)\n",
        "x_norm, x_st, x_qs, x_lr, x_hr = x_scale[y == 0], x_scale[y == 1], x_scale[y == 2], x_scale[y == 3], x_scale[y == 4]"
      ]
    },
    {
      "cell_type": "code",
      "source": [
        "index = np.random.choice(len(x_norm), size = 5000) # size=5000, LogisticRegression_accuracy=88.42%\n",
        "# index = np.random.choice(len(x_norm), size = 430000) # size=430000, LogisticRegression_accuracy=79.68%"
      ],
      "metadata": {
        "id": "R16idw2sfSkN"
      },
      "id": "R16idw2sfSkN",
      "execution_count": null,
      "outputs": []
    },
    {
      "cell_type": "code",
      "source": [
        "x_norm_train = x_norm[index]"
      ],
      "metadata": {
        "id": "z98vlGNUhGsW"
      },
      "id": "z98vlGNUhGsW",
      "execution_count": null,
      "outputs": []
    },
    {
      "cell_type": "code",
      "execution_count": null,
      "id": "_ytIIsa7lgz-",
      "metadata": {
        "id": "_ytIIsa7lgz-",
        "colab": {
          "base_uri": "https://localhost:8080/"
        },
        "outputId": "155a39ae-b96d-4c4a-f9da-df1ab6ee460e"
      },
      "outputs": [
        {
          "output_type": "stream",
          "name": "stdout",
          "text": [
            "Epoch 1/90\n",
            "16/16 [==============================] - 2s 24ms/step - loss: 0.0914 - val_loss: 0.0919\n",
            "Epoch 2/90\n",
            "16/16 [==============================] - 0s 6ms/step - loss: 0.0911 - val_loss: 0.0916\n",
            "Epoch 3/90\n",
            "16/16 [==============================] - 0s 7ms/step - loss: 0.0907 - val_loss: 0.0912\n",
            "Epoch 4/90\n",
            "16/16 [==============================] - 0s 7ms/step - loss: 0.0904 - val_loss: 0.0908\n",
            "Epoch 5/90\n",
            "16/16 [==============================] - 0s 7ms/step - loss: 0.0900 - val_loss: 0.0905\n",
            "Epoch 6/90\n",
            "16/16 [==============================] - 0s 7ms/step - loss: 0.0896 - val_loss: 0.0901\n",
            "Epoch 7/90\n",
            "16/16 [==============================] - 0s 5ms/step - loss: 0.0892 - val_loss: 0.0897\n",
            "Epoch 8/90\n",
            "16/16 [==============================] - 0s 7ms/step - loss: 0.0888 - val_loss: 0.0892\n",
            "Epoch 9/90\n",
            "16/16 [==============================] - 0s 7ms/step - loss: 0.0884 - val_loss: 0.0888\n",
            "Epoch 10/90\n",
            "16/16 [==============================] - 0s 8ms/step - loss: 0.0880 - val_loss: 0.0884\n",
            "Epoch 11/90\n",
            "16/16 [==============================] - 0s 7ms/step - loss: 0.0875 - val_loss: 0.0880\n",
            "Epoch 12/90\n",
            "16/16 [==============================] - 0s 6ms/step - loss: 0.0871 - val_loss: 0.0876\n",
            "Epoch 13/90\n",
            "16/16 [==============================] - 0s 6ms/step - loss: 0.0867 - val_loss: 0.0871\n",
            "Epoch 14/90\n",
            "16/16 [==============================] - 0s 6ms/step - loss: 0.0863 - val_loss: 0.0867\n",
            "Epoch 15/90\n",
            "16/16 [==============================] - 0s 7ms/step - loss: 0.0858 - val_loss: 0.0863\n",
            "Epoch 16/90\n",
            "16/16 [==============================] - 0s 7ms/step - loss: 0.0854 - val_loss: 0.0858\n",
            "Epoch 17/90\n",
            "16/16 [==============================] - 0s 8ms/step - loss: 0.0850 - val_loss: 0.0854\n",
            "Epoch 18/90\n",
            "16/16 [==============================] - 0s 6ms/step - loss: 0.0845 - val_loss: 0.0850\n",
            "Epoch 19/90\n",
            "16/16 [==============================] - 0s 7ms/step - loss: 0.0841 - val_loss: 0.0845\n",
            "Epoch 20/90\n",
            "16/16 [==============================] - 0s 7ms/step - loss: 0.0837 - val_loss: 0.0841\n",
            "Epoch 21/90\n",
            "16/16 [==============================] - 0s 7ms/step - loss: 0.0832 - val_loss: 0.0836\n",
            "Epoch 22/90\n",
            "16/16 [==============================] - 0s 6ms/step - loss: 0.0828 - val_loss: 0.0832\n",
            "Epoch 23/90\n",
            "16/16 [==============================] - 0s 6ms/step - loss: 0.0823 - val_loss: 0.0827\n",
            "Epoch 24/90\n",
            "16/16 [==============================] - 0s 6ms/step - loss: 0.0819 - val_loss: 0.0823\n",
            "Epoch 25/90\n",
            "16/16 [==============================] - 0s 7ms/step - loss: 0.0815 - val_loss: 0.0819\n",
            "Epoch 26/90\n",
            "16/16 [==============================] - 0s 7ms/step - loss: 0.0810 - val_loss: 0.0814\n",
            "Epoch 27/90\n",
            "16/16 [==============================] - 0s 6ms/step - loss: 0.0806 - val_loss: 0.0810\n",
            "Epoch 28/90\n",
            "16/16 [==============================] - 0s 8ms/step - loss: 0.0801 - val_loss: 0.0805\n",
            "Epoch 29/90\n",
            "16/16 [==============================] - 0s 6ms/step - loss: 0.0797 - val_loss: 0.0801\n",
            "Epoch 30/90\n",
            "16/16 [==============================] - 0s 7ms/step - loss: 0.0793 - val_loss: 0.0796\n",
            "Epoch 31/90\n",
            "16/16 [==============================] - 0s 8ms/step - loss: 0.0788 - val_loss: 0.0792\n",
            "Epoch 32/90\n",
            "16/16 [==============================] - 0s 7ms/step - loss: 0.0784 - val_loss: 0.0788\n",
            "Epoch 33/90\n",
            "16/16 [==============================] - 0s 6ms/step - loss: 0.0780 - val_loss: 0.0783\n",
            "Epoch 34/90\n",
            "16/16 [==============================] - 0s 7ms/step - loss: 0.0775 - val_loss: 0.0779\n",
            "Epoch 35/90\n",
            "16/16 [==============================] - 0s 7ms/step - loss: 0.0771 - val_loss: 0.0774\n",
            "Epoch 36/90\n",
            "16/16 [==============================] - 0s 8ms/step - loss: 0.0767 - val_loss: 0.0770\n",
            "Epoch 37/90\n",
            "16/16 [==============================] - 0s 6ms/step - loss: 0.0762 - val_loss: 0.0766\n",
            "Epoch 38/90\n",
            "16/16 [==============================] - 0s 6ms/step - loss: 0.0758 - val_loss: 0.0761\n",
            "Epoch 39/90\n",
            "16/16 [==============================] - 0s 6ms/step - loss: 0.0754 - val_loss: 0.0757\n",
            "Epoch 40/90\n",
            "16/16 [==============================] - 0s 6ms/step - loss: 0.0749 - val_loss: 0.0753\n",
            "Epoch 41/90\n",
            "16/16 [==============================] - 0s 7ms/step - loss: 0.0745 - val_loss: 0.0749\n",
            "Epoch 42/90\n",
            "16/16 [==============================] - 0s 7ms/step - loss: 0.0741 - val_loss: 0.0744\n",
            "Epoch 43/90\n",
            "16/16 [==============================] - 0s 5ms/step - loss: 0.0737 - val_loss: 0.0740\n",
            "Epoch 44/90\n",
            "16/16 [==============================] - 0s 8ms/step - loss: 0.0732 - val_loss: 0.0736\n",
            "Epoch 45/90\n",
            "16/16 [==============================] - 0s 6ms/step - loss: 0.0728 - val_loss: 0.0732\n",
            "Epoch 46/90\n",
            "16/16 [==============================] - 0s 6ms/step - loss: 0.0724 - val_loss: 0.0727\n",
            "Epoch 47/90\n",
            "16/16 [==============================] - 0s 6ms/step - loss: 0.0720 - val_loss: 0.0723\n",
            "Epoch 48/90\n",
            "16/16 [==============================] - 0s 7ms/step - loss: 0.0716 - val_loss: 0.0719\n",
            "Epoch 49/90\n",
            "16/16 [==============================] - 0s 5ms/step - loss: 0.0712 - val_loss: 0.0715\n",
            "Epoch 50/90\n",
            "16/16 [==============================] - 0s 6ms/step - loss: 0.0708 - val_loss: 0.0711\n",
            "Epoch 51/90\n",
            "16/16 [==============================] - 0s 6ms/step - loss: 0.0704 - val_loss: 0.0707\n",
            "Epoch 52/90\n",
            "16/16 [==============================] - 0s 7ms/step - loss: 0.0700 - val_loss: 0.0703\n",
            "Epoch 53/90\n",
            "16/16 [==============================] - 0s 8ms/step - loss: 0.0696 - val_loss: 0.0699\n",
            "Epoch 54/90\n",
            "16/16 [==============================] - 0s 9ms/step - loss: 0.0692 - val_loss: 0.0695\n",
            "Epoch 55/90\n",
            "16/16 [==============================] - 0s 10ms/step - loss: 0.0688 - val_loss: 0.0691\n",
            "Epoch 56/90\n",
            "16/16 [==============================] - 0s 9ms/step - loss: 0.0684 - val_loss: 0.0687\n",
            "Epoch 57/90\n",
            "16/16 [==============================] - 0s 9ms/step - loss: 0.0680 - val_loss: 0.0683\n",
            "Epoch 58/90\n",
            "16/16 [==============================] - 0s 9ms/step - loss: 0.0676 - val_loss: 0.0679\n",
            "Epoch 59/90\n",
            "16/16 [==============================] - 0s 9ms/step - loss: 0.0672 - val_loss: 0.0675\n",
            "Epoch 60/90\n",
            "16/16 [==============================] - 0s 10ms/step - loss: 0.0668 - val_loss: 0.0671\n",
            "Epoch 61/90\n",
            "16/16 [==============================] - 0s 9ms/step - loss: 0.0664 - val_loss: 0.0667\n",
            "Epoch 62/90\n",
            "16/16 [==============================] - 0s 9ms/step - loss: 0.0661 - val_loss: 0.0664\n",
            "Epoch 63/90\n",
            "16/16 [==============================] - 0s 9ms/step - loss: 0.0657 - val_loss: 0.0660\n",
            "Epoch 64/90\n",
            "16/16 [==============================] - 0s 10ms/step - loss: 0.0653 - val_loss: 0.0656\n",
            "Epoch 65/90\n",
            "16/16 [==============================] - 0s 9ms/step - loss: 0.0650 - val_loss: 0.0653\n",
            "Epoch 66/90\n",
            "16/16 [==============================] - 0s 10ms/step - loss: 0.0646 - val_loss: 0.0649\n",
            "Epoch 67/90\n",
            "16/16 [==============================] - 0s 10ms/step - loss: 0.0642 - val_loss: 0.0645\n",
            "Epoch 68/90\n",
            "16/16 [==============================] - 0s 9ms/step - loss: 0.0639 - val_loss: 0.0642\n",
            "Epoch 69/90\n",
            "16/16 [==============================] - 0s 8ms/step - loss: 0.0635 - val_loss: 0.0638\n",
            "Epoch 70/90\n",
            "16/16 [==============================] - 0s 10ms/step - loss: 0.0632 - val_loss: 0.0635\n",
            "Epoch 71/90\n",
            "16/16 [==============================] - 0s 8ms/step - loss: 0.0628 - val_loss: 0.0631\n",
            "Epoch 72/90\n",
            "16/16 [==============================] - 0s 10ms/step - loss: 0.0625 - val_loss: 0.0628\n",
            "Epoch 73/90\n",
            "16/16 [==============================] - 0s 10ms/step - loss: 0.0622 - val_loss: 0.0624\n",
            "Epoch 74/90\n",
            "16/16 [==============================] - 0s 10ms/step - loss: 0.0618 - val_loss: 0.0621\n",
            "Epoch 75/90\n",
            "16/16 [==============================] - 0s 9ms/step - loss: 0.0615 - val_loss: 0.0618\n",
            "Epoch 76/90\n",
            "16/16 [==============================] - 0s 10ms/step - loss: 0.0612 - val_loss: 0.0614\n",
            "Epoch 77/90\n",
            "16/16 [==============================] - 0s 11ms/step - loss: 0.0608 - val_loss: 0.0611\n",
            "Epoch 78/90\n",
            "16/16 [==============================] - 0s 9ms/step - loss: 0.0605 - val_loss: 0.0608\n",
            "Epoch 79/90\n",
            "16/16 [==============================] - 0s 9ms/step - loss: 0.0602 - val_loss: 0.0605\n",
            "Epoch 80/90\n",
            "16/16 [==============================] - 0s 11ms/step - loss: 0.0599 - val_loss: 0.0601\n",
            "Epoch 81/90\n",
            "16/16 [==============================] - 0s 10ms/step - loss: 0.0596 - val_loss: 0.0598\n",
            "Epoch 82/90\n",
            "16/16 [==============================] - 0s 11ms/step - loss: 0.0593 - val_loss: 0.0595\n",
            "Epoch 83/90\n",
            "16/16 [==============================] - 0s 18ms/step - loss: 0.0589 - val_loss: 0.0592\n",
            "Epoch 84/90\n",
            "16/16 [==============================] - 0s 14ms/step - loss: 0.0586 - val_loss: 0.0589\n",
            "Epoch 85/90\n",
            "16/16 [==============================] - 0s 7ms/step - loss: 0.0583 - val_loss: 0.0586\n",
            "Epoch 86/90\n",
            "16/16 [==============================] - 0s 8ms/step - loss: 0.0580 - val_loss: 0.0583\n",
            "Epoch 87/90\n",
            "16/16 [==============================] - 0s 7ms/step - loss: 0.0578 - val_loss: 0.0580\n",
            "Epoch 88/90\n",
            "16/16 [==============================] - 0s 7ms/step - loss: 0.0575 - val_loss: 0.0577\n",
            "Epoch 89/90\n",
            "16/16 [==============================] - 0s 8ms/step - loss: 0.0572 - val_loss: 0.0574\n",
            "Epoch 90/90\n",
            "16/16 [==============================] - 0s 8ms/step - loss: 0.0569 - val_loss: 0.0571\n"
          ]
        }
      ],
      "source": [
        "autoencoder.fit(x_norm_train, x_norm_train, \n",
        "                batch_size = 256, epochs = 90, \n",
        "                shuffle = True, validation_split = 0.20);"
      ]
    },
    {
      "cell_type": "code",
      "execution_count": null,
      "id": "oLis6_Vblg2k",
      "metadata": {
        "id": "oLis6_Vblg2k"
      },
      "outputs": [],
      "source": [
        "hidden_representation = Sequential()\n",
        "hidden_representation.add(autoencoder.layers[0])\n",
        "hidden_representation.add(autoencoder.layers[1])\n",
        "hidden_representation.add(autoencoder.layers[2])"
      ]
    },
    {
      "cell_type": "code",
      "execution_count": null,
      "id": "ZWJ567ZHlg4l",
      "metadata": {
        "id": "ZWJ567ZHlg4l",
        "colab": {
          "base_uri": "https://localhost:8080/"
        },
        "outputId": "0e85c9fb-1917-4630-d2d0-41e8dd531efe"
      },
      "outputs": [
        {
          "output_type": "stream",
          "name": "stdout",
          "text": [
            "157/157 [==============================] - 0s 1ms/step\n",
            "1793/1793 [==============================] - 3s 2ms/step\n",
            "1377/1377 [==============================] - 2s 1ms/step\n",
            "85/85 [==============================] - 0s 2ms/step\n",
            "85/85 [==============================] - 0s 2ms/step\n"
          ]
        }
      ],
      "source": [
        "norm_hid_rep = hidden_representation.predict(x_norm[~index])\n",
        "st_hid_rep = hidden_representation.predict(x_st)\n",
        "qs_hid_rep = hidden_representation.predict(x_qs)\n",
        "lr_hid_rep = hidden_representation.predict(x_lr)\n",
        "hr_hid_rep = hidden_representation.predict(x_hr)"
      ]
    },
    {
      "cell_type": "code",
      "execution_count": null,
      "id": "9_4Ehb5Njk1S",
      "metadata": {
        "id": "9_4Ehb5Njk1S"
      },
      "outputs": [],
      "source": [
        "#This takes the hidden weights and applies to our testing data to attempt to classify\n",
        "\n",
        "rep_x = np.append(norm_hid_rep,qs_hid_rep, axis = 0)\n",
        "rep_x = np.append(rep_x, st_hid_rep, axis = 0)\n",
        "rep_x = np.append(rep_x, lr_hid_rep, axis = 0)\n",
        "rep_x = np.append(rep_x, hr_hid_rep, axis = 0)\n",
        "y_n = np.zeros(norm_hid_rep.shape[0])\n",
        "y_st = np.ones(st_hid_rep.shape[0])\n",
        "y_qs = np.full(qs_hid_rep.shape[0],2)\n",
        "y_lr = np.full(lr_hid_rep.shape[0],3)\n",
        "y_hr = np.full(hr_hid_rep.shape[0],4)\n",
        "\n",
        "\n",
        "\n",
        "rep_y = np.append(y_n,y_st, axis = 0)\n",
        "rep_y = np.append(rep_y,y_qs, axis = 0)\n",
        "rep_y = np.append(rep_y,y_lr, axis = 0)\n",
        "rep_y = np.append(rep_y,y_hr,axis = 0)"
      ]
    },
    {
      "cell_type": "code",
      "execution_count": null,
      "id": "3a4488c2",
      "metadata": {
        "id": "3a4488c2",
        "colab": {
          "base_uri": "https://localhost:8080/"
        },
        "outputId": "83243c6b-a8c7-4688-ffb8-c00dc776074d"
      },
      "outputs": [
        {
          "output_type": "execute_result",
          "data": {
            "text/plain": [
              "(111833,)"
            ]
          },
          "metadata": {},
          "execution_count": 23
        }
      ],
      "source": [
        "rep_y.shape"
      ]
    },
    {
      "cell_type": "markdown",
      "source": [
        "## Classification"
      ],
      "metadata": {
        "id": "nGL2uzwkv_ip"
      },
      "id": "nGL2uzwkv_ip"
    },
    {
      "cell_type": "code",
      "execution_count": null,
      "id": "jx4BLjfDllev",
      "metadata": {
        "id": "jx4BLjfDllev",
        "colab": {
          "base_uri": "https://localhost:8080/"
        },
        "outputId": "08182ed2-4d77-4966-83f6-2b3cf1ad1524"
      },
      "outputs": [
        {
          "output_type": "stream",
          "name": "stdout",
          "text": [
            "\n",
            "Classification Report: \n",
            "              precision    recall  f1-score   support\n",
            "\n",
            "         0.0       0.35      0.01      0.01      1224\n",
            "         1.0       0.85      0.92      0.88     14331\n",
            "         2.0       0.87      0.97      0.92     10990\n",
            "         3.0       0.92      0.17      0.29       698\n",
            "         4.0       0.00      0.00      0.00       716\n",
            "\n",
            "    accuracy                           0.86     27959\n",
            "   macro avg       0.60      0.41      0.42     27959\n",
            "weighted avg       0.82      0.86      0.82     27959\n",
            "\n",
            "\n",
            "Accuracy Score:  0.8577559998569334\n"
          ]
        },
        {
          "output_type": "stream",
          "name": "stderr",
          "text": [
            "/usr/local/lib/python3.9/dist-packages/sklearn/linear_model/_logistic.py:458: ConvergenceWarning: lbfgs failed to converge (status=1):\n",
            "STOP: TOTAL NO. of ITERATIONS REACHED LIMIT.\n",
            "\n",
            "Increase the number of iterations (max_iter) or scale the data as shown in:\n",
            "    https://scikit-learn.org/stable/modules/preprocessing.html\n",
            "Please also refer to the documentation for alternative solver options:\n",
            "    https://scikit-learn.org/stable/modules/linear_model.html#logistic-regression\n",
            "  n_iter_i = _check_optimize_result(\n",
            "/usr/local/lib/python3.9/dist-packages/sklearn/metrics/_classification.py:1344: UndefinedMetricWarning: Precision and F-score are ill-defined and being set to 0.0 in labels with no predicted samples. Use `zero_division` parameter to control this behavior.\n",
            "  _warn_prf(average, modifier, msg_start, len(result))\n",
            "/usr/local/lib/python3.9/dist-packages/sklearn/metrics/_classification.py:1344: UndefinedMetricWarning: Precision and F-score are ill-defined and being set to 0.0 in labels with no predicted samples. Use `zero_division` parameter to control this behavior.\n",
            "  _warn_prf(average, modifier, msg_start, len(result))\n",
            "/usr/local/lib/python3.9/dist-packages/sklearn/metrics/_classification.py:1344: UndefinedMetricWarning: Precision and F-score are ill-defined and being set to 0.0 in labels with no predicted samples. Use `zero_division` parameter to control this behavior.\n",
            "  _warn_prf(average, modifier, msg_start, len(result))\n"
          ]
        }
      ],
      "source": [
        "# LogisticRegression\n",
        "train_x, val_x, train_y, val_y = train_test_split(rep_x, rep_y, test_size=0.25)\n",
        "clf = LogisticRegression(solver=\"lbfgs\").fit(train_x, train_y)\n",
        "pred_y = clf.predict(val_x);\n",
        "\n",
        "print (\"\")\n",
        "print (\"Classification Report: \")\n",
        "print (classification_report(val_y, pred_y))\n",
        "\n",
        "print (\"\")\n",
        "print (\"Accuracy Score: \", accuracy_score(val_y, pred_y))"
      ]
    },
    {
      "cell_type": "code",
      "execution_count": null,
      "id": "W-2-5H5yaeBZ",
      "metadata": {
        "id": "W-2-5H5yaeBZ",
        "colab": {
          "base_uri": "https://localhost:8080/"
        },
        "outputId": "2c600c32-037d-47f3-906a-3af199f8c130"
      },
      "outputs": [
        {
          "output_type": "stream",
          "name": "stdout",
          "text": [
            "\n",
            "Classification Report: \n",
            "              precision    recall  f1-score   support\n",
            "\n",
            "         0.0       1.00      0.95      0.97      1216\n",
            "         1.0       1.00      1.00      1.00     14444\n",
            "         2.0       1.00      1.00      1.00     10940\n",
            "         3.0       1.00      1.00      1.00       656\n",
            "         4.0       1.00      1.00      1.00       703\n",
            "\n",
            "    accuracy                           1.00     27959\n",
            "   macro avg       1.00      0.99      0.99     27959\n",
            "weighted avg       1.00      1.00      1.00     27959\n",
            "\n",
            "\n",
            "Accuracy Score:  0.9977109338674488\n"
          ]
        }
      ],
      "source": [
        "# Random Forest\n",
        "from sklearn.ensemble import RandomForestClassifier\n",
        "from sklearn.model_selection import train_test_split\n",
        "from sklearn.model_selection import cross_val_score\n",
        "\n",
        "train_x, val_x, train_y, val_y = train_test_split(rep_x, rep_y, test_size=0.25)\n",
        "rf =RandomForestClassifier(n_estimators=10)\n",
        "rf.fit(train_x, train_y)\n",
        "pred_y = rf.predict(val_x);\n",
        "\n",
        "print (\"\")\n",
        "print (\"Classification Report: \")\n",
        "print (classification_report(val_y, pred_y))\n",
        "\n",
        "print (\"\")\n",
        "print (\"Accuracy Score: \", accuracy_score(val_y, pred_y))"
      ]
    },
    {
      "cell_type": "code",
      "source": [
        "# KNN \n",
        "from sklearn.neighbors import KNeighborsClassifier\n",
        "from sklearn.model_selection import cross_val_score\n",
        "import numpy as np\n",
        "\n",
        "train_x, val_x, train_y, val_y = train_test_split(rep_x, rep_y, test_size=0.25)\n",
        "knn = KNeighborsClassifier(n_neighbors = 10)\n",
        "knn.fit(train_x, train_y)\n",
        "pred_y = rf.predict(val_x);\n",
        "\n",
        "print (\"\")\n",
        "print (\"Classification Report: \")\n",
        "print (classification_report(val_y, pred_y))\n",
        "\n",
        "print (\"\")\n",
        "print (\"Accuracy Score: \", accuracy_score(val_y, pred_y))"
      ],
      "metadata": {
        "colab": {
          "base_uri": "https://localhost:8080/"
        },
        "id": "d_OrDhIUow8L",
        "outputId": "bcd2fff4-1f6a-4ae5-fc9a-d670db73bc65"
      },
      "id": "d_OrDhIUow8L",
      "execution_count": null,
      "outputs": [
        {
          "output_type": "stream",
          "name": "stdout",
          "text": [
            "\n",
            "Classification Report: \n",
            "              precision    recall  f1-score   support\n",
            "\n",
            "         0.0       1.00      0.99      0.99      1200\n",
            "         1.0       1.00      1.00      1.00     14374\n",
            "         2.0       1.00      1.00      1.00     11036\n",
            "         3.0       1.00      1.00      1.00       684\n",
            "         4.0       1.00      1.00      1.00       665\n",
            "\n",
            "    accuracy                           1.00     27959\n",
            "   macro avg       1.00      1.00      1.00     27959\n",
            "weighted avg       1.00      1.00      1.00     27959\n",
            "\n",
            "\n",
            "Accuracy Score:  0.999391966808541\n"
          ]
        }
      ]
    },
    {
      "cell_type": "code",
      "execution_count": null,
      "id": "HOY-TUKTaeEn",
      "metadata": {
        "id": "HOY-TUKTaeEn"
      },
      "outputs": [],
      "source": [
        "# SVM\n",
        "from sklearn import svm\n",
        "train_x, val_x, train_y, val_y = train_test_split(rep_x, rep_y, test_size=0.25)\n",
        "clf = svm.SVC(kernel='linear')\n",
        "clf.fit(train_x, train_y)\n",
        "pred_y = clf.predict(val_x);\n",
        "\n",
        "print (\"\")\n",
        "print (\"Classification Report: \")\n",
        "print (classification_report(val_y, pred_y))\n",
        "\n",
        "print (\"\")\n",
        "print (\"Accuracy Score: \", accuracy_score(val_y, pred_y))"
      ]
    },
    {
      "cell_type": "code",
      "source": [
        "# Naive Bayes\n",
        "from sklearn.naive_bayes import GaussianNB\n",
        "train_x, val_x, train_y, val_y = train_test_split(rep_x, rep_y, test_size=0.25)\n",
        "gnb = GaussianNB()\n",
        "gnb.fit(train_x, train_y)\n",
        "pred_y = clf.predict(val_x);\n",
        "\n",
        "print (\"\")\n",
        "print (\"Classification Report: \")\n",
        "print (classification_report(val_y, pred_y))\n",
        "\n",
        "print (\"\")\n",
        "print (\"Accuracy Score: \", accuracy_score(val_y, pred_y))"
      ],
      "metadata": {
        "id": "ncRXCOcapT7D",
        "colab": {
          "base_uri": "https://localhost:8080/"
        },
        "outputId": "aeb2115c-e0ab-4f4c-ad39-f84cd0500e9f"
      },
      "id": "ncRXCOcapT7D",
      "execution_count": null,
      "outputs": [
        {
          "output_type": "stream",
          "name": "stdout",
          "text": [
            "\n",
            "Classification Report: \n",
            "              precision    recall  f1-score   support\n",
            "\n",
            "         0.0       0.36      0.00      0.01      1287\n",
            "         1.0       0.85      0.92      0.88     14260\n",
            "         2.0       0.87      0.97      0.91     11041\n",
            "         3.0       0.94      0.18      0.30       683\n",
            "         4.0       0.00      0.00      0.00       688\n",
            "\n",
            "    accuracy                           0.86     27959\n",
            "   macro avg       0.60      0.41      0.42     27959\n",
            "weighted avg       0.81      0.86      0.82     27959\n",
            "\n",
            "\n",
            "Accuracy Score:  0.8557173003326299\n"
          ]
        }
      ]
    },
    {
      "cell_type": "markdown",
      "source": [
        "## Testing the classification w/o autoencoder"
      ],
      "metadata": {
        "id": "Duw8nKcx33CZ"
      },
      "id": "Duw8nKcx33CZ"
    },
    {
      "cell_type": "code",
      "execution_count": null,
      "id": "6ad8e8d3",
      "metadata": {
        "id": "6ad8e8d3",
        "colab": {
          "base_uri": "https://localhost:8080/"
        },
        "outputId": "121f9f37-28e3-42a1-c886-6b65477f1956"
      },
      "outputs": [
        {
          "output_type": "stream",
          "name": "stderr",
          "text": [
            "/usr/local/lib/python3.9/dist-packages/sklearn/linear_model/_logistic.py:458: ConvergenceWarning: lbfgs failed to converge (status=1):\n",
            "STOP: TOTAL NO. of ITERATIONS REACHED LIMIT.\n",
            "\n",
            "Increase the number of iterations (max_iter) or scale the data as shown in:\n",
            "    https://scikit-learn.org/stable/modules/preprocessing.html\n",
            "Please also refer to the documentation for alternative solver options:\n",
            "    https://scikit-learn.org/stable/modules/linear_model.html#logistic-regression\n",
            "  n_iter_i = _check_optimize_result(\n"
          ]
        },
        {
          "output_type": "stream",
          "name": "stdout",
          "text": [
            "\n",
            "Classification Report: \n",
            "              precision    recall  f1-score   support\n",
            "\n",
            "           0       0.95      1.00      0.97    515483\n",
            "           1       0.00      0.00      0.00     14266\n",
            "           2       0.24      0.00      0.01     11020\n",
            "           3       0.00      0.00      0.00       707\n",
            "           4       0.00      0.00      0.00       655\n",
            "\n",
            "    accuracy                           0.95    542131\n",
            "   macro avg       0.24      0.20      0.20    542131\n",
            "weighted avg       0.91      0.95      0.93    542131\n",
            "\n",
            "\n",
            "Accuracy Score:  0.9498313138337413\n"
          ]
        }
      ],
      "source": [
        "# LogisticRegression\n",
        "train_x, val_x, train_y, val_y = train_test_split(X, Y, test_size=0.25)\n",
        "clf = LogisticRegression(solver=\"lbfgs\").fit(train_x, train_y)\n",
        "pred_y = clf.predict(val_x);\n",
        "\n",
        "print (\"\")\n",
        "print (\"Classification Report: \")\n",
        "print (classification_report(val_y, pred_y))\n",
        "\n",
        "print (\"\")\n",
        "print (\"Accuracy Score: \", accuracy_score(val_y, pred_y))"
      ]
    },
    {
      "cell_type": "code",
      "source": [
        "# Random Forest\n",
        "from sklearn.ensemble import RandomForestClassifier\n",
        "from sklearn.model_selection import train_test_split\n",
        "from sklearn.model_selection import cross_val_score\n",
        "\n",
        "train_x, val_x, train_y, val_y = train_test_split(X, Y, test_size=0.25)\n",
        "rf =RandomForestClassifier(n_estimators=10)\n",
        "rf.fit(train_x, train_y)\n",
        "pred_y = rf.predict(val_x);\n",
        "\n",
        "print (\"\")\n",
        "print (\"Classification Report: \")\n",
        "print (classification_report(val_y, pred_y))\n",
        "\n",
        "print (\"\")\n",
        "print (\"Accuracy Score: \", accuracy_score(val_y, pred_y))"
      ],
      "metadata": {
        "colab": {
          "base_uri": "https://localhost:8080/"
        },
        "id": "PzqHZ6QD3rsQ",
        "outputId": "2b7d351b-fbc3-42f3-a8fd-78d93bd4f978"
      },
      "id": "PzqHZ6QD3rsQ",
      "execution_count": null,
      "outputs": [
        {
          "output_type": "stream",
          "name": "stdout",
          "text": [
            "\n",
            "Classification Report: \n",
            "              precision    recall  f1-score   support\n",
            "\n",
            "           0       1.00      1.00      1.00    515450\n",
            "           1       1.00      1.00      1.00     14315\n",
            "           2       1.00      0.99      1.00     11028\n",
            "           3       1.00      1.00      1.00       694\n",
            "           4       1.00      1.00      1.00       644\n",
            "\n",
            "    accuracy                           1.00    542131\n",
            "   macro avg       1.00      1.00      1.00    542131\n",
            "weighted avg       1.00      1.00      1.00    542131\n",
            "\n",
            "\n",
            "Accuracy Score:  0.9998266101735558\n"
          ]
        }
      ]
    },
    {
      "cell_type": "code",
      "source": [
        "# KNN \n",
        "from sklearn.neighbors import KNeighborsClassifier\n",
        "from sklearn.model_selection import cross_val_score\n",
        "import numpy as np\n",
        "\n",
        "train_x, val_x, train_y, val_y = train_test_split(X, Y, test_size=0.25)\n",
        "knn = KNeighborsClassifier(n_neighbors = 10)\n",
        "knn.fit(train_x, train_y)\n",
        "pred_y = rf.predict(val_x);\n",
        "\n",
        "print (\"\")\n",
        "print (\"Classification Report: \")\n",
        "print (classification_report(val_y, pred_y))\n",
        "\n",
        "print (\"\")\n",
        "print (\"Accuracy Score: \", accuracy_score(val_y, pred_y))"
      ],
      "metadata": {
        "colab": {
          "base_uri": "https://localhost:8080/"
        },
        "id": "wct09TvX4f7h",
        "outputId": "320319ca-5596-48d4-bbc9-37289b59bd02"
      },
      "id": "wct09TvX4f7h",
      "execution_count": null,
      "outputs": [
        {
          "output_type": "stream",
          "name": "stdout",
          "text": [
            "\n",
            "Classification Report: \n",
            "              precision    recall  f1-score   support\n",
            "\n",
            "           0       1.00      1.00      1.00    515352\n",
            "           1       1.00      1.00      1.00     14406\n",
            "           2       1.00      1.00      1.00     11010\n",
            "           3       1.00      1.00      1.00       696\n",
            "           4       1.00      1.00      1.00       667\n",
            "\n",
            "    accuracy                           1.00    542131\n",
            "   macro avg       1.00      1.00      1.00    542131\n",
            "weighted avg       1.00      1.00      1.00    542131\n",
            "\n",
            "\n",
            "Accuracy Score:  0.9999372845308606\n"
          ]
        }
      ]
    },
    {
      "cell_type": "code",
      "source": [
        "# SVM\n",
        "from sklearn import svm\n",
        "train_x, val_x, train_y, val_y = train_test_split(X, Y, test_size=0.25)\n",
        "clf = svm.SVC(kernel='linear')\n",
        "clf.fit(train_x, train_y)\n",
        "pred_y = clf.predict(val_x);\n",
        "\n",
        "print (\"\")\n",
        "print (\"Classification Report: \")\n",
        "print (classification_report(val_y, pred_y))\n",
        "\n",
        "print (\"\")\n",
        "print (\"Accuracy Score: \", accuracy_score(val_y, pred_y))"
      ],
      "metadata": {
        "id": "P4n95PqZ4gZ_"
      },
      "id": "P4n95PqZ4gZ_",
      "execution_count": null,
      "outputs": []
    },
    {
      "cell_type": "code",
      "source": [
        "# Naive Bayes\n",
        "from sklearn.naive_bayes import GaussianNB\n",
        "train_x, val_x, train_y, val_y = train_test_split(X, Y, test_size=0.25)\n",
        "gnb = GaussianNB()\n",
        "gnb.fit(train_x, train_y)\n",
        "pred_y = gnb.predict(val_x);\n",
        "\n",
        "print (\"\")\n",
        "print (\"Classification Report: \")\n",
        "print (classification_report(val_y, pred_y))\n",
        "\n",
        "print (\"\")\n",
        "print (\"Accuracy Score: \", accuracy_score(val_y, pred_y))"
      ],
      "metadata": {
        "id": "PfYsu20Q4yT4",
        "colab": {
          "base_uri": "https://localhost:8080/"
        },
        "outputId": "3a0d6a4d-1e46-49e5-b662-d7614ea38d0c"
      },
      "id": "PfYsu20Q4yT4",
      "execution_count": null,
      "outputs": [
        {
          "output_type": "stream",
          "name": "stdout",
          "text": [
            "\n",
            "Classification Report: \n",
            "              precision    recall  f1-score   support\n",
            "\n",
            "           0       0.98      0.89      0.93    515505\n",
            "           1       0.17      0.74      0.28     14252\n",
            "           2       0.50      0.26      0.34     11031\n",
            "           3       0.24      0.98      0.39       649\n",
            "           4       0.92      0.98      0.95       694\n",
            "\n",
            "    accuracy                           0.88    542131\n",
            "   macro avg       0.56      0.77      0.58    542131\n",
            "weighted avg       0.95      0.88      0.90    542131\n",
            "\n",
            "\n",
            "Accuracy Score:  0.8757864796515972\n"
          ]
        }
      ]
    },
    {
      "cell_type": "code",
      "source": [
        "val_y.shape"
      ],
      "metadata": {
        "id": "7AER9RqEc32R",
        "colab": {
          "base_uri": "https://localhost:8080/"
        },
        "outputId": "4eb0816d-ffee-407e-f668-8211ed685bdb"
      },
      "id": "7AER9RqEc32R",
      "execution_count": null,
      "outputs": [
        {
          "output_type": "execute_result",
          "data": {
            "text/plain": [
              "(542131,)"
            ]
          },
          "metadata": {},
          "execution_count": 33
        }
      ]
    },
    {
      "cell_type": "code",
      "source": [],
      "metadata": {
        "id": "thfd3HDRc3-x"
      },
      "id": "thfd3HDRc3-x",
      "execution_count": null,
      "outputs": []
    },
    {
      "cell_type": "markdown",
      "source": [
        "## Testing physics dataset w/o autoencoder"
      ],
      "metadata": {
        "id": "Wz4jSxS9dW66"
      },
      "id": "Wz4jSxS9dW66"
    },
    {
      "cell_type": "code",
      "source": [
        "dfphy = pd.read_csv('SimData_all4_label_drPhy.csv')"
      ],
      "metadata": {
        "id": "s3ODb-LC5O9H"
      },
      "id": "s3ODb-LC5O9H",
      "execution_count": null,
      "outputs": []
    },
    {
      "cell_type": "code",
      "source": [
        "# Feature Scaling for dfphy only, rerun with each new algorithm\n",
        "from sklearn.preprocessing import StandardScaler\n",
        "train_x, val_x, train_y, val_y = train_test_split(X, Y, test_size=0.25)\n",
        "sc = StandardScaler()\n",
        "train_x = sc.fit_transform(train_x)\n",
        "val_x = sc.transform(val_x)"
      ],
      "metadata": {
        "id": "a6eBQVy1c4Bc"
      },
      "id": "a6eBQVy1c4Bc",
      "execution_count": null,
      "outputs": []
    },
    {
      "cell_type": "code",
      "source": [
        "# LogisticRegression\n",
        "# train_x, val_x, train_y, val_y = train_test_split(X, Y, test_size=0.25)\n",
        "clf = LogisticRegression(solver=\"lbfgs\").fit(train_x, train_y)\n",
        "pred_y = clf.predict(val_x)\n",
        "\n",
        "print (\"\")\n",
        "print (\"Classification Report: \")\n",
        "print (classification_report(val_y, pred_y))\n",
        "\n",
        "print (\"\")\n",
        "print (\"Accuracy Score: \", accuracy_score(val_y, pred_y))"
      ],
      "metadata": {
        "id": "HSohiZMac4EZ"
      },
      "id": "HSohiZMac4EZ",
      "execution_count": null,
      "outputs": []
    },
    {
      "cell_type": "code",
      "source": [
        "# Random Forest\n",
        "from sklearn.ensemble import RandomForestClassifier\n",
        "from sklearn.model_selection import train_test_split\n",
        "from sklearn.model_selection import cross_val_score\n",
        "\n",
        "# train_x, val_x, train_y, val_y = train_test_split(X, Y, test_size=0.25)\n",
        "rf =RandomForestClassifier(n_estimators=10)\n",
        "rf.fit(train_x, train_y)\n",
        "pred_y = rf.predict(val_x);\n",
        "\n",
        "print (\"\")\n",
        "print (\"Classification Report: \")\n",
        "print (classification_report(val_y, pred_y))\n",
        "\n",
        "print (\"\")\n",
        "print (\"Accuracy Score: \", accuracy_score(val_y, pred_y))"
      ],
      "metadata": {
        "id": "M6N6-EiYc4G5"
      },
      "id": "M6N6-EiYc4G5",
      "execution_count": null,
      "outputs": []
    },
    {
      "cell_type": "code",
      "source": [
        "# KNN \n",
        "from sklearn.neighbors import KNeighborsClassifier\n",
        "from sklearn.model_selection import cross_val_score\n",
        "import numpy as np\n",
        "\n",
        "train_x, val_x, train_y, val_y = train_test_split(X, Y, test_size=0.25)\n",
        "knn = KNeighborsClassifier(n_neighbors = 10)\n",
        "knn.fit(train_x, train_y)\n",
        "pred_y = rf.predict(val_x);\n",
        "\n",
        "print (\"\")\n",
        "print (\"Classification Report: \")\n",
        "print (classification_report(val_y, pred_y))\n",
        "\n",
        "print (\"\")\n",
        "print (\"Accuracy Score: \", accuracy_score(val_y, pred_y))"
      ],
      "metadata": {
        "id": "1FFqGiYsc4KR"
      },
      "id": "1FFqGiYsc4KR",
      "execution_count": null,
      "outputs": []
    },
    {
      "cell_type": "code",
      "source": [
        "# SVM\n",
        "from sklearn import svm\n",
        "# train_x, val_x, train_y, val_y = train_test_split(X, Y, test_size=0.25)\n",
        "clf = svm.SVC(kernel='linear')\n",
        "clf.fit(train_x, train_y)\n",
        "pred_y = clf.predict(val_x);\n",
        "\n",
        "print (\"\")\n",
        "print (\"Classification Report: \")\n",
        "print (classification_report(val_y, pred_y))\n",
        "\n",
        "print (\"\")\n",
        "print (\"Accuracy Score: \", accuracy_score(val_y, pred_y))"
      ],
      "metadata": {
        "id": "Uwl_3ZiYdgcu"
      },
      "id": "Uwl_3ZiYdgcu",
      "execution_count": null,
      "outputs": []
    },
    {
      "cell_type": "code",
      "source": [
        "# Naive Bayes\n",
        "from sklearn.naive_bayes import GaussianNB\n",
        "# train_x, val_x, train_y, val_y = train_test_split(X, Y, test_size=0.25)\n",
        "gnb = GaussianNB()\n",
        "gnb.fit(train_x, train_y)\n",
        "pred_y = gnb.predict(val_x);\n",
        "\n",
        "print (\"\")\n",
        "print (\"Classification Report: \")\n",
        "print (classification_report(val_y, pred_y))\n",
        "\n",
        "print (\"\")\n",
        "print (\"Accuracy Score: \", accuracy_score(val_y, pred_y))"
      ],
      "metadata": {
        "id": "f4kO1yY_dkIC",
        "colab": {
          "base_uri": "https://localhost:8080/"
        },
        "outputId": "ec9c9348-b209-4f8a-9fb4-d440f8124e76"
      },
      "id": "f4kO1yY_dkIC",
      "execution_count": null,
      "outputs": [
        {
          "output_type": "stream",
          "name": "stdout",
          "text": [
            "\n",
            "Classification Report: \n",
            "              precision    recall  f1-score   support\n",
            "\n",
            "           0       0.98      0.89      0.93    515505\n",
            "           1       0.17      0.74      0.28     14252\n",
            "           2       0.50      0.26      0.34     11031\n",
            "           3       0.24      0.98      0.39       649\n",
            "           4       0.92      0.98      0.95       694\n",
            "\n",
            "    accuracy                           0.88    542131\n",
            "   macro avg       0.56      0.77      0.58    542131\n",
            "weighted avg       0.95      0.88      0.90    542131\n",
            "\n",
            "\n",
            "Accuracy Score:  0.8757864796515972\n"
          ]
        }
      ]
    },
    {
      "cell_type": "code",
      "source": [],
      "metadata": {
        "id": "jjqays8BLAYp"
      },
      "id": "jjqays8BLAYp",
      "execution_count": null,
      "outputs": []
    }
  ],
  "metadata": {
    "colab": {
      "provenance": []
    },
    "kernelspec": {
      "display_name": "Python 3",
      "language": "python",
      "name": "python3"
    },
    "language_info": {
      "codemirror_mode": {
        "name": "ipython",
        "version": 3
      },
      "file_extension": ".py",
      "mimetype": "text/x-python",
      "name": "python",
      "nbconvert_exporter": "python",
      "pygments_lexer": "ipython3",
      "version": "3.8.8"
    }
  },
  "nbformat": 4,
  "nbformat_minor": 5
}